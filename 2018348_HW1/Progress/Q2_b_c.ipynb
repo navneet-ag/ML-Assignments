{
 "cells": [
  {
   "cell_type": "code",
   "execution_count": 1,
   "metadata": {},
   "outputs": [],
   "source": [
    "import numpy as np\n",
    "import pandas as pd\n",
    "import pickle\n",
    "from sklearn.linear_model import LogisticRegression\n",
    "from sklearn.metrics import roc_curve\n",
    "import matplotlib.pyplot as plt"
   ]
  },
  {
   "cell_type": "code",
   "execution_count": 2,
   "metadata": {},
   "outputs": [],
   "source": [
    "def model_accuracy(Y_orig, Y_pred):\n",
    "    \"\"\"\n",
    "    Y_orig : 1-d array containing orignal labels \n",
    "    Y_pred : 1-d array containing predicted labels\n",
    "    \n",
    "    This function takes input the original and predicted labels and return the\n",
    "    accuracy for the predictions\n",
    "    \"\"\"\n",
    "    numerator = 0\n",
    "    for i in range(len(Y_orig)):\n",
    "        if(Y_orig[i] == Y_pred[i]):\n",
    "            numerator += 1\n",
    "    \n",
    "    return(numerator/len(Y_pred))\n",
    "\n",
    "def multiclass_accuracy(Y_orig, Y_pred):\n",
    "    \"\"\"\n",
    "    Y_orig : 1-d array containing orignal labels \n",
    "    Y_pred : 1-d array containing predicted labels\n",
    "    \n",
    "    This function takes input the original and predicted labels and return the\n",
    "    accuracy for the one-vs-rest approach for each of the predicted classes.\n",
    "    \n",
    "    For any class following process is carried out:\n",
    "        Take the class for which accuracy has to reported as positive class.\n",
    "        Every other class is combined to become negative class.\n",
    "        Calculate true positives and true negatives considering the classes defined above.\n",
    "        Accuracy is give by : (True positive + True Negative)/Total No. of data points in data\n",
    "\n",
    "    \"\"\"\n",
    "\n",
    "    no_classes = len(np.unique(Y_orig))\n",
    "    accuracy_dict = {}\n",
    "    accuracy_list = []\n",
    "    for label in range(no_classes):\n",
    "        numerator = 0\n",
    "        \n",
    "        for index in range(len(Y_orig)):\n",
    "            if(Y_orig[index] == Y_pred[index] and Y_pred[index] == label):\n",
    "                numerator += 1\n",
    "\n",
    "            if(Y_orig[index] != label and Y_pred[index] != label):\n",
    "                numerator += 1\n",
    "                \n",
    "                \n",
    "        accuracy_dict[label] = numerator/len(Y_orig)\n",
    "        accuracy_list.append(numerator/len(Y_orig))\n",
    "        \n",
    "    for i in accuracy_dict:\n",
    "        print(\"Class \",i,\" : \",accuracy_dict[i])\n",
    "    \n",
    "    print(\"Average accuracy: \",np.array(accuracy_list).mean())\n",
    "    return(model_accuracy(Y_orig, Y_pred))\n"
   ]
  },
  {
   "cell_type": "code",
   "execution_count": 3,
   "metadata": {},
   "outputs": [],
   "source": [
    "#Loading the MNIST dataset\n",
    "train_data = pickle.load(open(\"MNIST_dataset/train_set.pkl\",\"rb\"))\n",
    "test_data = pickle.load(open(\"MNIST_dataset/test_set.pkl\",\"rb\"))"
   ]
  },
  {
   "cell_type": "code",
   "execution_count": 4,
   "metadata": {},
   "outputs": [],
   "source": [
    "X_temp_train = np.array(train_data.Image)\n",
    "Y_train = np.array(train_data.Labels)\n",
    "\n",
    "X_temp_test = np.array(test_data.Image)\n",
    "Y_test = np.array(test_data.Labels)\n",
    "\n",
    "# 784 represent 28*28\n",
    "# Since originally the data was in a image dataype\n",
    "# when we converted image type to numpy array we got a 2d array of shape (28,28)\n",
    "# since in case of logistic regression every data point should be represented by a single vector\n",
    "# the below process was carried out"
   ]
  },
  {
   "cell_type": "code",
   "execution_count": 5,
   "metadata": {},
   "outputs": [],
   "source": [
    "X_train = np.zeros((len(X_temp_train),784))\n",
    "X_test  = np.zeros((len(X_temp_test),784))"
   ]
  },
  {
   "cell_type": "code",
   "execution_count": 6,
   "metadata": {},
   "outputs": [],
   "source": [
    "for i in range(len(X_train)):\n",
    "    X_train[i] = np.reshape(np.array(X_temp_train[i]),[1,784])[0]\n",
    "    \n",
    "for i in range(len(X_test)):\n",
    "    X_test[i] = np.reshape(np.array(X_temp_test[i]),[1,784])[0]"
   ]
  },
  {
   "cell_type": "code",
   "execution_count": 7,
   "metadata": {},
   "outputs": [
    {
     "data": {
      "text/plain": [
       "(10000, 784)"
      ]
     },
     "execution_count": 7,
     "metadata": {},
     "output_type": "execute_result"
    }
   ],
   "source": [
    "#shape of flattened X-train\n",
    "X_train.shape"
   ]
  },
  {
   "cell_type": "code",
   "execution_count": 8,
   "metadata": {},
   "outputs": [
    {
     "data": {
      "text/plain": [
       "(2000,)"
      ]
     },
     "execution_count": 8,
     "metadata": {},
     "output_type": "execute_result"
    }
   ],
   "source": [
    "#shape of flattened X-train\n",
    "Y_test.shape"
   ]
  },
  {
   "cell_type": "code",
   "execution_count": 9,
   "metadata": {},
   "outputs": [],
   "source": [
    "def select_reg(regulaiser = \"l2\"):\n",
    "    \"\"\"\n",
    "    This function takes regulariser as input.\n",
    "    And uses the logisitic regression with one-vs-rest approach to predict the class labels\n",
    "    It also returns the trained model instance.\n",
    "    \n",
    "    Here X_train, X_test, Y_train and Y_test are global variables\n",
    "    \"\"\"\n",
    "    \n",
    "    model = LogisticRegression(penalty = regulaiser,random_state=0,max_iter = 1000,multi_class= \"ovr\",C=0.1,solver=\"liblinear\",verbose=5)\n",
    "\n",
    "    model.fit(X_train,Y_train)\n",
    "\n",
    "    Y_train_predict = model.predict(X_train)\n",
    "    print(\"\\n \\n ****************\")\n",
    "    print(\"Training Accuracy for each class : \"+regulaiser.upper()+\" regularization\")\n",
    "    avg_train_acc = multiclass_accuracy(Y_train,Y_train_predict)\n",
    "\n",
    "    Y_test_predict = model.predict(X_test)\n",
    "    print(\"\\n \\n ****************\")\n",
    "    print(\"Testing Accuracy for each class : \"+regulaiser.upper()+\" regularization\")\n",
    "    avg_test_acc = multiclass_accuracy(Y_test,Y_test_predict)\n",
    "\n",
    "    print(\"\\n \\n ****************\")\n",
    "    print(\"In \"+regulaiser.upper() + \" Model accuracy for\")\n",
    "    print(\"Training :\", avg_train_acc)\n",
    "    print(\"Testing  :\",avg_test_acc)\n",
    "    \n",
    "    return model"
   ]
  },
  {
   "cell_type": "markdown",
   "metadata": {},
   "source": [
    "### L1 Regularization"
   ]
  },
  {
   "cell_type": "code",
   "execution_count": 10,
   "metadata": {},
   "outputs": [
    {
     "name": "stdout",
     "output_type": "stream",
     "text": [
      "[LibLinear]\n",
      " \n",
      " ****************\n",
      "Training Accuracy for each class : L1 regularization\n",
      "Class  0  :  0.9994\n",
      "Class  1  :  0.9994\n",
      "Class  2  :  0.9942\n",
      "Class  3  :  0.9917\n",
      "Class  4  :  0.9986\n",
      "Class  5  :  0.993\n",
      "Class  6  :  0.9991\n",
      "Class  7  :  0.9983\n",
      "Class  8  :  0.9909\n",
      "Class  9  :  0.9936\n",
      "Average accuracy:  0.9958200000000001\n",
      "\n",
      " \n",
      " ****************\n",
      "Testing Accuracy for each class : L1 regularization\n",
      "Class  0  :  0.9855\n",
      "Class  1  :  0.9865\n",
      "Class  2  :  0.9695\n",
      "Class  3  :  0.966\n",
      "Class  4  :  0.971\n",
      "Class  5  :  0.959\n",
      "Class  6  :  0.98\n",
      "Class  7  :  0.97\n",
      "Class  8  :  0.954\n",
      "Class  9  :  0.9625\n",
      "Average accuracy:  0.9704\n",
      "\n",
      " \n",
      " ****************\n",
      "In L1 Model accuracy for\n",
      "Training : 0.9791\n",
      "Testing  : 0.852\n"
     ]
    }
   ],
   "source": [
    "l1_model = select_reg(\"l1\")"
   ]
  },
  {
   "cell_type": "markdown",
   "metadata": {},
   "source": [
    "### L2 Regularization"
   ]
  },
  {
   "cell_type": "code",
   "execution_count": 11,
   "metadata": {},
   "outputs": [
    {
     "name": "stdout",
     "output_type": "stream",
     "text": [
      "[LibLinear]\n",
      " \n",
      " ****************\n",
      "Training Accuracy for each class : L2 regularization\n",
      "Class  0  :  0.9998\n",
      "Class  1  :  1.0\n",
      "Class  2  :  0.9946\n",
      "Class  3  :  0.9919\n",
      "Class  4  :  0.9999\n",
      "Class  5  :  0.9941\n",
      "Class  6  :  1.0\n",
      "Class  7  :  0.9998\n",
      "Class  8  :  0.9919\n",
      "Class  9  :  0.9956\n",
      "Average accuracy:  0.9967599999999999\n",
      "\n",
      " \n",
      " ****************\n",
      "Testing Accuracy for each class : L2 regularization\n",
      "Class  0  :  0.9845\n",
      "Class  1  :  0.9855\n",
      "Class  2  :  0.962\n",
      "Class  3  :  0.96\n",
      "Class  4  :  0.9665\n",
      "Class  5  :  0.956\n",
      "Class  6  :  0.9755\n",
      "Class  7  :  0.965\n",
      "Class  8  :  0.9475\n",
      "Class  9  :  0.9555\n",
      "Average accuracy:  0.9658000000000001\n",
      "\n",
      " \n",
      " ****************\n",
      "In L2 Model accuracy for\n",
      "Training : 0.9838\n",
      "Testing  : 0.829\n"
     ]
    }
   ],
   "source": [
    "l2_model = select_reg(\"l2\")"
   ]
  },
  {
   "cell_type": "code",
   "execution_count": 39,
   "metadata": {},
   "outputs": [],
   "source": [
    "def roc_curve_func(l2_model_,X_test_,Y_test_,file_name):\n",
    "    \"\"\"\n",
    "    l2_model_ : Trained Model\n",
    "    X_test_   : Independent Data\n",
    "    Y_test_   : Dependent Data\n",
    "    file_name : Name of the file which will be used to save the plot\n",
    "    \n",
    "    This function takes the trained model, X and Y as input for which ROC curve has to be plotted.\n",
    "    \n",
    "    The ROC curve for every class is plotted using this function\n",
    "    \"\"\"\n",
    "    roc_score_dict = {}\n",
    "    l2_predicted_probab = l2_model_.predict_proba(X_test_)\n",
    "    for i in range(10):\n",
    "    #     print(\"\\n \\n ****************\")\n",
    "    #     print(\"Iteration number :\",i)\n",
    "\n",
    "        temp_y_test = np.copy(Y_test_)\n",
    "\n",
    "        temp_y_test[temp_y_test == i] = 10   \n",
    "        temp_y_test[temp_y_test != 10] = 0\n",
    "\n",
    "        temp_y_test[temp_y_test == 10] = 1\n",
    "\n",
    "    #     print(pd.DataFrame(temp_y_test).value_counts())\n",
    "\n",
    "        cur_score = l2_predicted_probab[:,i]\n",
    "        roc_score_dict[i] = roc_curve(temp_y_test,cur_score)\n",
    "\n",
    "    plt.figure(figsize=(12,12))\n",
    "    plt.plot(roc_score_dict[0][0],roc_score_dict[0][1],label=\"Class 0\")\n",
    "    plt.plot(roc_score_dict[1][0],roc_score_dict[1][1],label=\"Class 1\")\n",
    "    plt.plot(roc_score_dict[2][0],roc_score_dict[2][1],label=\"Class 2\")\n",
    "    plt.plot(roc_score_dict[3][0],roc_score_dict[3][1],label=\"Class 3\")\n",
    "    plt.plot(roc_score_dict[4][0],roc_score_dict[4][1],label=\"Class 4\")\n",
    "    plt.plot(roc_score_dict[5][0],roc_score_dict[5][1],label=\"Class 5\")\n",
    "    plt.plot(roc_score_dict[6][0],roc_score_dict[6][1],label=\"Class 6\")\n",
    "    plt.plot(roc_score_dict[7][0],roc_score_dict[7][1],label=\"Class 7\")\n",
    "    plt.plot(roc_score_dict[8][0],roc_score_dict[8][1],label=\"Class 8\")\n",
    "    plt.plot(roc_score_dict[9][0],roc_score_dict[9][1],label=\"Class 9\")\n",
    "    plt.xlabel('False Positive Rate')\n",
    "    plt.ylabel('True Positive Rate')\n",
    "    plt.legend()\n",
    "#     plt.show()\n",
    "    plt.savefig(file_name)"
   ]
  },
  {
   "cell_type": "markdown",
   "metadata": {},
   "source": [
    "### ROC curve for training data"
   ]
  },
  {
   "cell_type": "code",
   "execution_count": 40,
   "metadata": {},
   "outputs": [
    {
     "data": {
      "image/png": "[encoded data removed]",
      "text/plain": [
       "<Figure size 864x864 with 1 Axes>"
      ]
     },
     "metadata": {
      "needs_background": "light"
     },
     "output_type": "display_data"
    }
   ],
   "source": [
    "roc_curve_func(l2_model,X_train,Y_train,'2c_train_roc.png')"
   ]
  },
  {
   "cell_type": "markdown",
   "metadata": {},
   "source": [
    "### ROC curve for testing data"
   ]
  },
  {
   "cell_type": "code",
   "execution_count": 41,
   "metadata": {},
   "outputs": [
    {
     "data": {
      "image/png": "[encoded data removed]",
      "text/plain": [
       "<Figure size 864x864 with 1 Axes>"
      ]
     },
     "metadata": {
      "needs_background": "light"
     },
     "output_type": "display_data"
    }
   ],
   "source": [
    "roc_curve_func(l2_model,X_test,Y_test,'2c_test_roc.png')"
   ]
  },
  {
   "cell_type": "code",
   "execution_count": null,
   "metadata": {},
   "outputs": [],
   "source": []
  }
 ],
 "metadata": {
  "kernelspec": {
   "display_name": "Python 3",
   "language": "python",
   "name": "python3"
  },
  "language_info": {
   "codemirror_mode": {
    "name": "ipython",
    "version": 3
   },
   "file_extension": ".py",
   "mimetype": "text/x-python",
   "name": "python",
   "nbconvert_exporter": "python",
   "pygments_lexer": "ipython3",
   "version": "3.8.5"
  }
 },
 "nbformat": 4,
 "nbformat_minor": 4
}
