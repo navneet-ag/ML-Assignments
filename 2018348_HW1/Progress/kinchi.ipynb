{
 "cells": [
  {
   "cell_type": "code",
   "execution_count": 1,
   "metadata": {},
   "outputs": [],
   "source": [
    "import pandas as pd\n",
    "import numpy as np\n",
    "import random\n",
    "import matplotlib.pyplot as plt \n",
    "from sklearn.linear_model import Ridge\n",
    "\n",
    "from numpy import arange\n"
   ]
  },
  {
   "cell_type": "markdown",
   "metadata": {},
   "source": [
    "### Data read"
   ]
  },
  {
   "cell_type": "code",
   "execution_count": 2,
   "metadata": {},
   "outputs": [],
   "source": [
    "data=pd.read_csv('Dataset.data', sep=\" \",header=None)\n",
    "data.columns=[\"sex\",\"length\",\"diameter\",\"height\",\"whole_weight\",\"shucked_weight\",\"viscera_weight\",\"shell_weight\",\"rings\"]"
   ]
  },
  {
   "cell_type": "code",
   "execution_count": 3,
   "metadata": {},
   "outputs": [
    {
     "name": "stdout",
     "output_type": "stream",
     "text": [
      "  sex  length  diameter  height  whole_weight  shucked_weight  viscera_weight  \\\n",
      "0   M   0.455     0.365   0.095        0.5140          0.2245          0.1010   \n",
      "1   M   0.350     0.265   0.090        0.2255          0.0995          0.0485   \n",
      "2   F   0.530     0.420   0.135        0.6770          0.2565          0.1415   \n",
      "3   M   0.440     0.365   0.125        0.5160          0.2155          0.1140   \n",
      "4   I   0.330     0.255   0.080        0.2050          0.0895          0.0395   \n",
      "\n",
      "   shell_weight  rings  \n",
      "0         0.150     15  \n",
      "1         0.070      7  \n",
      "2         0.210      9  \n",
      "3         0.155     10  \n",
      "4         0.055      7  \n",
      "Number of rows 4177\n"
     ]
    }
   ],
   "source": [
    "print(data.head())\n",
    "print(\"Number of rows\",len(data))\n"
   ]
  },
  {
   "cell_type": "markdown",
   "metadata": {},
   "source": [
    "### Data Preprocessing"
   ]
  },
  {
   "cell_type": "code",
   "execution_count": 4,
   "metadata": {},
   "outputs": [
    {
     "data": {
      "text/plain": [
       "False"
      ]
     },
     "execution_count": 4,
     "metadata": {},
     "output_type": "execute_result"
    }
   ],
   "source": [
    "data.isnull().values.any() ##check for null values"
   ]
  },
  {
   "cell_type": "code",
   "execution_count": 5,
   "metadata": {},
   "outputs": [
    {
     "data": {
      "text/html": [
       "<div>\n",
       "<style scoped>\n",
       "    .dataframe tbody tr th:only-of-type {\n",
       "        vertical-align: middle;\n",
       "    }\n",
       "\n",
       "    .dataframe tbody tr th {\n",
       "        vertical-align: top;\n",
       "    }\n",
       "\n",
       "    .dataframe thead th {\n",
       "        text-align: right;\n",
       "    }\n",
       "</style>\n",
       "<table border=\"1\" class=\"dataframe\">\n",
       "  <thead>\n",
       "    <tr style=\"text-align: right;\">\n",
       "      <th></th>\n",
       "      <th>sex_F</th>\n",
       "      <th>sex_I</th>\n",
       "      <th>sex_M</th>\n",
       "      <th>length</th>\n",
       "      <th>diameter</th>\n",
       "      <th>height</th>\n",
       "      <th>whole_weight</th>\n",
       "      <th>shucked_weight</th>\n",
       "      <th>viscera_weight</th>\n",
       "      <th>shell_weight</th>\n",
       "      <th>rings</th>\n",
       "    </tr>\n",
       "  </thead>\n",
       "  <tbody>\n",
       "    <tr>\n",
       "      <th>0</th>\n",
       "      <td>0.0</td>\n",
       "      <td>0.0</td>\n",
       "      <td>1.0</td>\n",
       "      <td>0.455</td>\n",
       "      <td>0.365</td>\n",
       "      <td>0.095</td>\n",
       "      <td>0.5140</td>\n",
       "      <td>0.2245</td>\n",
       "      <td>0.1010</td>\n",
       "      <td>0.150</td>\n",
       "      <td>15.0</td>\n",
       "    </tr>\n",
       "    <tr>\n",
       "      <th>1</th>\n",
       "      <td>0.0</td>\n",
       "      <td>0.0</td>\n",
       "      <td>1.0</td>\n",
       "      <td>0.350</td>\n",
       "      <td>0.265</td>\n",
       "      <td>0.090</td>\n",
       "      <td>0.2255</td>\n",
       "      <td>0.0995</td>\n",
       "      <td>0.0485</td>\n",
       "      <td>0.070</td>\n",
       "      <td>7.0</td>\n",
       "    </tr>\n",
       "    <tr>\n",
       "      <th>2</th>\n",
       "      <td>1.0</td>\n",
       "      <td>0.0</td>\n",
       "      <td>0.0</td>\n",
       "      <td>0.530</td>\n",
       "      <td>0.420</td>\n",
       "      <td>0.135</td>\n",
       "      <td>0.6770</td>\n",
       "      <td>0.2565</td>\n",
       "      <td>0.1415</td>\n",
       "      <td>0.210</td>\n",
       "      <td>9.0</td>\n",
       "    </tr>\n",
       "    <tr>\n",
       "      <th>3</th>\n",
       "      <td>0.0</td>\n",
       "      <td>0.0</td>\n",
       "      <td>1.0</td>\n",
       "      <td>0.440</td>\n",
       "      <td>0.365</td>\n",
       "      <td>0.125</td>\n",
       "      <td>0.5160</td>\n",
       "      <td>0.2155</td>\n",
       "      <td>0.1140</td>\n",
       "      <td>0.155</td>\n",
       "      <td>10.0</td>\n",
       "    </tr>\n",
       "    <tr>\n",
       "      <th>4</th>\n",
       "      <td>0.0</td>\n",
       "      <td>1.0</td>\n",
       "      <td>0.0</td>\n",
       "      <td>0.330</td>\n",
       "      <td>0.255</td>\n",
       "      <td>0.080</td>\n",
       "      <td>0.2050</td>\n",
       "      <td>0.0895</td>\n",
       "      <td>0.0395</td>\n",
       "      <td>0.055</td>\n",
       "      <td>7.0</td>\n",
       "    </tr>\n",
       "  </tbody>\n",
       "</table>\n",
       "</div>"
      ],
      "text/plain": [
       "   sex_F  sex_I  sex_M  length  diameter  height  whole_weight  \\\n",
       "0    0.0    0.0    1.0   0.455     0.365   0.095        0.5140   \n",
       "1    0.0    0.0    1.0   0.350     0.265   0.090        0.2255   \n",
       "2    1.0    0.0    0.0   0.530     0.420   0.135        0.6770   \n",
       "3    0.0    0.0    1.0   0.440     0.365   0.125        0.5160   \n",
       "4    0.0    1.0    0.0   0.330     0.255   0.080        0.2050   \n",
       "\n",
       "   shucked_weight  viscera_weight  shell_weight  rings  \n",
       "0          0.2245          0.1010         0.150   15.0  \n",
       "1          0.0995          0.0485         0.070    7.0  \n",
       "2          0.2565          0.1415         0.210    9.0  \n",
       "3          0.2155          0.1140         0.155   10.0  \n",
       "4          0.0895          0.0395         0.055    7.0  "
      ]
     },
     "execution_count": 5,
     "metadata": {},
     "output_type": "execute_result"
    }
   ],
   "source": [
    "###one hot encoding for sex (different types dehklenge)\n",
    "sex=pd.get_dummies(data.sex,prefix=\"sex\")\n",
    "onehot_data=data.drop(columns=\"sex\")\n",
    "onehot_data=pd.concat([sex,onehot_data],axis=1)\n",
    "onehot_data = onehot_data.astype(float)\n",
    "\n",
    "onehot_data.head()\n"
   ]
  },
  {
   "cell_type": "code",
   "execution_count": 6,
   "metadata": {},
   "outputs": [
    {
     "data": {
      "text/html": [
       "<div>\n",
       "<style scoped>\n",
       "    .dataframe tbody tr th:only-of-type {\n",
       "        vertical-align: middle;\n",
       "    }\n",
       "\n",
       "    .dataframe tbody tr th {\n",
       "        vertical-align: top;\n",
       "    }\n",
       "\n",
       "    .dataframe thead th {\n",
       "        text-align: right;\n",
       "    }\n",
       "</style>\n",
       "<table border=\"1\" class=\"dataframe\">\n",
       "  <thead>\n",
       "    <tr style=\"text-align: right;\">\n",
       "      <th></th>\n",
       "      <th>sex_F</th>\n",
       "      <th>sex_I</th>\n",
       "      <th>sex_M</th>\n",
       "      <th>length</th>\n",
       "      <th>diameter</th>\n",
       "      <th>height</th>\n",
       "      <th>whole_weight</th>\n",
       "      <th>shucked_weight</th>\n",
       "      <th>viscera_weight</th>\n",
       "      <th>shell_weight</th>\n",
       "      <th>rings</th>\n",
       "    </tr>\n",
       "  </thead>\n",
       "  <tbody>\n",
       "    <tr>\n",
       "      <th>0</th>\n",
       "      <td>-0.674753</td>\n",
       "      <td>-0.687936</td>\n",
       "      <td>1.316520</td>\n",
       "      <td>-0.574489</td>\n",
       "      <td>-0.432097</td>\n",
       "      <td>-1.064297</td>\n",
       "      <td>-0.641821</td>\n",
       "      <td>-0.607613</td>\n",
       "      <td>-0.726125</td>\n",
       "      <td>-0.638140</td>\n",
       "      <td>15.0</td>\n",
       "    </tr>\n",
       "    <tr>\n",
       "      <th>1</th>\n",
       "      <td>-0.674753</td>\n",
       "      <td>-0.687936</td>\n",
       "      <td>1.316520</td>\n",
       "      <td>-1.448812</td>\n",
       "      <td>-1.439757</td>\n",
       "      <td>-1.183837</td>\n",
       "      <td>-1.230130</td>\n",
       "      <td>-1.170770</td>\n",
       "      <td>-1.205077</td>\n",
       "      <td>-1.212842</td>\n",
       "      <td>7.0</td>\n",
       "    </tr>\n",
       "    <tr>\n",
       "      <th>2</th>\n",
       "      <td>1.481669</td>\n",
       "      <td>-0.687936</td>\n",
       "      <td>-0.759397</td>\n",
       "      <td>0.050027</td>\n",
       "      <td>0.122116</td>\n",
       "      <td>-0.107978</td>\n",
       "      <td>-0.309432</td>\n",
       "      <td>-0.463444</td>\n",
       "      <td>-0.356647</td>\n",
       "      <td>-0.207114</td>\n",
       "      <td>9.0</td>\n",
       "    </tr>\n",
       "    <tr>\n",
       "      <th>3</th>\n",
       "      <td>-0.674753</td>\n",
       "      <td>-0.687936</td>\n",
       "      <td>1.316520</td>\n",
       "      <td>-0.699393</td>\n",
       "      <td>-0.432097</td>\n",
       "      <td>-0.347058</td>\n",
       "      <td>-0.637743</td>\n",
       "      <td>-0.648160</td>\n",
       "      <td>-0.607527</td>\n",
       "      <td>-0.602222</td>\n",
       "      <td>10.0</td>\n",
       "    </tr>\n",
       "    <tr>\n",
       "      <th>4</th>\n",
       "      <td>-0.674753</td>\n",
       "      <td>1.453277</td>\n",
       "      <td>-0.759397</td>\n",
       "      <td>-1.615350</td>\n",
       "      <td>-1.540523</td>\n",
       "      <td>-1.422916</td>\n",
       "      <td>-1.271933</td>\n",
       "      <td>-1.215822</td>\n",
       "      <td>-1.287183</td>\n",
       "      <td>-1.320599</td>\n",
       "      <td>7.0</td>\n",
       "    </tr>\n",
       "  </tbody>\n",
       "</table>\n",
       "</div>"
      ],
      "text/plain": [
       "      sex_F     sex_I     sex_M    length  diameter    height  whole_weight  \\\n",
       "0 -0.674753 -0.687936  1.316520 -0.574489 -0.432097 -1.064297     -0.641821   \n",
       "1 -0.674753 -0.687936  1.316520 -1.448812 -1.439757 -1.183837     -1.230130   \n",
       "2  1.481669 -0.687936 -0.759397  0.050027  0.122116 -0.107978     -0.309432   \n",
       "3 -0.674753 -0.687936  1.316520 -0.699393 -0.432097 -0.347058     -0.637743   \n",
       "4 -0.674753  1.453277 -0.759397 -1.615350 -1.540523 -1.422916     -1.271933   \n",
       "\n",
       "   shucked_weight  viscera_weight  shell_weight  rings  \n",
       "0       -0.607613       -0.726125     -0.638140   15.0  \n",
       "1       -1.170770       -1.205077     -1.212842    7.0  \n",
       "2       -0.463444       -0.356647     -0.207114    9.0  \n",
       "3       -0.648160       -0.607527     -0.602222   10.0  \n",
       "4       -1.215822       -1.287183     -1.320599    7.0  "
      ]
     },
     "execution_count": 6,
     "metadata": {},
     "output_type": "execute_result"
    }
   ],
   "source": [
    "##Normalisation ((x-xmin)/xmax-xmin)\n",
    "Normalised=pd.DataFrame()\n",
    "for i in onehot_data.columns[:-1]:\n",
    "    Normalised[i]=(onehot_data[i]-onehot_data[i].mean())/onehot_data[i].std()\n",
    "Normalised[\"rings\"]=onehot_data[\"rings\"]\n",
    "Normalised.head()"
   ]
  },
  {
   "cell_type": "code",
   "execution_count": 7,
   "metadata": {},
   "outputs": [],
   "source": [
    "#returns K folds of training and validation set\n",
    "def create_cv(data,folds)->dict:\n",
    "    di={}\n",
    "    di_numpy={}\n",
    "    size_of_folds=len(data)//folds\n",
    "    for i in range(5):\n",
    "        training=pd.concat([data[0:i*size_of_folds],data[(i+1)*size_of_folds:]],ignore_index=True,axis=0)\n",
    "        validation=data[i*size_of_folds:(i+1)*size_of_folds].copy().reset_index(drop=True)\n",
    "        di[i]={\"training\":training,\"validation\":validation}\n",
    "        di_numpy[i]={\"training\":training.to_numpy(),\"validation\":validation.to_numpy()}\n",
    "    return di_numpy,di\n",
    "        \n",
    "    "
   ]
  },
  {
   "cell_type": "code",
   "execution_count": 8,
   "metadata": {
    "scrolled": false
   },
   "outputs": [
    {
     "data": {
      "text/html": [
       "<div>\n",
       "<style scoped>\n",
       "    .dataframe tbody tr th:only-of-type {\n",
       "        vertical-align: middle;\n",
       "    }\n",
       "\n",
       "    .dataframe tbody tr th {\n",
       "        vertical-align: top;\n",
       "    }\n",
       "\n",
       "    .dataframe thead th {\n",
       "        text-align: right;\n",
       "    }\n",
       "</style>\n",
       "<table border=\"1\" class=\"dataframe\">\n",
       "  <thead>\n",
       "    <tr style=\"text-align: right;\">\n",
       "      <th></th>\n",
       "      <th>sex_F</th>\n",
       "      <th>sex_I</th>\n",
       "      <th>sex_M</th>\n",
       "      <th>length</th>\n",
       "      <th>diameter</th>\n",
       "      <th>height</th>\n",
       "      <th>whole_weight</th>\n",
       "      <th>shucked_weight</th>\n",
       "      <th>viscera_weight</th>\n",
       "      <th>shell_weight</th>\n",
       "      <th>rings</th>\n",
       "    </tr>\n",
       "  </thead>\n",
       "  <tbody>\n",
       "    <tr>\n",
       "      <th>0</th>\n",
       "      <td>1.481669</td>\n",
       "      <td>-0.687936</td>\n",
       "      <td>-0.759397</td>\n",
       "      <td>-0.699393</td>\n",
       "      <td>-0.684012</td>\n",
       "      <td>-0.944757</td>\n",
       "      <td>-0.770291</td>\n",
       "      <td>-0.772054</td>\n",
       "      <td>-0.853845</td>\n",
       "      <td>-0.781816</td>\n",
       "      <td>10.0</td>\n",
       "    </tr>\n",
       "    <tr>\n",
       "      <th>1</th>\n",
       "      <td>-0.674753</td>\n",
       "      <td>-0.687936</td>\n",
       "      <td>1.316520</td>\n",
       "      <td>0.341468</td>\n",
       "      <td>0.273265</td>\n",
       "      <td>0.250642</td>\n",
       "      <td>0.328837</td>\n",
       "      <td>0.991753</td>\n",
       "      <td>0.017392</td>\n",
       "      <td>-0.235849</td>\n",
       "      <td>8.0</td>\n",
       "    </tr>\n",
       "    <tr>\n",
       "      <th>2</th>\n",
       "      <td>-0.674753</td>\n",
       "      <td>-0.687936</td>\n",
       "      <td>1.316520</td>\n",
       "      <td>-1.282275</td>\n",
       "      <td>-1.288608</td>\n",
       "      <td>-0.825217</td>\n",
       "      <td>-1.212797</td>\n",
       "      <td>-1.211317</td>\n",
       "      <td>-1.113848</td>\n",
       "      <td>-1.176923</td>\n",
       "      <td>9.0</td>\n",
       "    </tr>\n",
       "    <tr>\n",
       "      <th>3</th>\n",
       "      <td>-0.674753</td>\n",
       "      <td>-0.687936</td>\n",
       "      <td>1.316520</td>\n",
       "      <td>0.466371</td>\n",
       "      <td>0.474797</td>\n",
       "      <td>-0.107978</td>\n",
       "      <td>-0.067787</td>\n",
       "      <td>0.205586</td>\n",
       "      <td>-0.124013</td>\n",
       "      <td>-0.250217</td>\n",
       "      <td>10.0</td>\n",
       "    </tr>\n",
       "    <tr>\n",
       "      <th>4</th>\n",
       "      <td>1.481669</td>\n",
       "      <td>-0.687936</td>\n",
       "      <td>-0.759397</td>\n",
       "      <td>0.008393</td>\n",
       "      <td>-0.180182</td>\n",
       "      <td>-0.107978</td>\n",
       "      <td>-0.465431</td>\n",
       "      <td>-0.598602</td>\n",
       "      <td>-0.452438</td>\n",
       "      <td>-0.207114</td>\n",
       "      <td>16.0</td>\n",
       "    </tr>\n",
       "  </tbody>\n",
       "</table>\n",
       "</div>"
      ],
      "text/plain": [
       "      sex_F     sex_I     sex_M    length  diameter    height  whole_weight  \\\n",
       "0  1.481669 -0.687936 -0.759397 -0.699393 -0.684012 -0.944757     -0.770291   \n",
       "1 -0.674753 -0.687936  1.316520  0.341468  0.273265  0.250642      0.328837   \n",
       "2 -0.674753 -0.687936  1.316520 -1.282275 -1.288608 -0.825217     -1.212797   \n",
       "3 -0.674753 -0.687936  1.316520  0.466371  0.474797 -0.107978     -0.067787   \n",
       "4  1.481669 -0.687936 -0.759397  0.008393 -0.180182 -0.107978     -0.465431   \n",
       "\n",
       "   shucked_weight  viscera_weight  shell_weight  rings  \n",
       "0       -0.772054       -0.853845     -0.781816   10.0  \n",
       "1        0.991753        0.017392     -0.235849    8.0  \n",
       "2       -1.211317       -1.113848     -1.176923    9.0  \n",
       "3        0.205586       -0.124013     -0.250217   10.0  \n",
       "4       -0.598602       -0.452438     -0.207114   16.0  "
      ]
     },
     "execution_count": 8,
     "metadata": {},
     "output_type": "execute_result"
    }
   ],
   "source": [
    "##Random shuffle \n",
    "Shuffled = Normalised.sample(frac=1,random_state=1).reset_index(drop=True)\n",
    "Shuffled.head()\n"
   ]
  },
  {
   "cell_type": "code",
   "execution_count": 9,
   "metadata": {},
   "outputs": [
    {
     "data": {
      "text/plain": [
       "(3342, 11)"
      ]
     },
     "execution_count": 9,
     "metadata": {},
     "output_type": "execute_result"
    }
   ],
   "source": [
    "###K Folds created as numpy arrays\n",
    "No_of_folds=5\n",
    "K_folds,k_folds_pandas=create_cv(Shuffled,No_of_folds)\n",
    "p=len(K_folds[0][\"training\"][0])\n",
    "K_folds[0][\"training\"].shape #(m x p)"
   ]
  },
  {
   "cell_type": "markdown",
   "metadata": {},
   "source": [
    "### Gradient Descent"
   ]
  },
  {
   "cell_type": "code",
   "execution_count": 11,
   "metadata": {},
   "outputs": [],
   "source": [
    "def cost(x,theta,b,y):\n",
    "    m=len(x)\n",
    "    yhat=np.dot(x,theta)+b\n",
    "    return np.power(np.sum(np.power((yhat-y),2))/(m),0.5)"
   ]
  },
  {
   "cell_type": "code",
   "execution_count": 12,
   "metadata": {},
   "outputs": [],
   "source": [
    "def gradients(x,theta,b,y):\n",
    "    \n",
    "    m=len(x)\n",
    "    yhat=(np.dot(x,theta)+b)\n",
    "    yhat=yhat.reshape(m,1)\n",
    "    \n",
    "    dtheta=np.dot(x.T,(yhat-y))/np.power(np.sum(np.power((yhat-y),2))*m,0.5)\n",
    "    dtheta=dtheta.reshape(theta.shape)\n",
    "    \n",
    "    db=np.sum((yhat-y))/np.power(np.sum(np.power((yhat-y),2))*m,0.5)\n",
    "    return db,dtheta\n"
   ]
  },
  {
   "cell_type": "code",
   "execution_count": 13,
   "metadata": {},
   "outputs": [],
   "source": [
    "def runner(train_x,train_y,CV_x,CV_y,theta,b,learning_rate=0.0005,epochs=50):\n",
    "    train_RMSE=np.zeros(epochs)\n",
    "    CV_RMSE=np.zeros(epochs)\n",
    "    for i in range(epochs):\n",
    "        \n",
    "        train_RMSE[i]=cost(train_x,theta,b,train_y)\n",
    "        CV_RMSE[i]=cost(CV_x,theta,b,CV_y)\n",
    "        \n",
    "        db,dtheta=gradients(train_x,theta,b,train_y)\n",
    "        \n",
    "        theta=theta-learning_rate*dtheta\n",
    "        b=b-learning_rate*(db)\n",
    "      \n",
    "    return [train_RMSE,CV_RMSE]\n",
    "\n",
    "    "
   ]
  },
  {
   "cell_type": "code",
   "execution_count": 14,
   "metadata": {},
   "outputs": [],
   "source": [
    "epochs=10000\n",
    "learning_rate=0.005\n",
    "train_RMSE=np.zeros(epochs)\n",
    "CV_RMSE=np.zeros(epochs)\n",
    "RMSE_folds={}\n",
    "for i in range(No_of_folds):\n",
    "    \n",
    "    Theta=np.zeros(shape=(p-1,1)) #(p x 1)\n",
    "    b=0\n",
    "    \n",
    "    train_x=np.copy(K_folds[i][\"training\"][:,:-1])\n",
    "    train_y=np.copy(K_folds[i][\"training\"][:,-1]).reshape(-1,1)\n",
    "    \n",
    "    CV_x=np.copy(K_folds[i][\"validation\"][:,:-1])\n",
    "    CV_y=np.copy(K_folds[i][\"validation\"][:,-1]).reshape(-1,1)\n",
    "\n",
    "\n",
    "    RMSE=runner(train_x,train_y,CV_x,CV_y,Theta,b,learning_rate,epochs)\n",
    "    \n",
    "    RMSE_folds[i]={}\n",
    "    RMSE_folds[i][\"GD\"]={}\n",
    "    RMSE_folds[i][\"GD\"][\"Training\"]=RMSE[0][-1]\n",
    "    RMSE_folds[i][\"GD\"][\"CV\"]=RMSE[1][-1]\n",
    "    \n",
    "    train_RMSE+=RMSE[0]\n",
    "    CV_RMSE+=RMSE[1]\n",
    "\n",
    "train_RMSE/=No_of_folds\n",
    "CV_RMSE/=No_of_folds\n",
    "\n",
    "\n",
    "\n",
    "    "
   ]
  },
  {
   "cell_type": "code",
   "execution_count": 15,
   "metadata": {},
   "outputs": [
    {
     "data": {
      "image/png": "[encoded data removed]",
      "text/plain": [
       "<Figure size 432x288 with 1 Axes>"
      ]
     },
     "metadata": {
      "needs_background": "light"
     },
     "output_type": "display_data"
    },
    {
     "data": {
      "text/plain": [
       "<Figure size 3600x3600 with 0 Axes>"
      ]
     },
     "metadata": {},
     "output_type": "display_data"
    }
   ],
   "source": [
    "####Training RMSE plot####\n",
    "x_axis=list(range(1,epochs+1))\n",
    "y_axis=train_RMSE\n",
    "plt.plot(x_axis, y_axis,label=\"Mean Train RMSE\") \n",
    "\n",
    "\n",
    "####CV RMSE plot####\n",
    "x_axis=list(range(1,epochs+1))\n",
    "y_axis=CV_RMSE\n",
    "plt.plot(x_axis, y_axis,label=\"Mean CV RMSE\") \n",
    "  \n",
    "\n",
    "plt.xlabel('Epoch')  \n",
    "plt.ylabel('RMSE') \n",
    "plt.title('Mean RMSE') \n",
    "\n",
    "plt.legend()\n",
    "plt.figure(figsize=(50, 50))\n",
    "\n",
    "plt.show() "
   ]
  },
  {
   "cell_type": "markdown",
   "metadata": {},
   "source": [
    "### Normal Equation"
   ]
  },
  {
   "cell_type": "code",
   "execution_count": 16,
   "metadata": {},
   "outputs": [],
   "source": [
    "normal_data=Shuffled.copy().to_numpy()\n",
    "normal_x=np.concatenate((np.ones((len(normal_data),1)), normal_data[:,:-1]), axis=1)\n",
    "\n",
    "normal_y=normal_data[:,-1].reshape(-1,1)\n",
    "normal_theta=np.dot(np.linalg.pinv(normal_x),normal_y)"
   ]
  },
  {
   "cell_type": "code",
   "execution_count": 17,
   "metadata": {},
   "outputs": [
    {
     "data": {
      "text/plain": [
       "2.1914982239741514"
      ]
     },
     "execution_count": 17,
     "metadata": {},
     "output_type": "execute_result"
    }
   ],
   "source": [
    "cost(normal_x,normal_theta,0,normal_y)"
   ]
  },
  {
   "cell_type": "code",
   "execution_count": 18,
   "metadata": {},
   "outputs": [
    {
     "data": {
      "text/plain": [
       "{0: {'GD': {'Training': 2.2293466284282846, 'CV': 2.2217013976421334}},\n",
       " 1: {'GD': {'Training': 2.2100653612250794, 'CV': 2.4294988637127015}},\n",
       " 2: {'GD': {'Training': 2.22575917196637, 'CV': 2.2479439878835867}},\n",
       " 3: {'GD': {'Training': 2.2123043665307573, 'CV': 2.285771437849997}},\n",
       " 4: {'GD': {'Training': 2.2544252297181884, 'CV': 2.1335499733770145}}}"
      ]
     },
     "execution_count": 18,
     "metadata": {},
     "output_type": "execute_result"
    }
   ],
   "source": [
    "RMSE_folds"
   ]
  },
  {
   "cell_type": "code",
   "execution_count": 19,
   "metadata": {},
   "outputs": [],
   "source": [
    "for i in range(No_of_folds):\n",
    "    \n",
    "    \n",
    "    train_x=np.concatenate((np.ones((len(K_folds[i][\"training\"]),1)), np.copy(K_folds[i][\"training\"][:,:-1])), axis=1)\n",
    "    train_y=np.copy(K_folds[i][\"training\"][:,-1]).reshape(-1,1)\n",
    "    \n",
    "    CV_x=np.concatenate((np.ones((len(K_folds[i][\"validation\"]),1)), np.copy(K_folds[i][\"validation\"][:,:-1])), axis=1)\n",
    "    CV_y=np.copy(K_folds[i][\"validation\"][:,-1]).reshape(-1,1)\n",
    "\n",
    "\n",
    "    \n",
    "    \n",
    "    RMSE_folds[i][\"Normal\"]={}\n",
    "    RMSE_folds[i][\"Normal\"][\"Training\"]=cost(train_x,normal_theta,0,train_y)\n",
    "    RMSE_folds[i][\"Normal\"][\"CV\"]=cost(CV_x,normal_theta,0,CV_y)"
   ]
  },
  {
   "cell_type": "code",
   "execution_count": 20,
   "metadata": {},
   "outputs": [
    {
     "data": {
      "text/plain": [
       "{0: {'GD': {'Training': 2.2293466284282846, 'CV': 2.2217013976421334},\n",
       "  'Normal': {'Training': 2.1947405106875544, 'CV': 2.1784730037480684}},\n",
       " 1: {'GD': {'Training': 2.2100653612250794, 'CV': 2.4294988637127015},\n",
       "  'Normal': {'Training': 2.1815244863900927, 'CV': 2.2309707433109525}},\n",
       " 2: {'GD': {'Training': 2.22575917196637, 'CV': 2.2479439878835867},\n",
       "  'Normal': {'Training': 2.1891504546243876, 'CV': 2.2008698531759774}},\n",
       " 3: {'GD': {'Training': 2.2123043665307573, 'CV': 2.285771437849997},\n",
       "  'Normal': {'Training': 2.172928712784352, 'CV': 2.264296730876372}},\n",
       " 4: {'GD': {'Training': 2.2544252297181884, 'CV': 2.1335499733770145},\n",
       "  'Normal': {'Training': 2.218728761655651, 'CV': 2.078943339696214}}}"
      ]
     },
     "execution_count": 20,
     "metadata": {},
     "output_type": "execute_result"
    }
   ],
   "source": [
    "RMSE_folds"
   ]
  },
  {
   "cell_type": "markdown",
   "metadata": {},
   "source": [
    "### Regularization"
   ]
  },
  {
   "cell_type": "code",
   "execution_count": 21,
   "metadata": {},
   "outputs": [],
   "source": [
    "#### TO Find the CV set with the least RMSE\n",
    "pos=-1\n",
    "m1=100000\n",
    "for i in RMSE_folds:\n",
    "    if m1> RMSE_folds[i][\"GD\"][\"CV\"]:\n",
    "        pos=i\n",
    "        m1=RMSE_folds[i][\"GD\"][\"CV\"]"
   ]
  },
  {
   "cell_type": "code",
   "execution_count": 22,
   "metadata": {},
   "outputs": [],
   "source": [
    "####New Data #y (m x 1) x=m x p px1\n",
    "Train_CV_Data=k_folds_pandas[pos][\"training\"]\n",
    "Test_Data=k_folds_pandas[pos][\"validation\"]\n"
   ]
  },
  {
   "cell_type": "code",
   "execution_count": 23,
   "metadata": {},
   "outputs": [
    {
     "name": "stdout",
     "output_type": "stream",
     "text": [
      "0.5331370035596337\n"
     ]
    }
   ],
   "source": [
    "clf = Ridge(alpha=0.005)\n",
    "clf.fit(Train_CV_Data.to_numpy()[:,:-1],(Train_CV_Data.to_numpy()[:,-1]).reshape(-1,1))\n",
    "d=clf.score(Train_CV_Data.to_numpy()[:,:-1],(Train_CV_Data.to_numpy()[:,-1]).reshape(-1,1))\n",
    "print(d)"
   ]
  },
  {
   "cell_type": "code",
   "execution_count": 24,
   "metadata": {},
   "outputs": [],
   "source": [
    "### Shuffle data\n",
    "Train_CV_Data = Train_CV_Data.sample(frac=1,random_state=1).reset_index(drop=True)\n",
    "\n",
    "regular_kfolds,regular_kfolds_pandas=create_cv(Train_CV_Data,No_of_folds)\n"
   ]
  },
  {
   "cell_type": "markdown",
   "metadata": {},
   "source": [
    "### Grid Search "
   ]
  },
  {
   "cell_type": "code",
   "execution_count": 25,
   "metadata": {},
   "outputs": [
    {
     "data": {
      "text/plain": [
       "2674"
      ]
     },
     "execution_count": 25,
     "metadata": {},
     "output_type": "execute_result"
    }
   ],
   "source": [
    "len(regular_kfolds[0][\"training\"])"
   ]
  },
  {
   "cell_type": "code",
   "execution_count": 26,
   "metadata": {},
   "outputs": [
    {
     "name": "stdout",
     "output_type": "stream",
     "text": [
      "1e-06\n"
     ]
    },
    {
     "ename": "NameError",
     "evalue": "name 'runner_reg' is not defined",
     "output_type": "error",
     "traceback": [
      "\u001b[0;31m---------------------------------------------------------------------------\u001b[0m",
      "\u001b[0;31mNameError\u001b[0m                                 Traceback (most recent call last)",
      "\u001b[0;32m<ipython-input-26-6354d4a5e650>\u001b[0m in \u001b[0;36m<module>\u001b[0;34m\u001b[0m\n\u001b[1;32m     21\u001b[0m \u001b[0;34m\u001b[0m\u001b[0m\n\u001b[1;32m     22\u001b[0m \u001b[0;34m\u001b[0m\u001b[0m\n\u001b[0;32m---> 23\u001b[0;31m         \u001b[0mtemp\u001b[0m\u001b[0;34m=\u001b[0m\u001b[0mrunner_reg\u001b[0m\u001b[0;34m(\u001b[0m\u001b[0mtrain_x\u001b[0m\u001b[0;34m,\u001b[0m\u001b[0mtrain_y\u001b[0m\u001b[0;34m,\u001b[0m\u001b[0mCV_x\u001b[0m\u001b[0;34m,\u001b[0m\u001b[0mCV_y\u001b[0m\u001b[0;34m,\u001b[0m\u001b[0mTheta\u001b[0m\u001b[0;34m,\u001b[0m\u001b[0mb\u001b[0m\u001b[0;34m,\u001b[0m\u001b[0mlearning_rate\u001b[0m\u001b[0;34m,\u001b[0m\u001b[0mepochs\u001b[0m\u001b[0;34m,\u001b[0m\u001b[0mj\u001b[0m\u001b[0;34m,\u001b[0m\u001b[0;34m\"l1\"\u001b[0m\u001b[0;34m)\u001b[0m\u001b[0;34m\u001b[0m\u001b[0;34m\u001b[0m\u001b[0m\n\u001b[0m\u001b[1;32m     24\u001b[0m         \u001b[0mRMSE\u001b[0m\u001b[0;34m+=\u001b[0m\u001b[0mtemp\u001b[0m\u001b[0;34m[\u001b[0m\u001b[0;36m0\u001b[0m\u001b[0;34m]\u001b[0m\u001b[0;34m[\u001b[0m\u001b[0;34m-\u001b[0m\u001b[0;36m1\u001b[0m\u001b[0;34m]\u001b[0m\u001b[0;34m\u001b[0m\u001b[0;34m\u001b[0m\u001b[0m\n\u001b[1;32m     25\u001b[0m     \u001b[0mRMSE\u001b[0m\u001b[0;34m/=\u001b[0m\u001b[0mNo_of_folds\u001b[0m\u001b[0;34m\u001b[0m\u001b[0;34m\u001b[0m\u001b[0m\n",
      "\u001b[0;31mNameError\u001b[0m: name 'runner_reg' is not defined"
     ]
    }
   ],
   "source": [
    "#### Grid Search for L1 regularization\n",
    "L1_values=arange(0.000001,0.00001,0.000001)\n",
    "min_value=-1\n",
    "min_RMSE=0\n",
    "epochs=10000\n",
    "learning_rate=0.005\n",
    "for j in L1_values:\n",
    "    print(j)\n",
    "    RMSE=0\n",
    "    for i in range(No_of_folds):\n",
    "    \n",
    "        ####initialise thetas#### \n",
    "        Theta=np.zeros(shape=(p-1,1)) #(p x 1)\n",
    "        b=0\n",
    "\n",
    "        train_x=np.copy(regular_kfolds[i][\"training\"][:,:-1])\n",
    "        train_y=np.copy(regular_kfolds[i][\"training\"][:,-1]).reshape(-1,1)\n",
    "        CV_x=np.copy(regular_kfolds[i][\"validation\"][:,:-1])\n",
    "        CV_y=np.copy(regular_kfolds[i][\"validation\"][:,-1]).reshape(-1,1)\n",
    "\n",
    "\n",
    "\n",
    "        temp=runner_reg(train_x,train_y,CV_x,CV_y,Theta,b,learning_rate,epochs,j,\"l1\")\n",
    "        RMSE+=temp[0][-1]\n",
    "    RMSE/=No_of_folds\n",
    "    if min_value==-1:\n",
    "        min_RMSE=RMSE\n",
    "        min_value=j\n",
    "        \n",
    "    elif min_RMSE>RMSE:\n",
    "        min_RMSE=RMSE\n",
    "        min_value=j\n",
    "    else:\n",
    "        break\n",
    "print(min_RMSE,min_value)\n",
    "        \n",
    "        \n",
    "    "
   ]
  },
  {
   "cell_type": "code",
   "execution_count": 70,
   "metadata": {},
   "outputs": [],
   "source": [
    "def cost_reg(x,theta,b,y,reg_para,regular_type):\n",
    "    m=len(x)\n",
    "    yhat=np.dot(x,theta)+b\n",
    "    if regular_type==\"l1\":\n",
    "        return np.power(np.sum(np.power((yhat-y),2))/(m),0.5)+(reg_para*np.sum(np.abs(theta)))/m\n",
    "    elif regular_type==\"l2\":\n",
    "        return np.power(np.sum(np.power((yhat-y),2))/(m),0.5)+(reg_para*np.sum((theta**2)))/m\n",
    "        \n"
   ]
  },
  {
   "cell_type": "code",
   "execution_count": 71,
   "metadata": {},
   "outputs": [],
   "source": [
    "def gradients_reg(x,theta,b,y,reg_para,regular_type):\n",
    "    \n",
    "    m=len(x)\n",
    "    yhat=(np.dot(x,theta)+b)\n",
    "    yhat=yhat.reshape(m,1)\n",
    "        \n",
    "        \n",
    "    if regular_type==\"l1\":\n",
    "        if np.count_nonzero(theta)!=0:\n",
    "            dtheta=np.dot(x.T,(yhat-y))/np.power(np.sum(np.power((yhat-y),2))*m,0.5)+(reg_para*(theta/np.abs(theta)))/m\n",
    "        else:\n",
    "            dtheta=np.dot(x.T,(yhat-y))/np.power(np.sum(np.power((yhat-y),2))*m,0.5)\n",
    "\n",
    "    elif regular_type==\"l2\":\n",
    "        dtheta=np.dot(x.T,(yhat-y))/np.power(np.sum(np.power((yhat-y),2))*m,0.5)+(2*reg_para*(theta))/m\n",
    "\n",
    "        \n",
    "    dtheta=dtheta.reshape(theta.shape)\n",
    "    \n",
    "    db=np.sum((yhat-y))/np.power(np.sum(np.power((yhat-y),2))*m,0.5)\n",
    "    return db,dtheta"
   ]
  },
  {
   "cell_type": "code",
   "execution_count": 29,
   "metadata": {},
   "outputs": [],
   "source": [
    "def runner_reg(train_x,train_y,CV_x,CV_y,theta,b,learning_rate=0.0005,epochs=50,reg_para=1,regular_type=\"l1\"):\n",
    "    train_RMSE=np.zeros(epochs)\n",
    "    CV_RMSE=np.zeros(epochs)\n",
    "    for i in range(epochs):\n",
    "        \n",
    "        train_RMSE[i]=cost_reg(train_x,theta,b,train_y,reg_para,regular_type)\n",
    "        CV_RMSE[i]=cost_reg(CV_x,theta,b,CV_y,reg_para,regular_type)\n",
    "        \n",
    "        db,dtheta=gradients_reg(train_x,theta,b,train_y,reg_para,regular_type)\n",
    "        \n",
    "        theta=theta-learning_rate*dtheta\n",
    "        b=b-learning_rate*(db)\n",
    "        \n",
    "    return [train_RMSE,CV_RMSE]"
   ]
  },
  {
   "cell_type": "code",
   "execution_count": 30,
   "metadata": {},
   "outputs": [],
   "source": [
    "epochs=10000\n",
    "learning_rate=0.005\n",
    "train_RMSE=np.zeros(epochs)\n",
    "CV_RMSE=np.zeros(epochs)\n",
    "RMSE_folds={}\n",
    "\n",
    "for i in range(No_of_folds):\n",
    "    \n",
    "    ####initialise thetas#### \n",
    "    Theta=np.zeros(shape=(p-1,1)) #(p x 1)\n",
    "    b=0\n",
    "    \n",
    "    train_x=np.copy(regular_kfolds[i][\"training\"][:,:-1])\n",
    "    train_y=np.copy(regular_kfolds[i][\"training\"][:,-1]).reshape(-1,1)\n",
    "    \n",
    "    CV_x=np.copy(regular_kfolds[i][\"validation\"][:,:-1])\n",
    "    CV_y=np.copy(regular_kfolds[i][\"validation\"][:,-1]).reshape(-1,1)\n",
    "\n",
    "\n",
    "    RMSE=runner_reg(train_x,train_y,CV_x,CV_y,Theta,b,learning_rate,epochs,0.000001,\"l2\")\n",
    "    \n",
    "    RMSE_folds[i]={}\n",
    "    RMSE_folds[i][\"GD\"]={}\n",
    "    RMSE_folds[i][\"GD\"][\"Training\"]=RMSE[0][-1]\n",
    "    RMSE_folds[i][\"GD\"][\"CV\"]=RMSE[1][-1]\n",
    "    \n",
    "    train_RMSE+=RMSE[0]\n",
    "    CV_RMSE+=RMSE[1]\n",
    "\n",
    "train_RMSE/=No_of_folds\n",
    "CV_RMSE/=No_of_folds"
   ]
  },
  {
   "cell_type": "code",
   "execution_count": 31,
   "metadata": {},
   "outputs": [
    {
     "data": {
      "text/plain": [
       "{0: {'GD': {'Training': 2.2625450752130436, 'CV': 2.2231475117315873}},\n",
       " 1: {'GD': {'Training': 2.253440122819618, 'CV': 2.2596573901047607}},\n",
       " 2: {'GD': {'Training': 2.2665479357052707, 'CV': 2.1954267113813306}},\n",
       " 3: {'GD': {'Training': 2.241786052985603, 'CV': 2.4730130936600796}},\n",
       " 4: {'GD': {'Training': 2.231653348659265, 'CV': 2.3421566987496854}}}"
      ]
     },
     "execution_count": 31,
     "metadata": {},
     "output_type": "execute_result"
    }
   ],
   "source": [
    "RMSE_folds"
   ]
  },
  {
   "cell_type": "code",
   "execution_count": 32,
   "metadata": {},
   "outputs": [
    {
     "data": {
      "image/png": "[encoded data removed]",
      "text/plain": [
       "<Figure size 432x288 with 1 Axes>"
      ]
     },
     "metadata": {
      "needs_background": "light"
     },
     "output_type": "display_data"
    },
    {
     "data": {
      "text/plain": [
       "<Figure size 3600x3600 with 0 Axes>"
      ]
     },
     "metadata": {},
     "output_type": "display_data"
    }
   ],
   "source": [
    "####Training RMSE plot####\n",
    "x_axis=list(range(1,epochs+1))\n",
    "y_axis=train_RMSE\n",
    "plt.plot(x_axis, y_axis,label=\"Mean Train RMSE\") \n",
    "\n",
    "\n",
    "####CV RMSE plot####\n",
    "x_axis=list(range(1,epochs+1))\n",
    "y_axis=CV_RMSE\n",
    "plt.plot(x_axis, y_axis,label=\"Mean CV RMSE\") \n",
    "  \n",
    "\n",
    "plt.xlabel('Epoch')  \n",
    "plt.ylabel('RMSE') \n",
    "plt.title('Mean RMSE') \n",
    "\n",
    "plt.legend()\n",
    "plt.figure(figsize=(50, 50))\n",
    "\n",
    "plt.show() "
   ]
  },
  {
   "cell_type": "code",
   "execution_count": null,
   "metadata": {},
   "outputs": [],
   "source": [
    "RMSE_folds"
   ]
  },
  {
   "cell_type": "code",
   "execution_count": 36,
   "metadata": {},
   "outputs": [
    {
     "name": "stderr",
     "output_type": "stream",
     "text": [
      "/home/blah/.local/lib/python3.8/site-packages/sklearn/linear_model/_coordinate_descent.py:526: ConvergenceWarning: Objective did not converge. You might want to increase the number of iterations. Duality gap: 1935.284905389617, tolerance: 3.843914498536844\n",
      "  model = cd_fast.enet_coordinate_descent_gram(\n",
      "/home/blah/.local/lib/python3.8/site-packages/sklearn/linear_model/_coordinate_descent.py:526: ConvergenceWarning: Objective did not converge. You might want to increase the number of iterations. Duality gap: 642.3143724213332, tolerance: 3.843914498536844\n",
      "  model = cd_fast.enet_coordinate_descent_gram(\n",
      "/home/blah/.local/lib/python3.8/site-packages/sklearn/linear_model/_coordinate_descent.py:526: ConvergenceWarning: Objective did not converge. You might want to increase the number of iterations. Duality gap: 642.3127079081041, tolerance: 3.843914498536844\n",
      "  model = cd_fast.enet_coordinate_descent_gram(\n",
      "/home/blah/.local/lib/python3.8/site-packages/sklearn/linear_model/_coordinate_descent.py:526: ConvergenceWarning: Objective did not converge. You might want to increase the number of iterations. Duality gap: 642.3119635098101, tolerance: 3.843914498536844\n",
      "  model = cd_fast.enet_coordinate_descent_gram(\n",
      "/home/blah/.local/lib/python3.8/site-packages/sklearn/linear_model/_coordinate_descent.py:526: ConvergenceWarning: Objective did not converge. You might want to increase the number of iterations. Duality gap: 642.3111492683092, tolerance: 3.843914498536844\n",
      "  model = cd_fast.enet_coordinate_descent_gram(\n",
      "/home/blah/.local/lib/python3.8/site-packages/sklearn/linear_model/_coordinate_descent.py:526: ConvergenceWarning: Objective did not converge. You might want to increase the number of iterations. Duality gap: 642.3129552148894, tolerance: 3.843914498536844\n",
      "  model = cd_fast.enet_coordinate_descent_gram(\n",
      "/home/blah/.local/lib/python3.8/site-packages/sklearn/linear_model/_coordinate_descent.py:526: ConvergenceWarning: Objective did not converge. You might want to increase the number of iterations. Duality gap: 642.313795833139, tolerance: 3.843914498536844\n",
      "  model = cd_fast.enet_coordinate_descent_gram(\n",
      "/home/blah/.local/lib/python3.8/site-packages/sklearn/linear_model/_coordinate_descent.py:526: ConvergenceWarning: Objective did not converge. You might want to increase the number of iterations. Duality gap: 642.3142916922043, tolerance: 3.843914498536844\n",
      "  model = cd_fast.enet_coordinate_descent_gram(\n",
      "/home/blah/.local/lib/python3.8/site-packages/sklearn/linear_model/_coordinate_descent.py:526: ConvergenceWarning: Objective did not converge. You might want to increase the number of iterations. Duality gap: 642.3119040956026, tolerance: 3.843914498536844\n",
      "  model = cd_fast.enet_coordinate_descent_gram(\n",
      "/home/blah/.local/lib/python3.8/site-packages/sklearn/linear_model/_coordinate_descent.py:526: ConvergenceWarning: Objective did not converge. You might want to increase the number of iterations. Duality gap: 3559.6719685576927, tolerance: 3.916178026070766\n",
      "  model = cd_fast.enet_coordinate_descent_gram(\n",
      "/home/blah/.local/lib/python3.8/site-packages/sklearn/linear_model/_coordinate_descent.py:526: ConvergenceWarning: Objective did not converge. You might want to increase the number of iterations. Duality gap: 643.555208826403, tolerance: 3.916178026070766\n",
      "  model = cd_fast.enet_coordinate_descent_gram(\n",
      "/home/blah/.local/lib/python3.8/site-packages/sklearn/linear_model/_coordinate_descent.py:526: ConvergenceWarning: Objective did not converge. You might want to increase the number of iterations. Duality gap: 643.5533071921855, tolerance: 3.916178026070766\n",
      "  model = cd_fast.enet_coordinate_descent_gram(\n",
      "/home/blah/.local/lib/python3.8/site-packages/sklearn/linear_model/_coordinate_descent.py:526: ConvergenceWarning: Objective did not converge. You might want to increase the number of iterations. Duality gap: 643.5527398349932, tolerance: 3.916178026070766\n",
      "  model = cd_fast.enet_coordinate_descent_gram(\n",
      "/home/blah/.local/lib/python3.8/site-packages/sklearn/linear_model/_coordinate_descent.py:526: ConvergenceWarning: Objective did not converge. You might want to increase the number of iterations. Duality gap: 643.5522649357845, tolerance: 3.916178026070766\n",
      "  model = cd_fast.enet_coordinate_descent_gram(\n",
      "/home/blah/.local/lib/python3.8/site-packages/sklearn/linear_model/_coordinate_descent.py:526: ConvergenceWarning: Objective did not converge. You might want to increase the number of iterations. Duality gap: 643.5537483731368, tolerance: 3.916178026070766\n",
      "  model = cd_fast.enet_coordinate_descent_gram(\n",
      "/home/blah/.local/lib/python3.8/site-packages/sklearn/linear_model/_coordinate_descent.py:526: ConvergenceWarning: Objective did not converge. You might want to increase the number of iterations. Duality gap: 643.5519833337657, tolerance: 3.916178026070766\n",
      "  model = cd_fast.enet_coordinate_descent_gram(\n",
      "/home/blah/.local/lib/python3.8/site-packages/sklearn/linear_model/_coordinate_descent.py:526: ConvergenceWarning: Objective did not converge. You might want to increase the number of iterations. Duality gap: 643.5548935011811, tolerance: 3.916178026070766\n",
      "  model = cd_fast.enet_coordinate_descent_gram(\n",
      "/home/blah/.local/lib/python3.8/site-packages/sklearn/linear_model/_coordinate_descent.py:526: ConvergenceWarning: Objective did not converge. You might want to increase the number of iterations. Duality gap: 643.5531179587233, tolerance: 3.916178026070766\n",
      "  model = cd_fast.enet_coordinate_descent_gram(\n",
      "/home/blah/.local/lib/python3.8/site-packages/sklearn/linear_model/_coordinate_descent.py:526: ConvergenceWarning: Objective did not converge. You might want to increase the number of iterations. Duality gap: 637.3901604090897, tolerance: 3.9047173184357535\n",
      "  model = cd_fast.enet_coordinate_descent_gram(\n",
      "/home/blah/.local/lib/python3.8/site-packages/sklearn/linear_model/_coordinate_descent.py:526: ConvergenceWarning: Objective did not converge. You might want to increase the number of iterations. Duality gap: 631.3097842870266, tolerance: 3.9047173184357535\n",
      "  model = cd_fast.enet_coordinate_descent_gram(\n",
      "/home/blah/.local/lib/python3.8/site-packages/sklearn/linear_model/_coordinate_descent.py:526: ConvergenceWarning: Objective did not converge. You might want to increase the number of iterations. Duality gap: 631.3079072953169, tolerance: 3.9047173184357535\n",
      "  model = cd_fast.enet_coordinate_descent_gram(\n",
      "/home/blah/.local/lib/python3.8/site-packages/sklearn/linear_model/_coordinate_descent.py:526: ConvergenceWarning: Objective did not converge. You might want to increase the number of iterations. Duality gap: 631.3072759977604, tolerance: 3.9047173184357535\n",
      "  model = cd_fast.enet_coordinate_descent_gram(\n",
      "/home/blah/.local/lib/python3.8/site-packages/sklearn/linear_model/_coordinate_descent.py:526: ConvergenceWarning: Objective did not converge. You might want to increase the number of iterations. Duality gap: 631.3069436698606, tolerance: 3.9047173184357535\n",
      "  model = cd_fast.enet_coordinate_descent_gram(\n",
      "/home/blah/.local/lib/python3.8/site-packages/sklearn/linear_model/_coordinate_descent.py:526: ConvergenceWarning: Objective did not converge. You might want to increase the number of iterations. Duality gap: 631.3084269360752, tolerance: 3.9047173184357535\n",
      "  model = cd_fast.enet_coordinate_descent_gram(\n",
      "/home/blah/.local/lib/python3.8/site-packages/sklearn/linear_model/_coordinate_descent.py:526: ConvergenceWarning: Objective did not converge. You might want to increase the number of iterations. Duality gap: 631.3109254416977, tolerance: 3.9047173184357535\n",
      "  model = cd_fast.enet_coordinate_descent_gram(\n",
      "/home/blah/.local/lib/python3.8/site-packages/sklearn/linear_model/_coordinate_descent.py:526: ConvergenceWarning: Objective did not converge. You might want to increase the number of iterations. Duality gap: 631.3104810097338, tolerance: 3.9047173184357535\n",
      "  model = cd_fast.enet_coordinate_descent_gram(\n",
      "/home/blah/.local/lib/python3.8/site-packages/sklearn/linear_model/_coordinate_descent.py:526: ConvergenceWarning: Objective did not converge. You might want to increase the number of iterations. Duality gap: 631.3089777437162, tolerance: 3.9047173184357535\n",
      "  model = cd_fast.enet_coordinate_descent_gram(\n",
      "/home/blah/.local/lib/python3.8/site-packages/sklearn/linear_model/_coordinate_descent.py:526: ConvergenceWarning: Objective did not converge. You might want to increase the number of iterations. Duality gap: 1932.484108331868, tolerance: 3.949746262303806\n",
      "  model = cd_fast.enet_coordinate_descent_gram(\n",
      "/home/blah/.local/lib/python3.8/site-packages/sklearn/linear_model/_coordinate_descent.py:526: ConvergenceWarning: Objective did not converge. You might want to increase the number of iterations. Duality gap: 639.8844486370836, tolerance: 3.949746262303806\n",
      "  model = cd_fast.enet_coordinate_descent_gram(\n",
      "/home/blah/.local/lib/python3.8/site-packages/sklearn/linear_model/_coordinate_descent.py:526: ConvergenceWarning: Objective did not converge. You might want to increase the number of iterations. Duality gap: 639.8851679180061, tolerance: 3.949746262303806\n",
      "  model = cd_fast.enet_coordinate_descent_gram(\n",
      "/home/blah/.local/lib/python3.8/site-packages/sklearn/linear_model/_coordinate_descent.py:526: ConvergenceWarning: Objective did not converge. You might want to increase the number of iterations. Duality gap: 639.8852791054469, tolerance: 3.949746262303806\n",
      "  model = cd_fast.enet_coordinate_descent_gram(\n",
      "/home/blah/.local/lib/python3.8/site-packages/sklearn/linear_model/_coordinate_descent.py:526: ConvergenceWarning: Objective did not converge. You might want to increase the number of iterations. Duality gap: 639.8857379513884, tolerance: 3.949746262303806\n",
      "  model = cd_fast.enet_coordinate_descent_gram(\n",
      "/home/blah/.local/lib/python3.8/site-packages/sklearn/linear_model/_coordinate_descent.py:526: ConvergenceWarning: Objective did not converge. You might want to increase the number of iterations. Duality gap: 639.8828651650929, tolerance: 3.949746262303806\n",
      "  model = cd_fast.enet_coordinate_descent_gram(\n",
      "/home/blah/.local/lib/python3.8/site-packages/sklearn/linear_model/_coordinate_descent.py:526: ConvergenceWarning: Objective did not converge. You might want to increase the number of iterations. Duality gap: 639.8832752211092, tolerance: 3.949746262303806\n",
      "  model = cd_fast.enet_coordinate_descent_gram(\n",
      "/home/blah/.local/lib/python3.8/site-packages/sklearn/linear_model/_coordinate_descent.py:526: ConvergenceWarning: Objective did not converge. You might want to increase the number of iterations. Duality gap: 639.8837319987961, tolerance: 3.949746262303806\n",
      "  model = cd_fast.enet_coordinate_descent_gram(\n",
      "/home/blah/.local/lib/python3.8/site-packages/sklearn/linear_model/_coordinate_descent.py:526: ConvergenceWarning: Objective did not converge. You might want to increase the number of iterations. Duality gap: 639.8827560399241, tolerance: 3.949746262303806\n",
      "  model = cd_fast.enet_coordinate_descent_gram(\n",
      "/home/blah/.local/lib/python3.8/site-packages/sklearn/linear_model/_coordinate_descent.py:526: ConvergenceWarning: Objective did not converge. You might want to increase the number of iterations. Duality gap: 880.5329716950528, tolerance: 3.9679580739558435\n",
      "  model = cd_fast.enet_coordinate_descent_gram(\n",
      "/home/blah/.local/lib/python3.8/site-packages/sklearn/linear_model/_coordinate_descent.py:526: ConvergenceWarning: Objective did not converge. You might want to increase the number of iterations. Duality gap: 644.2674628884924, tolerance: 3.9679580739558435\n",
      "  model = cd_fast.enet_coordinate_descent_gram(\n",
      "/home/blah/.local/lib/python3.8/site-packages/sklearn/linear_model/_coordinate_descent.py:526: ConvergenceWarning: Objective did not converge. You might want to increase the number of iterations. Duality gap: 644.2658186566077, tolerance: 3.9679580739558435\n",
      "  model = cd_fast.enet_coordinate_descent_gram(\n",
      "/home/blah/.local/lib/python3.8/site-packages/sklearn/linear_model/_coordinate_descent.py:526: ConvergenceWarning: Objective did not converge. You might want to increase the number of iterations. Duality gap: 644.2651333439717, tolerance: 3.9679580739558435\n",
      "  model = cd_fast.enet_coordinate_descent_gram(\n",
      "/home/blah/.local/lib/python3.8/site-packages/sklearn/linear_model/_coordinate_descent.py:526: ConvergenceWarning: Objective did not converge. You might want to increase the number of iterations. Duality gap: 644.264251024757, tolerance: 3.9679580739558435\n",
      "  model = cd_fast.enet_coordinate_descent_gram(\n",
      "/home/blah/.local/lib/python3.8/site-packages/sklearn/linear_model/_coordinate_descent.py:526: ConvergenceWarning: Objective did not converge. You might want to increase the number of iterations. Duality gap: 644.2656335785941, tolerance: 3.9679580739558435\n",
      "  model = cd_fast.enet_coordinate_descent_gram(\n",
      "/home/blah/.local/lib/python3.8/site-packages/sklearn/linear_model/_coordinate_descent.py:526: ConvergenceWarning: Objective did not converge. You might want to increase the number of iterations. Duality gap: 644.2664963291936, tolerance: 3.9679580739558435\n",
      "  model = cd_fast.enet_coordinate_descent_gram(\n",
      "/home/blah/.local/lib/python3.8/site-packages/sklearn/linear_model/_coordinate_descent.py:526: ConvergenceWarning: Objective did not converge. You might want to increase the number of iterations. Duality gap: 644.2697194271459, tolerance: 3.9679580739558435\n",
      "  model = cd_fast.enet_coordinate_descent_gram(\n",
      "/home/blah/.local/lib/python3.8/site-packages/sklearn/linear_model/_coordinate_descent.py:526: ConvergenceWarning: Objective did not converge. You might want to increase the number of iterations. Duality gap: 644.2641164281686, tolerance: 3.9679580739558435\n",
      "  model = cd_fast.enet_coordinate_descent_gram(\n",
      "/home/blah/.local/lib/python3.8/site-packages/sklearn/linear_model/_coordinate_descent.py:526: ConvergenceWarning: Objective did not converge. You might want to increase the number of iterations. Duality gap: 2920.5912820297817, tolerance: 3.95066624102155\n",
      "  model = cd_fast.enet_coordinate_descent_gram(\n",
      "/home/blah/.local/lib/python3.8/site-packages/sklearn/linear_model/_coordinate_descent.py:526: ConvergenceWarning: Objective did not converge. You might want to increase the number of iterations. Duality gap: 633.4174006520898, tolerance: 3.95066624102155\n",
      "  model = cd_fast.enet_coordinate_descent_gram(\n",
      "/home/blah/.local/lib/python3.8/site-packages/sklearn/linear_model/_coordinate_descent.py:526: ConvergenceWarning: Objective did not converge. You might want to increase the number of iterations. Duality gap: 633.416170911567, tolerance: 3.95066624102155\n",
      "  model = cd_fast.enet_coordinate_descent_gram(\n",
      "/home/blah/.local/lib/python3.8/site-packages/sklearn/linear_model/_coordinate_descent.py:526: ConvergenceWarning: Objective did not converge. You might want to increase the number of iterations. Duality gap: 633.415943006592, tolerance: 3.95066624102155\n",
      "  model = cd_fast.enet_coordinate_descent_gram(\n",
      "/home/blah/.local/lib/python3.8/site-packages/sklearn/linear_model/_coordinate_descent.py:526: ConvergenceWarning: Objective did not converge. You might want to increase the number of iterations. Duality gap: 633.4154903740491, tolerance: 3.95066624102155\n",
      "  model = cd_fast.enet_coordinate_descent_gram(\n",
      "/home/blah/.local/lib/python3.8/site-packages/sklearn/linear_model/_coordinate_descent.py:526: ConvergenceWarning: Objective did not converge. You might want to increase the number of iterations. Duality gap: 633.4173828259718, tolerance: 3.95066624102155\n",
      "  model = cd_fast.enet_coordinate_descent_gram(\n",
      "/home/blah/.local/lib/python3.8/site-packages/sklearn/linear_model/_coordinate_descent.py:526: ConvergenceWarning: Objective did not converge. You might want to increase the number of iterations. Duality gap: 633.4200013388181, tolerance: 3.95066624102155\n",
      "  model = cd_fast.enet_coordinate_descent_gram(\n",
      "/home/blah/.local/lib/python3.8/site-packages/sklearn/linear_model/_coordinate_descent.py:526: ConvergenceWarning: Objective did not converge. You might want to increase the number of iterations. Duality gap: 633.417643856621, tolerance: 3.95066624102155\n",
      "  model = cd_fast.enet_coordinate_descent_gram(\n",
      "/home/blah/.local/lib/python3.8/site-packages/sklearn/linear_model/_coordinate_descent.py:526: ConvergenceWarning: Objective did not converge. You might want to increase the number of iterations. Duality gap: 633.4159748792481, tolerance: 3.95066624102155\n",
      "  model = cd_fast.enet_coordinate_descent_gram(\n",
      "/home/blah/.local/lib/python3.8/site-packages/sklearn/linear_model/_coordinate_descent.py:526: ConvergenceWarning: Objective did not converge. You might want to increase the number of iterations. Duality gap: 1829.1225121353273, tolerance: 3.880775951050812\n",
      "  model = cd_fast.enet_coordinate_descent_gram(\n",
      "/home/blah/.local/lib/python3.8/site-packages/sklearn/linear_model/_coordinate_descent.py:526: ConvergenceWarning: Objective did not converge. You might want to increase the number of iterations. Duality gap: 637.5436848256504, tolerance: 3.880775951050812\n",
      "  model = cd_fast.enet_coordinate_descent_gram(\n",
      "/home/blah/.local/lib/python3.8/site-packages/sklearn/linear_model/_coordinate_descent.py:526: ConvergenceWarning: Objective did not converge. You might want to increase the number of iterations. Duality gap: 637.5431498917424, tolerance: 3.880775951050812\n",
      "  model = cd_fast.enet_coordinate_descent_gram(\n",
      "/home/blah/.local/lib/python3.8/site-packages/sklearn/linear_model/_coordinate_descent.py:526: ConvergenceWarning: Objective did not converge. You might want to increase the number of iterations. Duality gap: 637.5434617081264, tolerance: 3.880775951050812\n",
      "  model = cd_fast.enet_coordinate_descent_gram(\n",
      "/home/blah/.local/lib/python3.8/site-packages/sklearn/linear_model/_coordinate_descent.py:526: ConvergenceWarning: Objective did not converge. You might want to increase the number of iterations. Duality gap: 637.5439160763508, tolerance: 3.880775951050812\n",
      "  model = cd_fast.enet_coordinate_descent_gram(\n",
      "/home/blah/.local/lib/python3.8/site-packages/sklearn/linear_model/_coordinate_descent.py:526: ConvergenceWarning: Objective did not converge. You might want to increase the number of iterations. Duality gap: 637.5427798928122, tolerance: 3.880775951050812\n",
      "  model = cd_fast.enet_coordinate_descent_gram(\n",
      "/home/blah/.local/lib/python3.8/site-packages/sklearn/linear_model/_coordinate_descent.py:526: ConvergenceWarning: Objective did not converge. You might want to increase the number of iterations. Duality gap: 637.5414107471224, tolerance: 3.880775951050812\n",
      "  model = cd_fast.enet_coordinate_descent_gram(\n",
      "/home/blah/.local/lib/python3.8/site-packages/sklearn/linear_model/_coordinate_descent.py:526: ConvergenceWarning: Objective did not converge. You might want to increase the number of iterations. Duality gap: 637.5450565418705, tolerance: 3.880775951050812\n",
      "  model = cd_fast.enet_coordinate_descent_gram(\n",
      "/home/blah/.local/lib/python3.8/site-packages/sklearn/linear_model/_coordinate_descent.py:526: ConvergenceWarning: Objective did not converge. You might want to increase the number of iterations. Duality gap: 637.542476185683, tolerance: 3.880775951050812\n",
      "  model = cd_fast.enet_coordinate_descent_gram(\n",
      "/home/blah/.local/lib/python3.8/site-packages/sklearn/linear_model/_coordinate_descent.py:526: ConvergenceWarning: Objective did not converge. You might want to increase the number of iterations. Duality gap: 1210.226236882152, tolerance: 3.8896476329787273\n",
      "  model = cd_fast.enet_coordinate_descent_gram(\n",
      "/home/blah/.local/lib/python3.8/site-packages/sklearn/linear_model/_coordinate_descent.py:526: ConvergenceWarning: Objective did not converge. You might want to increase the number of iterations. Duality gap: 645.6911328091373, tolerance: 3.8896476329787273\n",
      "  model = cd_fast.enet_coordinate_descent_gram(\n",
      "/home/blah/.local/lib/python3.8/site-packages/sklearn/linear_model/_coordinate_descent.py:526: ConvergenceWarning: Objective did not converge. You might want to increase the number of iterations. Duality gap: 645.6925026996087, tolerance: 3.8896476329787273\n",
      "  model = cd_fast.enet_coordinate_descent_gram(\n",
      "/home/blah/.local/lib/python3.8/site-packages/sklearn/linear_model/_coordinate_descent.py:526: ConvergenceWarning: Objective did not converge. You might want to increase the number of iterations. Duality gap: 645.6919095572812, tolerance: 3.8896476329787273\n",
      "  model = cd_fast.enet_coordinate_descent_gram(\n",
      "/home/blah/.local/lib/python3.8/site-packages/sklearn/linear_model/_coordinate_descent.py:526: ConvergenceWarning: Objective did not converge. You might want to increase the number of iterations. Duality gap: 645.6905740345719, tolerance: 3.8896476329787273\n",
      "  model = cd_fast.enet_coordinate_descent_gram(\n",
      "/home/blah/.local/lib/python3.8/site-packages/sklearn/linear_model/_coordinate_descent.py:526: ConvergenceWarning: Objective did not converge. You might want to increase the number of iterations. Duality gap: 645.68942260927, tolerance: 3.8896476329787273\n",
      "  model = cd_fast.enet_coordinate_descent_gram(\n",
      "/home/blah/.local/lib/python3.8/site-packages/sklearn/linear_model/_coordinate_descent.py:526: ConvergenceWarning: Objective did not converge. You might want to increase the number of iterations. Duality gap: 645.6876715690796, tolerance: 3.8896476329787273\n",
      "  model = cd_fast.enet_coordinate_descent_gram(\n",
      "/home/blah/.local/lib/python3.8/site-packages/sklearn/linear_model/_coordinate_descent.py:526: ConvergenceWarning: Objective did not converge. You might want to increase the number of iterations. Duality gap: 645.6953408528534, tolerance: 3.8896476329787273\n",
      "  model = cd_fast.enet_coordinate_descent_gram(\n",
      "/home/blah/.local/lib/python3.8/site-packages/sklearn/linear_model/_coordinate_descent.py:526: ConvergenceWarning: Objective did not converge. You might want to increase the number of iterations. Duality gap: 645.6953728906628, tolerance: 3.8896476329787273\n",
      "  model = cd_fast.enet_coordinate_descent_gram(\n",
      "/home/blah/.local/lib/python3.8/site-packages/sklearn/linear_model/_coordinate_descent.py:526: ConvergenceWarning: Objective did not converge. You might want to increase the number of iterations. Duality gap: 769.7506779324158, tolerance: 3.9281323404255297\n",
      "  model = cd_fast.enet_coordinate_descent_gram(\n",
      "/home/blah/.local/lib/python3.8/site-packages/sklearn/linear_model/_coordinate_descent.py:526: ConvergenceWarning: Objective did not converge. You might want to increase the number of iterations. Duality gap: 638.8279141886014, tolerance: 3.9281323404255297\n",
      "  model = cd_fast.enet_coordinate_descent_gram(\n",
      "/home/blah/.local/lib/python3.8/site-packages/sklearn/linear_model/_coordinate_descent.py:526: ConvergenceWarning: Objective did not converge. You might want to increase the number of iterations. Duality gap: 638.8259496494247, tolerance: 3.9281323404255297\n",
      "  model = cd_fast.enet_coordinate_descent_gram(\n",
      "/home/blah/.local/lib/python3.8/site-packages/sklearn/linear_model/_coordinate_descent.py:526: ConvergenceWarning: Objective did not converge. You might want to increase the number of iterations. Duality gap: 638.8285344250053, tolerance: 3.9281323404255297\n",
      "  model = cd_fast.enet_coordinate_descent_gram(\n",
      "/home/blah/.local/lib/python3.8/site-packages/sklearn/linear_model/_coordinate_descent.py:526: ConvergenceWarning: Objective did not converge. You might want to increase the number of iterations. Duality gap: 638.8268394060815, tolerance: 3.9281323404255297\n",
      "  model = cd_fast.enet_coordinate_descent_gram(\n",
      "/home/blah/.local/lib/python3.8/site-packages/sklearn/linear_model/_coordinate_descent.py:526: ConvergenceWarning: Objective did not converge. You might want to increase the number of iterations. Duality gap: 638.8259649157517, tolerance: 3.9281323404255297\n",
      "  model = cd_fast.enet_coordinate_descent_gram(\n",
      "/home/blah/.local/lib/python3.8/site-packages/sklearn/linear_model/_coordinate_descent.py:526: ConvergenceWarning: Objective did not converge. You might want to increase the number of iterations. Duality gap: 638.830949519448, tolerance: 3.9281323404255297\n",
      "  model = cd_fast.enet_coordinate_descent_gram(\n",
      "/home/blah/.local/lib/python3.8/site-packages/sklearn/linear_model/_coordinate_descent.py:526: ConvergenceWarning: Objective did not converge. You might want to increase the number of iterations. Duality gap: 638.8219684224096, tolerance: 3.9281323404255297\n",
      "  model = cd_fast.enet_coordinate_descent_gram(\n",
      "/home/blah/.local/lib/python3.8/site-packages/sklearn/linear_model/_coordinate_descent.py:526: ConvergenceWarning: Objective did not converge. You might want to increase the number of iterations. Duality gap: 638.8317271770939, tolerance: 3.9281323404255297\n",
      "  model = cd_fast.enet_coordinate_descent_gram(\n",
      "/home/blah/.local/lib/python3.8/site-packages/sklearn/linear_model/_coordinate_descent.py:526: ConvergenceWarning: Objective did not converge. You might want to increase the number of iterations. Duality gap: 1647.3422324935564, tolerance: 3.836734441489362\n",
      "  model = cd_fast.enet_coordinate_descent_gram(\n",
      "/home/blah/.local/lib/python3.8/site-packages/sklearn/linear_model/_coordinate_descent.py:526: ConvergenceWarning: Objective did not converge. You might want to increase the number of iterations. Duality gap: 615.4901772374906, tolerance: 3.836734441489362\n",
      "  model = cd_fast.enet_coordinate_descent_gram(\n",
      "/home/blah/.local/lib/python3.8/site-packages/sklearn/linear_model/_coordinate_descent.py:526: ConvergenceWarning: Objective did not converge. You might want to increase the number of iterations. Duality gap: 615.4894191243457, tolerance: 3.836734441489362\n",
      "  model = cd_fast.enet_coordinate_descent_gram(\n",
      "/home/blah/.local/lib/python3.8/site-packages/sklearn/linear_model/_coordinate_descent.py:526: ConvergenceWarning: Objective did not converge. You might want to increase the number of iterations. Duality gap: 615.4893229645259, tolerance: 3.836734441489362\n",
      "  model = cd_fast.enet_coordinate_descent_gram(\n",
      "/home/blah/.local/lib/python3.8/site-packages/sklearn/linear_model/_coordinate_descent.py:526: ConvergenceWarning: Objective did not converge. You might want to increase the number of iterations. Duality gap: 615.4897876201885, tolerance: 3.836734441489362\n",
      "  model = cd_fast.enet_coordinate_descent_gram(\n",
      "/home/blah/.local/lib/python3.8/site-packages/sklearn/linear_model/_coordinate_descent.py:526: ConvergenceWarning: Objective did not converge. You might want to increase the number of iterations. Duality gap: 615.4878306348328, tolerance: 3.836734441489362\n",
      "  model = cd_fast.enet_coordinate_descent_gram(\n",
      "/home/blah/.local/lib/python3.8/site-packages/sklearn/linear_model/_coordinate_descent.py:526: ConvergenceWarning: Objective did not converge. You might want to increase the number of iterations. Duality gap: 615.4896798168556, tolerance: 3.836734441489362\n",
      "  model = cd_fast.enet_coordinate_descent_gram(\n"
     ]
    },
    {
     "name": "stderr",
     "output_type": "stream",
     "text": [
      "/home/blah/.local/lib/python3.8/site-packages/sklearn/linear_model/_coordinate_descent.py:526: ConvergenceWarning: Objective did not converge. You might want to increase the number of iterations. Duality gap: 615.4883740774694, tolerance: 3.836734441489362\n",
      "  model = cd_fast.enet_coordinate_descent_gram(\n",
      "/home/blah/.local/lib/python3.8/site-packages/sklearn/linear_model/_coordinate_descent.py:526: ConvergenceWarning: Objective did not converge. You might want to increase the number of iterations. Duality gap: 615.4933478030107, tolerance: 3.836734441489362\n",
      "  model = cd_fast.enet_coordinate_descent_gram(\n",
      "/home/blah/.local/lib/python3.8/site-packages/sklearn/linear_model/_coordinate_descent.py:526: ConvergenceWarning: Objective did not converge. You might want to increase the number of iterations. Duality gap: 2595.2277847492624, tolerance: 3.9427532322426204\n",
      "  model = cd_fast.enet_coordinate_descent_gram(\n",
      "/home/blah/.local/lib/python3.8/site-packages/sklearn/linear_model/_coordinate_descent.py:526: ConvergenceWarning: Objective did not converge. You might want to increase the number of iterations. Duality gap: 639.9582545491139, tolerance: 3.9427532322426204\n",
      "  model = cd_fast.enet_coordinate_descent_gram(\n",
      "/home/blah/.local/lib/python3.8/site-packages/sklearn/linear_model/_coordinate_descent.py:526: ConvergenceWarning: Objective did not converge. You might want to increase the number of iterations. Duality gap: 639.956098211238, tolerance: 3.9427532322426204\n",
      "  model = cd_fast.enet_coordinate_descent_gram(\n",
      "/home/blah/.local/lib/python3.8/site-packages/sklearn/linear_model/_coordinate_descent.py:526: ConvergenceWarning: Objective did not converge. You might want to increase the number of iterations. Duality gap: 639.9556757846658, tolerance: 3.9427532322426204\n",
      "  model = cd_fast.enet_coordinate_descent_gram(\n",
      "/home/blah/.local/lib/python3.8/site-packages/sklearn/linear_model/_coordinate_descent.py:526: ConvergenceWarning: Objective did not converge. You might want to increase the number of iterations. Duality gap: 639.9550396383165, tolerance: 3.9427532322426204\n",
      "  model = cd_fast.enet_coordinate_descent_gram(\n",
      "/home/blah/.local/lib/python3.8/site-packages/sklearn/linear_model/_coordinate_descent.py:526: ConvergenceWarning: Objective did not converge. You might want to increase the number of iterations. Duality gap: 639.9574675225322, tolerance: 3.9427532322426204\n",
      "  model = cd_fast.enet_coordinate_descent_gram(\n",
      "/home/blah/.local/lib/python3.8/site-packages/sklearn/linear_model/_coordinate_descent.py:526: ConvergenceWarning: Objective did not converge. You might want to increase the number of iterations. Duality gap: 639.9598974940382, tolerance: 3.9427532322426204\n",
      "  model = cd_fast.enet_coordinate_descent_gram(\n",
      "/home/blah/.local/lib/python3.8/site-packages/sklearn/linear_model/_coordinate_descent.py:526: ConvergenceWarning: Objective did not converge. You might want to increase the number of iterations. Duality gap: 639.9598010242898, tolerance: 3.9427532322426204\n",
      "  model = cd_fast.enet_coordinate_descent_gram(\n",
      "/home/blah/.local/lib/python3.8/site-packages/sklearn/linear_model/_coordinate_descent.py:526: ConvergenceWarning: Objective did not converge. You might want to increase the number of iterations. Duality gap: 639.9554747187267, tolerance: 3.9427532322426204\n",
      "  model = cd_fast.enet_coordinate_descent_gram(\n",
      "/home/blah/.local/lib/python3.8/site-packages/sklearn/linear_model/_coordinate_descent.py:526: ConvergenceWarning: Objective did not converge. You might want to increase the number of iterations. Duality gap: 1033.737968540181, tolerance: 3.9196472998137777\n",
      "  model = cd_fast.enet_coordinate_descent_gram(\n",
      "/home/blah/.local/lib/python3.8/site-packages/sklearn/linear_model/_coordinate_descent.py:526: ConvergenceWarning: Objective did not converge. You might want to increase the number of iterations. Duality gap: 632.6193091275127, tolerance: 3.9196472998137777\n",
      "  model = cd_fast.enet_coordinate_descent_gram(\n",
      "/home/blah/.local/lib/python3.8/site-packages/sklearn/linear_model/_coordinate_descent.py:526: ConvergenceWarning: Objective did not converge. You might want to increase the number of iterations. Duality gap: 632.6174473612409, tolerance: 3.9196472998137777\n",
      "  model = cd_fast.enet_coordinate_descent_gram(\n",
      "/home/blah/.local/lib/python3.8/site-packages/sklearn/linear_model/_coordinate_descent.py:526: ConvergenceWarning: Objective did not converge. You might want to increase the number of iterations. Duality gap: 632.6170261093594, tolerance: 3.9196472998137777\n",
      "  model = cd_fast.enet_coordinate_descent_gram(\n",
      "/home/blah/.local/lib/python3.8/site-packages/sklearn/linear_model/_coordinate_descent.py:526: ConvergenceWarning: Objective did not converge. You might want to increase the number of iterations. Duality gap: 632.6163510828592, tolerance: 3.9196472998137777\n",
      "  model = cd_fast.enet_coordinate_descent_gram(\n",
      "/home/blah/.local/lib/python3.8/site-packages/sklearn/linear_model/_coordinate_descent.py:526: ConvergenceWarning: Objective did not converge. You might want to increase the number of iterations. Duality gap: 632.6178685449831, tolerance: 3.9196472998137777\n",
      "  model = cd_fast.enet_coordinate_descent_gram(\n",
      "/home/blah/.local/lib/python3.8/site-packages/sklearn/linear_model/_coordinate_descent.py:526: ConvergenceWarning: Objective did not converge. You might want to increase the number of iterations. Duality gap: 632.6201099050177, tolerance: 3.9196472998137777\n",
      "  model = cd_fast.enet_coordinate_descent_gram(\n",
      "/home/blah/.local/lib/python3.8/site-packages/sklearn/linear_model/_coordinate_descent.py:526: ConvergenceWarning: Objective did not converge. You might want to increase the number of iterations. Duality gap: 632.6214776012584, tolerance: 3.9196472998137777\n",
      "  model = cd_fast.enet_coordinate_descent_gram(\n",
      "/home/blah/.local/lib/python3.8/site-packages/sklearn/linear_model/_coordinate_descent.py:526: ConvergenceWarning: Objective did not converge. You might want to increase the number of iterations. Duality gap: 632.6186017771251, tolerance: 3.9196472998137777\n",
      "  model = cd_fast.enet_coordinate_descent_gram(\n",
      "/home/blah/.local/lib/python3.8/site-packages/sklearn/linear_model/_coordinate_descent.py:526: ConvergenceWarning: Objective did not converge. You might want to increase the number of iterations. Duality gap: 1589.482388437642, tolerance: 3.8826027666932688\n",
      "  model = cd_fast.enet_coordinate_descent_gram(\n",
      "/home/blah/.local/lib/python3.8/site-packages/sklearn/linear_model/_coordinate_descent.py:526: ConvergenceWarning: Objective did not converge. You might want to increase the number of iterations. Duality gap: 641.369421799518, tolerance: 3.8826027666932688\n",
      "  model = cd_fast.enet_coordinate_descent_gram(\n",
      "/home/blah/.local/lib/python3.8/site-packages/sklearn/linear_model/_coordinate_descent.py:526: ConvergenceWarning: Objective did not converge. You might want to increase the number of iterations. Duality gap: 641.3671099797157, tolerance: 3.8826027666932688\n",
      "  model = cd_fast.enet_coordinate_descent_gram(\n",
      "/home/blah/.local/lib/python3.8/site-packages/sklearn/linear_model/_coordinate_descent.py:526: ConvergenceWarning: Objective did not converge. You might want to increase the number of iterations. Duality gap: 641.3667993132658, tolerance: 3.8826027666932688\n",
      "  model = cd_fast.enet_coordinate_descent_gram(\n",
      "/home/blah/.local/lib/python3.8/site-packages/sklearn/linear_model/_coordinate_descent.py:526: ConvergenceWarning: Objective did not converge. You might want to increase the number of iterations. Duality gap: 641.3664530753176, tolerance: 3.8826027666932688\n",
      "  model = cd_fast.enet_coordinate_descent_gram(\n",
      "/home/blah/.local/lib/python3.8/site-packages/sklearn/linear_model/_coordinate_descent.py:526: ConvergenceWarning: Objective did not converge. You might want to increase the number of iterations. Duality gap: 641.3681302231762, tolerance: 3.8826027666932688\n",
      "  model = cd_fast.enet_coordinate_descent_gram(\n",
      "/home/blah/.local/lib/python3.8/site-packages/sklearn/linear_model/_coordinate_descent.py:526: ConvergenceWarning: Objective did not converge. You might want to increase the number of iterations. Duality gap: 641.3653455568947, tolerance: 3.8826027666932688\n",
      "  model = cd_fast.enet_coordinate_descent_gram(\n",
      "/home/blah/.local/lib/python3.8/site-packages/sklearn/linear_model/_coordinate_descent.py:526: ConvergenceWarning: Objective did not converge. You might want to increase the number of iterations. Duality gap: 641.3683093725449, tolerance: 3.8826027666932688\n",
      "  model = cd_fast.enet_coordinate_descent_gram(\n",
      "/home/blah/.local/lib/python3.8/site-packages/sklearn/linear_model/_coordinate_descent.py:526: ConvergenceWarning: Objective did not converge. You might want to increase the number of iterations. Duality gap: 641.3677452413558, tolerance: 3.8826027666932688\n",
      "  model = cd_fast.enet_coordinate_descent_gram(\n",
      "/home/blah/.local/lib/python3.8/site-packages/sklearn/linear_model/_coordinate_descent.py:526: ConvergenceWarning: Objective did not converge. You might want to increase the number of iterations. Duality gap: 2863.878839949097, tolerance: 3.7574262303804193\n",
      "  model = cd_fast.enet_coordinate_descent_gram(\n",
      "/home/blah/.local/lib/python3.8/site-packages/sklearn/linear_model/_coordinate_descent.py:526: ConvergenceWarning: Objective did not converge. You might want to increase the number of iterations. Duality gap: 611.3965300465097, tolerance: 3.7574262303804193\n",
      "  model = cd_fast.enet_coordinate_descent_gram(\n",
      "/home/blah/.local/lib/python3.8/site-packages/sklearn/linear_model/_coordinate_descent.py:526: ConvergenceWarning: Objective did not converge. You might want to increase the number of iterations. Duality gap: 611.3951668113696, tolerance: 3.7574262303804193\n",
      "  model = cd_fast.enet_coordinate_descent_gram(\n",
      "/home/blah/.local/lib/python3.8/site-packages/sklearn/linear_model/_coordinate_descent.py:526: ConvergenceWarning: Objective did not converge. You might want to increase the number of iterations. Duality gap: 611.3945243120979, tolerance: 3.7574262303804193\n",
      "  model = cd_fast.enet_coordinate_descent_gram(\n",
      "/home/blah/.local/lib/python3.8/site-packages/sklearn/linear_model/_coordinate_descent.py:526: ConvergenceWarning: Objective did not converge. You might want to increase the number of iterations. Duality gap: 611.3939407926537, tolerance: 3.7574262303804193\n",
      "  model = cd_fast.enet_coordinate_descent_gram(\n",
      "/home/blah/.local/lib/python3.8/site-packages/sklearn/linear_model/_coordinate_descent.py:526: ConvergenceWarning: Objective did not converge. You might want to increase the number of iterations. Duality gap: 611.3947681051577, tolerance: 3.7574262303804193\n",
      "  model = cd_fast.enet_coordinate_descent_gram(\n",
      "/home/blah/.local/lib/python3.8/site-packages/sklearn/linear_model/_coordinate_descent.py:526: ConvergenceWarning: Objective did not converge. You might want to increase the number of iterations. Duality gap: 611.3929461096577, tolerance: 3.7574262303804193\n",
      "  model = cd_fast.enet_coordinate_descent_gram(\n",
      "/home/blah/.local/lib/python3.8/site-packages/sklearn/linear_model/_coordinate_descent.py:526: ConvergenceWarning: Objective did not converge. You might want to increase the number of iterations. Duality gap: 611.3986592225883, tolerance: 3.7574262303804193\n",
      "  model = cd_fast.enet_coordinate_descent_gram(\n",
      "/home/blah/.local/lib/python3.8/site-packages/sklearn/linear_model/_coordinate_descent.py:526: ConvergenceWarning: Objective did not converge. You might want to increase the number of iterations. Duality gap: 611.3942320057686, tolerance: 3.7574262303804193\n",
      "  model = cd_fast.enet_coordinate_descent_gram(\n",
      "/home/blah/.local/lib/python3.8/site-packages/sklearn/linear_model/_coordinate_descent.py:526: ConvergenceWarning: Objective did not converge. You might want to increase the number of iterations. Duality gap: 1175.8439266880068, tolerance: 3.8553627028465027\n",
      "  model = cd_fast.enet_coordinate_descent_gram(\n",
      "/home/blah/.local/lib/python3.8/site-packages/sklearn/linear_model/_coordinate_descent.py:526: ConvergenceWarning: Objective did not converge. You might want to increase the number of iterations. Duality gap: 631.3197648066944, tolerance: 3.8553627028465027\n",
      "  model = cd_fast.enet_coordinate_descent_gram(\n",
      "/home/blah/.local/lib/python3.8/site-packages/sklearn/linear_model/_coordinate_descent.py:526: ConvergenceWarning: Objective did not converge. You might want to increase the number of iterations. Duality gap: 631.3208633521226, tolerance: 3.8553627028465027\n",
      "  model = cd_fast.enet_coordinate_descent_gram(\n",
      "/home/blah/.local/lib/python3.8/site-packages/sklearn/linear_model/_coordinate_descent.py:526: ConvergenceWarning: Objective did not converge. You might want to increase the number of iterations. Duality gap: 631.3206721624301, tolerance: 3.8553627028465027\n",
      "  model = cd_fast.enet_coordinate_descent_gram(\n",
      "/home/blah/.local/lib/python3.8/site-packages/sklearn/linear_model/_coordinate_descent.py:526: ConvergenceWarning: Objective did not converge. You might want to increase the number of iterations. Duality gap: 631.32039452563, tolerance: 3.8553627028465027\n",
      "  model = cd_fast.enet_coordinate_descent_gram(\n",
      "/home/blah/.local/lib/python3.8/site-packages/sklearn/linear_model/_coordinate_descent.py:526: ConvergenceWarning: Objective did not converge. You might want to increase the number of iterations. Duality gap: 631.3181936451147, tolerance: 3.8553627028465027\n",
      "  model = cd_fast.enet_coordinate_descent_gram(\n",
      "/home/blah/.local/lib/python3.8/site-packages/sklearn/linear_model/_coordinate_descent.py:526: ConvergenceWarning: Objective did not converge. You might want to increase the number of iterations. Duality gap: 631.3171823628327, tolerance: 3.8553627028465027\n",
      "  model = cd_fast.enet_coordinate_descent_gram(\n",
      "/home/blah/.local/lib/python3.8/site-packages/sklearn/linear_model/_coordinate_descent.py:526: ConvergenceWarning: Objective did not converge. You might want to increase the number of iterations. Duality gap: 631.3196735472284, tolerance: 3.8553627028465027\n",
      "  model = cd_fast.enet_coordinate_descent_gram(\n",
      "/home/blah/.local/lib/python3.8/site-packages/sklearn/linear_model/_coordinate_descent.py:526: ConvergenceWarning: Objective did not converge. You might want to increase the number of iterations. Duality gap: 631.3186415432792, tolerance: 3.8553627028465027\n",
      "  model = cd_fast.enet_coordinate_descent_gram(\n",
      "/home/blah/.local/lib/python3.8/site-packages/sklearn/linear_model/_coordinate_descent.py:526: ConvergenceWarning: Objective did not converge. You might want to increase the number of iterations. Duality gap: 1902.2762993122633, tolerance: 3.9859380686352766\n",
      "  model = cd_fast.enet_coordinate_descent_gram(\n",
      "/home/blah/.local/lib/python3.8/site-packages/sklearn/linear_model/_coordinate_descent.py:526: ConvergenceWarning: Objective did not converge. You might want to increase the number of iterations. Duality gap: 653.5371982852648, tolerance: 3.9859380686352766\n",
      "  model = cd_fast.enet_coordinate_descent_gram(\n",
      "/home/blah/.local/lib/python3.8/site-packages/sklearn/linear_model/_coordinate_descent.py:526: ConvergenceWarning: Objective did not converge. You might want to increase the number of iterations. Duality gap: 653.5351233004058, tolerance: 3.9859380686352766\n",
      "  model = cd_fast.enet_coordinate_descent_gram(\n",
      "/home/blah/.local/lib/python3.8/site-packages/sklearn/linear_model/_coordinate_descent.py:526: ConvergenceWarning: Objective did not converge. You might want to increase the number of iterations. Duality gap: 653.5341974839503, tolerance: 3.9859380686352766\n",
      "  model = cd_fast.enet_coordinate_descent_gram(\n",
      "/home/blah/.local/lib/python3.8/site-packages/sklearn/linear_model/_coordinate_descent.py:526: ConvergenceWarning: Objective did not converge. You might want to increase the number of iterations. Duality gap: 653.533894210499, tolerance: 3.9859380686352766\n",
      "  model = cd_fast.enet_coordinate_descent_gram(\n"
     ]
    },
    {
     "name": "stderr",
     "output_type": "stream",
     "text": [
      "/home/blah/.local/lib/python3.8/site-packages/sklearn/linear_model/_coordinate_descent.py:526: ConvergenceWarning: Objective did not converge. You might want to increase the number of iterations. Duality gap: 653.5350920904912, tolerance: 3.9859380686352766\n",
      "  model = cd_fast.enet_coordinate_descent_gram(\n",
      "/home/blah/.local/lib/python3.8/site-packages/sklearn/linear_model/_coordinate_descent.py:526: ConvergenceWarning: Objective did not converge. You might want to increase the number of iterations. Duality gap: 653.5337394963244, tolerance: 3.9859380686352766\n",
      "  model = cd_fast.enet_coordinate_descent_gram(\n",
      "/home/blah/.local/lib/python3.8/site-packages/sklearn/linear_model/_coordinate_descent.py:526: ConvergenceWarning: Objective did not converge. You might want to increase the number of iterations. Duality gap: 653.5372535015631, tolerance: 3.9859380686352766\n",
      "  model = cd_fast.enet_coordinate_descent_gram(\n",
      "/home/blah/.local/lib/python3.8/site-packages/sklearn/linear_model/_coordinate_descent.py:526: ConvergenceWarning: Objective did not converge. You might want to increase the number of iterations. Duality gap: 653.5352147303402, tolerance: 3.9859380686352766\n",
      "  model = cd_fast.enet_coordinate_descent_gram(\n",
      "/home/blah/.local/lib/python3.8/site-packages/sklearn/linear_model/_coordinate_descent.py:526: ConvergenceWarning: Objective did not converge. You might want to increase the number of iterations. Duality gap: 2455.4576992476686, tolerance: 3.9229105081138576\n",
      "  model = cd_fast.enet_coordinate_descent_gram(\n",
      "/home/blah/.local/lib/python3.8/site-packages/sklearn/linear_model/_coordinate_descent.py:526: ConvergenceWarning: Objective did not converge. You might want to increase the number of iterations. Duality gap: 633.1990436036886, tolerance: 3.9229105081138576\n",
      "  model = cd_fast.enet_coordinate_descent_gram(\n",
      "/home/blah/.local/lib/python3.8/site-packages/sklearn/linear_model/_coordinate_descent.py:526: ConvergenceWarning: Objective did not converge. You might want to increase the number of iterations. Duality gap: 633.2003114901454, tolerance: 3.9229105081138576\n",
      "  model = cd_fast.enet_coordinate_descent_gram(\n",
      "/home/blah/.local/lib/python3.8/site-packages/sklearn/linear_model/_coordinate_descent.py:526: ConvergenceWarning: Objective did not converge. You might want to increase the number of iterations. Duality gap: 633.2004023193003, tolerance: 3.9229105081138576\n",
      "  model = cd_fast.enet_coordinate_descent_gram(\n",
      "/home/blah/.local/lib/python3.8/site-packages/sklearn/linear_model/_coordinate_descent.py:526: ConvergenceWarning: Objective did not converge. You might want to increase the number of iterations. Duality gap: 633.2004058235743, tolerance: 3.9229105081138576\n",
      "  model = cd_fast.enet_coordinate_descent_gram(\n",
      "/home/blah/.local/lib/python3.8/site-packages/sklearn/linear_model/_coordinate_descent.py:526: ConvergenceWarning: Objective did not converge. You might want to increase the number of iterations. Duality gap: 633.197916686242, tolerance: 3.9229105081138576\n",
      "  model = cd_fast.enet_coordinate_descent_gram(\n",
      "/home/blah/.local/lib/python3.8/site-packages/sklearn/linear_model/_coordinate_descent.py:526: ConvergenceWarning: Objective did not converge. You might want to increase the number of iterations. Duality gap: 633.1996750610215, tolerance: 3.9229105081138576\n",
      "  model = cd_fast.enet_coordinate_descent_gram(\n",
      "/home/blah/.local/lib/python3.8/site-packages/sklearn/linear_model/_coordinate_descent.py:526: ConvergenceWarning: Objective did not converge. You might want to increase the number of iterations. Duality gap: 633.1997839709093, tolerance: 3.9229105081138576\n",
      "  model = cd_fast.enet_coordinate_descent_gram(\n",
      "/home/blah/.local/lib/python3.8/site-packages/sklearn/linear_model/_coordinate_descent.py:526: ConvergenceWarning: Objective did not converge. You might want to increase the number of iterations. Duality gap: 633.1979114140868, tolerance: 3.9229105081138576\n",
      "  model = cd_fast.enet_coordinate_descent_gram(\n",
      "/home/blah/.local/lib/python3.8/site-packages/sklearn/linear_model/_coordinate_descent.py:526: ConvergenceWarning: Objective did not converge. You might want to increase the number of iterations. Duality gap: 1349.9346295317955, tolerance: 3.884980824468083\n",
      "  model = cd_fast.enet_coordinate_descent_gram(\n",
      "/home/blah/.local/lib/python3.8/site-packages/sklearn/linear_model/_coordinate_descent.py:526: ConvergenceWarning: Objective did not converge. You might want to increase the number of iterations. Duality gap: 637.734280974204, tolerance: 3.884980824468083\n",
      "  model = cd_fast.enet_coordinate_descent_gram(\n",
      "/home/blah/.local/lib/python3.8/site-packages/sklearn/linear_model/_coordinate_descent.py:526: ConvergenceWarning: Objective did not converge. You might want to increase the number of iterations. Duality gap: 637.7324244389711, tolerance: 3.884980824468083\n",
      "  model = cd_fast.enet_coordinate_descent_gram(\n",
      "/home/blah/.local/lib/python3.8/site-packages/sklearn/linear_model/_coordinate_descent.py:526: ConvergenceWarning: Objective did not converge. You might want to increase the number of iterations. Duality gap: 637.7343900782816, tolerance: 3.884980824468083\n",
      "  model = cd_fast.enet_coordinate_descent_gram(\n",
      "/home/blah/.local/lib/python3.8/site-packages/sklearn/linear_model/_coordinate_descent.py:526: ConvergenceWarning: Objective did not converge. You might want to increase the number of iterations. Duality gap: 637.7335278509054, tolerance: 3.884980824468083\n",
      "  model = cd_fast.enet_coordinate_descent_gram(\n",
      "/home/blah/.local/lib/python3.8/site-packages/sklearn/linear_model/_coordinate_descent.py:526: ConvergenceWarning: Objective did not converge. You might want to increase the number of iterations. Duality gap: 637.7321916430283, tolerance: 3.884980824468083\n",
      "  model = cd_fast.enet_coordinate_descent_gram(\n",
      "/home/blah/.local/lib/python3.8/site-packages/sklearn/linear_model/_coordinate_descent.py:526: ConvergenceWarning: Objective did not converge. You might want to increase the number of iterations. Duality gap: 637.7381606227409, tolerance: 3.884980824468083\n",
      "  model = cd_fast.enet_coordinate_descent_gram(\n",
      "/home/blah/.local/lib/python3.8/site-packages/sklearn/linear_model/_coordinate_descent.py:526: ConvergenceWarning: Objective did not converge. You might want to increase the number of iterations. Duality gap: 637.7281845971611, tolerance: 3.884980824468083\n",
      "  model = cd_fast.enet_coordinate_descent_gram(\n",
      "/home/blah/.local/lib/python3.8/site-packages/sklearn/linear_model/_coordinate_descent.py:526: ConvergenceWarning: Objective did not converge. You might want to increase the number of iterations. Duality gap: 637.7368769074073, tolerance: 3.884980824468083\n",
      "  model = cd_fast.enet_coordinate_descent_gram(\n",
      "/home/blah/.local/lib/python3.8/site-packages/sklearn/linear_model/_coordinate_descent.py:526: ConvergenceWarning: Objective did not converge. You might want to increase the number of iterations. Duality gap: 1105.6312934868401, tolerance: 3.980088696808508\n",
      "  model = cd_fast.enet_coordinate_descent_gram(\n",
      "/home/blah/.local/lib/python3.8/site-packages/sklearn/linear_model/_coordinate_descent.py:526: ConvergenceWarning: Objective did not converge. You might want to increase the number of iterations. Duality gap: 640.8525231854346, tolerance: 3.980088696808508\n",
      "  model = cd_fast.enet_coordinate_descent_gram(\n",
      "/home/blah/.local/lib/python3.8/site-packages/sklearn/linear_model/_coordinate_descent.py:526: ConvergenceWarning: Objective did not converge. You might want to increase the number of iterations. Duality gap: 640.8506976927638, tolerance: 3.980088696808508\n",
      "  model = cd_fast.enet_coordinate_descent_gram(\n",
      "/home/blah/.local/lib/python3.8/site-packages/sklearn/linear_model/_coordinate_descent.py:526: ConvergenceWarning: Objective did not converge. You might want to increase the number of iterations. Duality gap: 640.8530051925318, tolerance: 3.980088696808508\n",
      "  model = cd_fast.enet_coordinate_descent_gram(\n",
      "/home/blah/.local/lib/python3.8/site-packages/sklearn/linear_model/_coordinate_descent.py:526: ConvergenceWarning: Objective did not converge. You might want to increase the number of iterations. Duality gap: 640.8520518657351, tolerance: 3.980088696808508\n",
      "  model = cd_fast.enet_coordinate_descent_gram(\n",
      "/home/blah/.local/lib/python3.8/site-packages/sklearn/linear_model/_coordinate_descent.py:526: ConvergenceWarning: Objective did not converge. You might want to increase the number of iterations. Duality gap: 640.8504150019417, tolerance: 3.980088696808508\n",
      "  model = cd_fast.enet_coordinate_descent_gram(\n",
      "/home/blah/.local/lib/python3.8/site-packages/sklearn/linear_model/_coordinate_descent.py:526: ConvergenceWarning: Objective did not converge. You might want to increase the number of iterations. Duality gap: 640.8560005040381, tolerance: 3.980088696808508\n",
      "  model = cd_fast.enet_coordinate_descent_gram(\n",
      "/home/blah/.local/lib/python3.8/site-packages/sklearn/linear_model/_coordinate_descent.py:526: ConvergenceWarning: Objective did not converge. You might want to increase the number of iterations. Duality gap: 640.8465385357285, tolerance: 3.980088696808508\n",
      "  model = cd_fast.enet_coordinate_descent_gram(\n",
      "/home/blah/.local/lib/python3.8/site-packages/sklearn/linear_model/_coordinate_descent.py:526: ConvergenceWarning: Objective did not converge. You might want to increase the number of iterations. Duality gap: 640.8560413760933, tolerance: 3.980088696808508\n",
      "  model = cd_fast.enet_coordinate_descent_gram(\n",
      "/home/blah/.local/lib/python3.8/site-packages/sklearn/linear_model/_coordinate_descent.py:526: ConvergenceWarning: Objective did not converge. You might want to increase the number of iterations. Duality gap: 743.4277008382705, tolerance: 3.935268085106384\n",
      "  model = cd_fast.enet_coordinate_descent_gram(\n",
      "/home/blah/.local/lib/python3.8/site-packages/sklearn/linear_model/_coordinate_descent.py:526: ConvergenceWarning: Objective did not converge. You might want to increase the number of iterations. Duality gap: 650.5375696275405, tolerance: 3.935268085106384\n",
      "  model = cd_fast.enet_coordinate_descent_gram(\n",
      "/home/blah/.local/lib/python3.8/site-packages/sklearn/linear_model/_coordinate_descent.py:526: ConvergenceWarning: Objective did not converge. You might want to increase the number of iterations. Duality gap: 650.5356210859645, tolerance: 3.935268085106384\n",
      "  model = cd_fast.enet_coordinate_descent_gram(\n",
      "/home/blah/.local/lib/python3.8/site-packages/sklearn/linear_model/_coordinate_descent.py:526: ConvergenceWarning: Objective did not converge. You might want to increase the number of iterations. Duality gap: 650.5378059077666, tolerance: 3.935268085106384\n",
      "  model = cd_fast.enet_coordinate_descent_gram(\n",
      "/home/blah/.local/lib/python3.8/site-packages/sklearn/linear_model/_coordinate_descent.py:526: ConvergenceWarning: Objective did not converge. You might want to increase the number of iterations. Duality gap: 650.5363787453407, tolerance: 3.935268085106384\n",
      "  model = cd_fast.enet_coordinate_descent_gram(\n",
      "/home/blah/.local/lib/python3.8/site-packages/sklearn/linear_model/_coordinate_descent.py:526: ConvergenceWarning: Objective did not converge. You might want to increase the number of iterations. Duality gap: 650.5353760676117, tolerance: 3.935268085106384\n",
      "  model = cd_fast.enet_coordinate_descent_gram(\n",
      "/home/blah/.local/lib/python3.8/site-packages/sklearn/linear_model/_coordinate_descent.py:526: ConvergenceWarning: Objective did not converge. You might want to increase the number of iterations. Duality gap: 650.5411903004988, tolerance: 3.935268085106384\n",
      "  model = cd_fast.enet_coordinate_descent_gram(\n",
      "/home/blah/.local/lib/python3.8/site-packages/sklearn/linear_model/_coordinate_descent.py:526: ConvergenceWarning: Objective did not converge. You might want to increase the number of iterations. Duality gap: 650.5307923191704, tolerance: 3.935268085106384\n",
      "  model = cd_fast.enet_coordinate_descent_gram(\n",
      "/home/blah/.local/lib/python3.8/site-packages/sklearn/linear_model/_coordinate_descent.py:526: ConvergenceWarning: Objective did not converge. You might want to increase the number of iterations. Duality gap: 650.5402104320219, tolerance: 3.935268085106384\n",
      "  model = cd_fast.enet_coordinate_descent_gram(\n",
      "/home/blah/.local/lib/python3.8/site-packages/sklearn/linear_model/_coordinate_descent.py:526: ConvergenceWarning: Objective did not converge. You might want to increase the number of iterations. Duality gap: 2202.126100816846, tolerance: 3.911369725990953\n",
      "  model = cd_fast.enet_coordinate_descent_gram(\n",
      "/home/blah/.local/lib/python3.8/site-packages/sklearn/linear_model/_coordinate_descent.py:526: ConvergenceWarning: Objective did not converge. You might want to increase the number of iterations. Duality gap: 649.0458241127417, tolerance: 3.911369725990953\n",
      "  model = cd_fast.enet_coordinate_descent_gram(\n",
      "/home/blah/.local/lib/python3.8/site-packages/sklearn/linear_model/_coordinate_descent.py:526: ConvergenceWarning: Objective did not converge. You might want to increase the number of iterations. Duality gap: 649.04390986406, tolerance: 3.911369725990953\n",
      "  model = cd_fast.enet_coordinate_descent_gram(\n",
      "/home/blah/.local/lib/python3.8/site-packages/sklearn/linear_model/_coordinate_descent.py:526: ConvergenceWarning: Objective did not converge. You might want to increase the number of iterations. Duality gap: 649.0434229521779, tolerance: 3.911369725990953\n",
      "  model = cd_fast.enet_coordinate_descent_gram(\n",
      "/home/blah/.local/lib/python3.8/site-packages/sklearn/linear_model/_coordinate_descent.py:526: ConvergenceWarning: Objective did not converge. You might want to increase the number of iterations. Duality gap: 649.04256530159, tolerance: 3.911369725990953\n",
      "  model = cd_fast.enet_coordinate_descent_gram(\n",
      "/home/blah/.local/lib/python3.8/site-packages/sklearn/linear_model/_coordinate_descent.py:526: ConvergenceWarning: Objective did not converge. You might want to increase the number of iterations. Duality gap: 649.0446627134388, tolerance: 3.911369725990953\n",
      "  model = cd_fast.enet_coordinate_descent_gram(\n",
      "/home/blah/.local/lib/python3.8/site-packages/sklearn/linear_model/_coordinate_descent.py:526: ConvergenceWarning: Objective did not converge. You might want to increase the number of iterations. Duality gap: 649.0447322293276, tolerance: 3.911369725990953\n",
      "  model = cd_fast.enet_coordinate_descent_gram(\n",
      "/home/blah/.local/lib/python3.8/site-packages/sklearn/linear_model/_coordinate_descent.py:526: ConvergenceWarning: Objective did not converge. You might want to increase the number of iterations. Duality gap: 649.0476065141611, tolerance: 3.911369725990953\n",
      "  model = cd_fast.enet_coordinate_descent_gram(\n",
      "/home/blah/.local/lib/python3.8/site-packages/sklearn/linear_model/_coordinate_descent.py:526: ConvergenceWarning: Objective did not converge. You might want to increase the number of iterations. Duality gap: 649.0441092169149, tolerance: 3.911369725990953\n",
      "  model = cd_fast.enet_coordinate_descent_gram(\n",
      "/home/blah/.local/lib/python3.8/site-packages/sklearn/linear_model/_coordinate_descent.py:526: ConvergenceWarning: Objective did not converge. You might want to increase the number of iterations. Duality gap: 1151.1021240717382, tolerance: 3.9558161745144966\n",
      "  model = cd_fast.enet_coordinate_descent_gram(\n",
      "/home/blah/.local/lib/python3.8/site-packages/sklearn/linear_model/_coordinate_descent.py:526: ConvergenceWarning: Objective did not converge. You might want to increase the number of iterations. Duality gap: 635.245293217813, tolerance: 3.9558161745144966\n",
      "  model = cd_fast.enet_coordinate_descent_gram(\n",
      "/home/blah/.local/lib/python3.8/site-packages/sklearn/linear_model/_coordinate_descent.py:526: ConvergenceWarning: Objective did not converge. You might want to increase the number of iterations. Duality gap: 635.2435038478106, tolerance: 3.9558161745144966\n",
      "  model = cd_fast.enet_coordinate_descent_gram(\n",
      "/home/blah/.local/lib/python3.8/site-packages/sklearn/linear_model/_coordinate_descent.py:526: ConvergenceWarning: Objective did not converge. You might want to increase the number of iterations. Duality gap: 635.2430435187107, tolerance: 3.9558161745144966\n",
      "  model = cd_fast.enet_coordinate_descent_gram(\n",
      "/home/blah/.local/lib/python3.8/site-packages/sklearn/linear_model/_coordinate_descent.py:526: ConvergenceWarning: Objective did not converge. You might want to increase the number of iterations. Duality gap: 635.242830610001, tolerance: 3.9558161745144966\n",
      "  model = cd_fast.enet_coordinate_descent_gram(\n",
      "/home/blah/.local/lib/python3.8/site-packages/sklearn/linear_model/_coordinate_descent.py:526: ConvergenceWarning: Objective did not converge. You might want to increase the number of iterations. Duality gap: 635.2443117834864, tolerance: 3.9558161745144966\n",
      "  model = cd_fast.enet_coordinate_descent_gram(\n",
      "/home/blah/.local/lib/python3.8/site-packages/sklearn/linear_model/_coordinate_descent.py:526: ConvergenceWarning: Objective did not converge. You might want to increase the number of iterations. Duality gap: 635.2446621725812, tolerance: 3.9558161745144966\n",
      "  model = cd_fast.enet_coordinate_descent_gram(\n",
      "/home/blah/.local/lib/python3.8/site-packages/sklearn/linear_model/_coordinate_descent.py:526: ConvergenceWarning: Objective did not converge. You might want to increase the number of iterations. Duality gap: 635.2463157015554, tolerance: 3.9558161745144966\n",
      "  model = cd_fast.enet_coordinate_descent_gram(\n",
      "/home/blah/.local/lib/python3.8/site-packages/sklearn/linear_model/_coordinate_descent.py:526: ConvergenceWarning: Objective did not converge. You might want to increase the number of iterations. Duality gap: 635.2435974149612, tolerance: 3.9558161745144966\n",
      "  model = cd_fast.enet_coordinate_descent_gram(\n",
      "/home/blah/.local/lib/python3.8/site-packages/sklearn/linear_model/_coordinate_descent.py:526: ConvergenceWarning: Objective did not converge. You might want to increase the number of iterations. Duality gap: 1520.1882170798035, tolerance: 3.868880446927374\n",
      "  model = cd_fast.enet_coordinate_descent_gram(\n",
      "/home/blah/.local/lib/python3.8/site-packages/sklearn/linear_model/_coordinate_descent.py:526: ConvergenceWarning: Objective did not converge. You might want to increase the number of iterations. Duality gap: 618.5589316596215, tolerance: 3.868880446927374\n",
      "  model = cd_fast.enet_coordinate_descent_gram(\n",
      "/home/blah/.local/lib/python3.8/site-packages/sklearn/linear_model/_coordinate_descent.py:526: ConvergenceWarning: Objective did not converge. You might want to increase the number of iterations. Duality gap: 618.5563454422572, tolerance: 3.868880446927374\n",
      "  model = cd_fast.enet_coordinate_descent_gram(\n",
      "/home/blah/.local/lib/python3.8/site-packages/sklearn/linear_model/_coordinate_descent.py:526: ConvergenceWarning: Objective did not converge. You might want to increase the number of iterations. Duality gap: 618.556294048658, tolerance: 3.868880446927374\n",
      "  model = cd_fast.enet_coordinate_descent_gram(\n",
      "/home/blah/.local/lib/python3.8/site-packages/sklearn/linear_model/_coordinate_descent.py:526: ConvergenceWarning: Objective did not converge. You might want to increase the number of iterations. Duality gap: 618.5554203681968, tolerance: 3.868880446927374\n",
      "  model = cd_fast.enet_coordinate_descent_gram(\n",
      "/home/blah/.local/lib/python3.8/site-packages/sklearn/linear_model/_coordinate_descent.py:526: ConvergenceWarning: Objective did not converge. You might want to increase the number of iterations. Duality gap: 618.5576198306535, tolerance: 3.868880446927374\n",
      "  model = cd_fast.enet_coordinate_descent_gram(\n",
      "/home/blah/.local/lib/python3.8/site-packages/sklearn/linear_model/_coordinate_descent.py:526: ConvergenceWarning: Objective did not converge. You might want to increase the number of iterations. Duality gap: 618.5559656765618, tolerance: 3.868880446927374\n",
      "  model = cd_fast.enet_coordinate_descent_gram(\n",
      "/home/blah/.local/lib/python3.8/site-packages/sklearn/linear_model/_coordinate_descent.py:526: ConvergenceWarning: Objective did not converge. You might want to increase the number of iterations. Duality gap: 618.5597992740404, tolerance: 3.868880446927374\n",
      "  model = cd_fast.enet_coordinate_descent_gram(\n",
      "/home/blah/.local/lib/python3.8/site-packages/sklearn/linear_model/_coordinate_descent.py:526: ConvergenceWarning: Objective did not converge. You might want to increase the number of iterations. Duality gap: 618.5570475727491, tolerance: 3.868880446927374\n",
      "  model = cd_fast.enet_coordinate_descent_gram(\n",
      "/home/blah/.local/lib/python3.8/site-packages/sklearn/linear_model/_coordinate_descent.py:526: ConvergenceWarning: Objective did not converge. You might want to increase the number of iterations. Duality gap: 972.7282348461176, tolerance: 3.895978292098963\n",
      "  model = cd_fast.enet_coordinate_descent_gram(\n",
      "/home/blah/.local/lib/python3.8/site-packages/sklearn/linear_model/_coordinate_descent.py:526: ConvergenceWarning: Objective did not converge. You might want to increase the number of iterations. Duality gap: 643.5341157016956, tolerance: 3.895978292098963\n",
      "  model = cd_fast.enet_coordinate_descent_gram(\n",
      "/home/blah/.local/lib/python3.8/site-packages/sklearn/linear_model/_coordinate_descent.py:526: ConvergenceWarning: Objective did not converge. You might want to increase the number of iterations. Duality gap: 643.5320158294289, tolerance: 3.895978292098963\n",
      "  model = cd_fast.enet_coordinate_descent_gram(\n",
      "/home/blah/.local/lib/python3.8/site-packages/sklearn/linear_model/_coordinate_descent.py:526: ConvergenceWarning: Objective did not converge. You might want to increase the number of iterations. Duality gap: 643.5313743889274, tolerance: 3.895978292098963\n",
      "  model = cd_fast.enet_coordinate_descent_gram(\n",
      "/home/blah/.local/lib/python3.8/site-packages/sklearn/linear_model/_coordinate_descent.py:526: ConvergenceWarning: Objective did not converge. You might want to increase the number of iterations. Duality gap: 643.5308053321332, tolerance: 3.895978292098963\n",
      "  model = cd_fast.enet_coordinate_descent_gram(\n",
      "/home/blah/.local/lib/python3.8/site-packages/sklearn/linear_model/_coordinate_descent.py:526: ConvergenceWarning: Objective did not converge. You might want to increase the number of iterations. Duality gap: 643.5328595758037, tolerance: 3.895978292098963\n",
      "  model = cd_fast.enet_coordinate_descent_gram(\n",
      "/home/blah/.local/lib/python3.8/site-packages/sklearn/linear_model/_coordinate_descent.py:526: ConvergenceWarning: Objective did not converge. You might want to increase the number of iterations. Duality gap: 643.5309694554962, tolerance: 3.895978292098963\n",
      "  model = cd_fast.enet_coordinate_descent_gram(\n",
      "/home/blah/.local/lib/python3.8/site-packages/sklearn/linear_model/_coordinate_descent.py:526: ConvergenceWarning: Objective did not converge. You might want to increase the number of iterations. Duality gap: 643.5329106485733, tolerance: 3.895978292098963\n",
      "  model = cd_fast.enet_coordinate_descent_gram(\n",
      "/home/blah/.local/lib/python3.8/site-packages/sklearn/linear_model/_coordinate_descent.py:526: ConvergenceWarning: Objective did not converge. You might want to increase the number of iterations. Duality gap: 643.5315858070553, tolerance: 3.895978292098963\n",
      "  model = cd_fast.enet_coordinate_descent_gram(\n",
      "/home/blah/.local/lib/python3.8/site-packages/sklearn/linear_model/_coordinate_descent.py:526: ConvergenceWarning: Objective did not converge. You might want to increase the number of iterations. Duality gap: 1491.775681441517, tolerance: 3.869871401968616\n",
      "  model = cd_fast.enet_coordinate_descent_gram(\n",
      "/home/blah/.local/lib/python3.8/site-packages/sklearn/linear_model/_coordinate_descent.py:526: ConvergenceWarning: Objective did not converge. You might want to increase the number of iterations. Duality gap: 627.1727406347272, tolerance: 3.869871401968616\n",
      "  model = cd_fast.enet_coordinate_descent_gram(\n",
      "/home/blah/.local/lib/python3.8/site-packages/sklearn/linear_model/_coordinate_descent.py:526: ConvergenceWarning: Objective did not converge. You might want to increase the number of iterations. Duality gap: 627.173842031516, tolerance: 3.869871401968616\n",
      "  model = cd_fast.enet_coordinate_descent_gram(\n",
      "/home/blah/.local/lib/python3.8/site-packages/sklearn/linear_model/_coordinate_descent.py:526: ConvergenceWarning: Objective did not converge. You might want to increase the number of iterations. Duality gap: 627.1738291349757, tolerance: 3.869871401968616\n",
      "  model = cd_fast.enet_coordinate_descent_gram(\n",
      "/home/blah/.local/lib/python3.8/site-packages/sklearn/linear_model/_coordinate_descent.py:526: ConvergenceWarning: Objective did not converge. You might want to increase the number of iterations. Duality gap: 627.1738740941637, tolerance: 3.869871401968616\n",
      "  model = cd_fast.enet_coordinate_descent_gram(\n",
      "/home/blah/.local/lib/python3.8/site-packages/sklearn/linear_model/_coordinate_descent.py:526: ConvergenceWarning: Objective did not converge. You might want to increase the number of iterations. Duality gap: 627.1712898839596, tolerance: 3.869871401968616\n",
      "  model = cd_fast.enet_coordinate_descent_gram(\n",
      "/home/blah/.local/lib/python3.8/site-packages/sklearn/linear_model/_coordinate_descent.py:526: ConvergenceWarning: Objective did not converge. You might want to increase the number of iterations. Duality gap: 627.1716078909412, tolerance: 3.869871401968616\n",
      "  model = cd_fast.enet_coordinate_descent_gram(\n",
      "/home/blah/.local/lib/python3.8/site-packages/sklearn/linear_model/_coordinate_descent.py:526: ConvergenceWarning: Objective did not converge. You might want to increase the number of iterations. Duality gap: 627.1735365365894, tolerance: 3.869871401968616\n",
      "  model = cd_fast.enet_coordinate_descent_gram(\n",
      "/home/blah/.local/lib/python3.8/site-packages/sklearn/linear_model/_coordinate_descent.py:526: ConvergenceWarning: Objective did not converge. You might want to increase the number of iterations. Duality gap: 627.1701884315898, tolerance: 3.869871401968616\n",
      "  model = cd_fast.enet_coordinate_descent_gram(\n",
      "/home/blah/.local/lib/python3.8/site-packages/sklearn/linear_model/_coordinate_descent.py:526: ConvergenceWarning: Objective did not converge. You might want to increase the number of iterations. Duality gap: 1002.8640855660051, tolerance: 3.878912104283053\n",
      "  model = cd_fast.enet_coordinate_descent_gram(\n",
      "/home/blah/.local/lib/python3.8/site-packages/sklearn/linear_model/_coordinate_descent.py:526: ConvergenceWarning: Objective did not converge. You might want to increase the number of iterations. Duality gap: 647.6905662373574, tolerance: 3.878912104283053\n",
      "  model = cd_fast.enet_coordinate_descent_gram(\n"
     ]
    },
    {
     "name": "stderr",
     "output_type": "stream",
     "text": [
      "/home/blah/.local/lib/python3.8/site-packages/sklearn/linear_model/_coordinate_descent.py:526: ConvergenceWarning: Objective did not converge. You might want to increase the number of iterations. Duality gap: 647.689971357353, tolerance: 3.878912104283053\n",
      "  model = cd_fast.enet_coordinate_descent_gram(\n",
      "/home/blah/.local/lib/python3.8/site-packages/sklearn/linear_model/_coordinate_descent.py:526: ConvergenceWarning: Objective did not converge. You might want to increase the number of iterations. Duality gap: 647.6902055394166, tolerance: 3.878912104283053\n",
      "  model = cd_fast.enet_coordinate_descent_gram(\n",
      "/home/blah/.local/lib/python3.8/site-packages/sklearn/linear_model/_coordinate_descent.py:526: ConvergenceWarning: Objective did not converge. You might want to increase the number of iterations. Duality gap: 647.690336401607, tolerance: 3.878912104283053\n",
      "  model = cd_fast.enet_coordinate_descent_gram(\n",
      "/home/blah/.local/lib/python3.8/site-packages/sklearn/linear_model/_coordinate_descent.py:526: ConvergenceWarning: Objective did not converge. You might want to increase the number of iterations. Duality gap: 647.6895809492435, tolerance: 3.878912104283053\n",
      "  model = cd_fast.enet_coordinate_descent_gram(\n",
      "/home/blah/.local/lib/python3.8/site-packages/sklearn/linear_model/_coordinate_descent.py:526: ConvergenceWarning: Objective did not converge. You might want to increase the number of iterations. Duality gap: 647.6916725879018, tolerance: 3.878912104283053\n",
      "  model = cd_fast.enet_coordinate_descent_gram(\n",
      "/home/blah/.local/lib/python3.8/site-packages/sklearn/linear_model/_coordinate_descent.py:526: ConvergenceWarning: Objective did not converge. You might want to increase the number of iterations. Duality gap: 647.6915379808106, tolerance: 3.878912104283053\n",
      "  model = cd_fast.enet_coordinate_descent_gram(\n",
      "/home/blah/.local/lib/python3.8/site-packages/sklearn/linear_model/_coordinate_descent.py:526: ConvergenceWarning: Objective did not converge. You might want to increase the number of iterations. Duality gap: 647.6881423939012, tolerance: 3.878912104283053\n",
      "  model = cd_fast.enet_coordinate_descent_gram(\n",
      "/home/blah/.local/lib/python3.8/site-packages/sklearn/linear_model/_coordinate_descent.py:526: ConvergenceWarning: Objective did not converge. You might want to increase the number of iterations. Duality gap: 901.6904615791791, tolerance: 3.917599414737961\n",
      "  model = cd_fast.enet_coordinate_descent_gram(\n",
      "/home/blah/.local/lib/python3.8/site-packages/sklearn/linear_model/_coordinate_descent.py:526: ConvergenceWarning: Objective did not converge. You might want to increase the number of iterations. Duality gap: 644.4858591983302, tolerance: 3.917599414737961\n",
      "  model = cd_fast.enet_coordinate_descent_gram(\n",
      "/home/blah/.local/lib/python3.8/site-packages/sklearn/linear_model/_coordinate_descent.py:526: ConvergenceWarning: Objective did not converge. You might want to increase the number of iterations. Duality gap: 644.4839451370644, tolerance: 3.917599414737961\n",
      "  model = cd_fast.enet_coordinate_descent_gram(\n",
      "/home/blah/.local/lib/python3.8/site-packages/sklearn/linear_model/_coordinate_descent.py:526: ConvergenceWarning: Objective did not converge. You might want to increase the number of iterations. Duality gap: 644.4830499448017, tolerance: 3.917599414737961\n",
      "  model = cd_fast.enet_coordinate_descent_gram(\n",
      "/home/blah/.local/lib/python3.8/site-packages/sklearn/linear_model/_coordinate_descent.py:526: ConvergenceWarning: Objective did not converge. You might want to increase the number of iterations. Duality gap: 644.4827300446668, tolerance: 3.917599414737961\n",
      "  model = cd_fast.enet_coordinate_descent_gram(\n",
      "/home/blah/.local/lib/python3.8/site-packages/sklearn/linear_model/_coordinate_descent.py:526: ConvergenceWarning: Objective did not converge. You might want to increase the number of iterations. Duality gap: 644.4842959789748, tolerance: 3.917599414737961\n",
      "  model = cd_fast.enet_coordinate_descent_gram(\n",
      "/home/blah/.local/lib/python3.8/site-packages/sklearn/linear_model/_coordinate_descent.py:526: ConvergenceWarning: Objective did not converge. You might want to increase the number of iterations. Duality gap: 644.4821404874219, tolerance: 3.917599414737961\n",
      "  model = cd_fast.enet_coordinate_descent_gram(\n",
      "/home/blah/.local/lib/python3.8/site-packages/sklearn/linear_model/_coordinate_descent.py:526: ConvergenceWarning: Objective did not converge. You might want to increase the number of iterations. Duality gap: 644.4849036461983, tolerance: 3.917599414737961\n",
      "  model = cd_fast.enet_coordinate_descent_gram(\n",
      "/home/blah/.local/lib/python3.8/site-packages/sklearn/linear_model/_coordinate_descent.py:526: ConvergenceWarning: Objective did not converge. You might want to increase the number of iterations. Duality gap: 644.4834179310183, tolerance: 3.917599414737961\n",
      "  model = cd_fast.enet_coordinate_descent_gram(\n",
      "/home/blah/.local/lib/python3.8/site-packages/sklearn/linear_model/_coordinate_descent.py:526: ConvergenceWarning: Objective did not converge. You might want to increase the number of iterations. Duality gap: 2211.2675705323472, tolerance: 3.8655365957446746\n",
      "  model = cd_fast.enet_coordinate_descent_gram(\n",
      "/home/blah/.local/lib/python3.8/site-packages/sklearn/linear_model/_coordinate_descent.py:526: ConvergenceWarning: Objective did not converge. You might want to increase the number of iterations. Duality gap: 630.8612916549864, tolerance: 3.8655365957446746\n",
      "  model = cd_fast.enet_coordinate_descent_gram(\n",
      "/home/blah/.local/lib/python3.8/site-packages/sklearn/linear_model/_coordinate_descent.py:526: ConvergenceWarning: Objective did not converge. You might want to increase the number of iterations. Duality gap: 630.8596406437209, tolerance: 3.8655365957446746\n",
      "  model = cd_fast.enet_coordinate_descent_gram(\n",
      "/home/blah/.local/lib/python3.8/site-packages/sklearn/linear_model/_coordinate_descent.py:526: ConvergenceWarning: Objective did not converge. You might want to increase the number of iterations. Duality gap: 630.8596315099367, tolerance: 3.8655365957446746\n",
      "  model = cd_fast.enet_coordinate_descent_gram(\n",
      "/home/blah/.local/lib/python3.8/site-packages/sklearn/linear_model/_coordinate_descent.py:526: ConvergenceWarning: Objective did not converge. You might want to increase the number of iterations. Duality gap: 630.8611708320605, tolerance: 3.8655365957446746\n",
      "  model = cd_fast.enet_coordinate_descent_gram(\n",
      "/home/blah/.local/lib/python3.8/site-packages/sklearn/linear_model/_coordinate_descent.py:526: ConvergenceWarning: Objective did not converge. You might want to increase the number of iterations. Duality gap: 630.8592369153757, tolerance: 3.8655365957446746\n",
      "  model = cd_fast.enet_coordinate_descent_gram(\n",
      "/home/blah/.local/lib/python3.8/site-packages/sklearn/linear_model/_coordinate_descent.py:526: ConvergenceWarning: Objective did not converge. You might want to increase the number of iterations. Duality gap: 630.8646131344558, tolerance: 3.8655365957446746\n",
      "  model = cd_fast.enet_coordinate_descent_gram(\n",
      "/home/blah/.local/lib/python3.8/site-packages/sklearn/linear_model/_coordinate_descent.py:526: ConvergenceWarning: Objective did not converge. You might want to increase the number of iterations. Duality gap: 630.8540178153253, tolerance: 3.8655365957446746\n",
      "  model = cd_fast.enet_coordinate_descent_gram(\n",
      "/home/blah/.local/lib/python3.8/site-packages/sklearn/linear_model/_coordinate_descent.py:526: ConvergenceWarning: Objective did not converge. You might want to increase the number of iterations. Duality gap: 630.8665016797695, tolerance: 3.8655365957446746\n",
      "  model = cd_fast.enet_coordinate_descent_gram(\n",
      "/home/blah/.local/lib/python3.8/site-packages/sklearn/linear_model/_coordinate_descent.py:526: ConvergenceWarning: Objective did not converge. You might want to increase the number of iterations. Duality gap: 4111.410914538163, tolerance: 3.913297632978723\n",
      "  model = cd_fast.enet_coordinate_descent_gram(\n",
      "/home/blah/.local/lib/python3.8/site-packages/sklearn/linear_model/_coordinate_descent.py:526: ConvergenceWarning: Objective did not converge. You might want to increase the number of iterations. Duality gap: 631.1316032573832, tolerance: 3.913297632978723\n",
      "  model = cd_fast.enet_coordinate_descent_gram(\n",
      "/home/blah/.local/lib/python3.8/site-packages/sklearn/linear_model/_coordinate_descent.py:526: ConvergenceWarning: Objective did not converge. You might want to increase the number of iterations. Duality gap: 631.129725503306, tolerance: 3.913297632978723\n",
      "  model = cd_fast.enet_coordinate_descent_gram(\n",
      "/home/blah/.local/lib/python3.8/site-packages/sklearn/linear_model/_coordinate_descent.py:526: ConvergenceWarning: Objective did not converge. You might want to increase the number of iterations. Duality gap: 631.1309193572579, tolerance: 3.913297632978723\n",
      "  model = cd_fast.enet_coordinate_descent_gram(\n",
      "/home/blah/.local/lib/python3.8/site-packages/sklearn/linear_model/_coordinate_descent.py:526: ConvergenceWarning: Objective did not converge. You might want to increase the number of iterations. Duality gap: 631.130766807717, tolerance: 3.913297632978723\n",
      "  model = cd_fast.enet_coordinate_descent_gram(\n",
      "/home/blah/.local/lib/python3.8/site-packages/sklearn/linear_model/_coordinate_descent.py:526: ConvergenceWarning: Objective did not converge. You might want to increase the number of iterations. Duality gap: 631.1299798164564, tolerance: 3.913297632978723\n",
      "  model = cd_fast.enet_coordinate_descent_gram(\n",
      "/home/blah/.local/lib/python3.8/site-packages/sklearn/linear_model/_coordinate_descent.py:526: ConvergenceWarning: Objective did not converge. You might want to increase the number of iterations. Duality gap: 631.1352284087898, tolerance: 3.913297632978723\n",
      "  model = cd_fast.enet_coordinate_descent_gram(\n",
      "/home/blah/.local/lib/python3.8/site-packages/sklearn/linear_model/_coordinate_descent.py:526: ConvergenceWarning: Objective did not converge. You might want to increase the number of iterations. Duality gap: 631.1256384944281, tolerance: 3.913297632978723\n",
      "  model = cd_fast.enet_coordinate_descent_gram(\n",
      "/home/blah/.local/lib/python3.8/site-packages/sklearn/linear_model/_coordinate_descent.py:526: ConvergenceWarning: Objective did not converge. You might want to increase the number of iterations. Duality gap: 631.1314505719911, tolerance: 3.913297632978723\n",
      "  model = cd_fast.enet_coordinate_descent_gram(\n",
      "/home/blah/.local/lib/python3.8/site-packages/sklearn/linear_model/_coordinate_descent.py:526: ConvergenceWarning: Objective did not converge. You might want to increase the number of iterations. Duality gap: 1414.5708233030746, tolerance: 3.990178297872333\n",
      "  model = cd_fast.enet_coordinate_descent_gram(\n",
      "/home/blah/.local/lib/python3.8/site-packages/sklearn/linear_model/_coordinate_descent.py:526: ConvergenceWarning: Objective did not converge. You might want to increase the number of iterations. Duality gap: 644.4438266052366, tolerance: 3.990178297872333\n",
      "  model = cd_fast.enet_coordinate_descent_gram(\n",
      "/home/blah/.local/lib/python3.8/site-packages/sklearn/linear_model/_coordinate_descent.py:526: ConvergenceWarning: Objective did not converge. You might want to increase the number of iterations. Duality gap: 644.4421967780108, tolerance: 3.990178297872333\n",
      "  model = cd_fast.enet_coordinate_descent_gram(\n",
      "/home/blah/.local/lib/python3.8/site-packages/sklearn/linear_model/_coordinate_descent.py:526: ConvergenceWarning: Objective did not converge. You might want to increase the number of iterations. Duality gap: 644.4448456567316, tolerance: 3.990178297872333\n",
      "  model = cd_fast.enet_coordinate_descent_gram(\n",
      "/home/blah/.local/lib/python3.8/site-packages/sklearn/linear_model/_coordinate_descent.py:526: ConvergenceWarning: Objective did not converge. You might want to increase the number of iterations. Duality gap: 644.4434065567675, tolerance: 3.990178297872333\n",
      "  model = cd_fast.enet_coordinate_descent_gram(\n",
      "/home/blah/.local/lib/python3.8/site-packages/sklearn/linear_model/_coordinate_descent.py:526: ConvergenceWarning: Objective did not converge. You might want to increase the number of iterations. Duality gap: 644.4434864106661, tolerance: 3.990178297872333\n",
      "  model = cd_fast.enet_coordinate_descent_gram(\n",
      "/home/blah/.local/lib/python3.8/site-packages/sklearn/linear_model/_coordinate_descent.py:526: ConvergenceWarning: Objective did not converge. You might want to increase the number of iterations. Duality gap: 644.4468789954863, tolerance: 3.990178297872333\n",
      "  model = cd_fast.enet_coordinate_descent_gram(\n",
      "/home/blah/.local/lib/python3.8/site-packages/sklearn/linear_model/_coordinate_descent.py:526: ConvergenceWarning: Objective did not converge. You might want to increase the number of iterations. Duality gap: 644.4377193718683, tolerance: 3.990178297872333\n",
      "  model = cd_fast.enet_coordinate_descent_gram(\n",
      "/home/blah/.local/lib/python3.8/site-packages/sklearn/linear_model/_coordinate_descent.py:526: ConvergenceWarning: Objective did not converge. You might want to increase the number of iterations. Duality gap: 644.4480513475228, tolerance: 3.990178297872333\n",
      "  model = cd_fast.enet_coordinate_descent_gram(\n"
     ]
    },
    {
     "name": "stdout",
     "output_type": "stream",
     "text": [
      "alpha: 0.000000\n"
     ]
    },
    {
     "name": "stderr",
     "output_type": "stream",
     "text": [
      "/home/blah/.local/lib/python3.8/site-packages/sklearn/linear_model/_coordinate_descent.py:530: ConvergenceWarning: Objective did not converge. You might want to increase the number of iterations. Duality gap: 1760.4536777491394, tolerance: 4.341063059612137\n",
      "  model = cd_fast.enet_coordinate_descent(\n"
     ]
    }
   ],
   "source": [
    "from sklearn.linear_model import LassoCV\n",
    "from sklearn.model_selection import RepeatedKFold\n",
    "# load the dataset\n",
    "dataframe = Shuffled\n",
    "data = dataframe.values\n",
    "X, y = data[:, :-1], data[:, -1]\n",
    "# define model evaluation method\n",
    "cv = RepeatedKFold(n_splits=10, n_repeats=3, random_state=1)\n",
    "# define model\n",
    "model = LassoCV(alphas=arange(0.00000001, 0.0000001, 0.00000001), cv=cv)\n",
    "# fit model\n",
    "model.fit(X, y)\n",
    "# summarize chosen configuration\n",
    "print('alpha: %f' % model.alpha_)\n"
   ]
  },
  {
   "cell_type": "markdown",
   "metadata": {},
   "source": [
    "### Q3"
   ]
  },
  {
   "cell_type": "code",
   "execution_count": 21,
   "metadata": {},
   "outputs": [],
   "source": [
    "data=pd.read_csv(\"data.csv\")"
   ]
  },
  {
   "cell_type": "code",
   "execution_count": 22,
   "metadata": {},
   "outputs": [
    {
     "data": {
      "text/html": [
       "<div>\n",
       "<style scoped>\n",
       "    .dataframe tbody tr th:only-of-type {\n",
       "        vertical-align: middle;\n",
       "    }\n",
       "\n",
       "    .dataframe tbody tr th {\n",
       "        vertical-align: top;\n",
       "    }\n",
       "\n",
       "    .dataframe thead th {\n",
       "        text-align: right;\n",
       "    }\n",
       "</style>\n",
       "<table border=\"1\" class=\"dataframe\">\n",
       "  <thead>\n",
       "    <tr style=\"text-align: right;\">\n",
       "      <th></th>\n",
       "      <th>Brain_Weight</th>\n",
       "      <th>Body_Weight</th>\n",
       "    </tr>\n",
       "  </thead>\n",
       "  <tbody>\n",
       "    <tr>\n",
       "      <th>0</th>\n",
       "      <td>1.0</td>\n",
       "      <td>8.429338</td>\n",
       "    </tr>\n",
       "    <tr>\n",
       "      <th>1</th>\n",
       "      <td>1.6</td>\n",
       "      <td>10.516225</td>\n",
       "    </tr>\n",
       "    <tr>\n",
       "      <th>2</th>\n",
       "      <td>2.2</td>\n",
       "      <td>12.339744</td>\n",
       "    </tr>\n",
       "    <tr>\n",
       "      <th>3</th>\n",
       "      <td>2.8</td>\n",
       "      <td>19.217969</td>\n",
       "    </tr>\n",
       "    <tr>\n",
       "      <th>4</th>\n",
       "      <td>3.4</td>\n",
       "      <td>19.749753</td>\n",
       "    </tr>\n",
       "  </tbody>\n",
       "</table>\n",
       "</div>"
      ],
      "text/plain": [
       "   Brain_Weight  Body_Weight\n",
       "0           1.0     8.429338\n",
       "1           1.6    10.516225\n",
       "2           2.2    12.339744\n",
       "3           2.8    19.217969\n",
       "4           3.4    19.749753"
      ]
     },
     "execution_count": 22,
     "metadata": {},
     "output_type": "execute_result"
    }
   ],
   "source": [
    "data.head()"
   ]
  },
  {
   "cell_type": "code",
   "execution_count": 34,
   "metadata": {},
   "outputs": [],
   "source": [
    "train_X=data.to_numpy()[:,0].reshape((-1,1))\n",
    "train_Y=data.to_numpy()[:,1].reshape((-1,1))"
   ]
  },
  {
   "cell_type": "code",
   "execution_count": 56,
   "metadata": {},
   "outputs": [],
   "source": [
    "def runner_q3(train_x,train_y,theta,b,learning_rate=0.0005,epochs=50):\n",
    "    train_RMSE=np.zeros(epochs)\n",
    "    for i in range(epochs):\n",
    "        \n",
    "        train_RMSE[i]=cost(train_x,theta,b,train_y)\n",
    "        \n",
    "        db,dtheta=gradients(train_x,theta,b,train_y)\n",
    "        \n",
    "        theta=theta-learning_rate*dtheta\n",
    "        b=b-learning_rate*(db)\n",
    "        \n",
    "    return [theta[0,0],b]"
   ]
  },
  {
   "cell_type": "code",
   "execution_count": 57,
   "metadata": {},
   "outputs": [
    {
     "data": {
      "text/plain": [
       "[<matplotlib.lines.Line2D at 0x7fbdc0dee7f0>]"
      ]
     },
     "execution_count": 57,
     "metadata": {},
     "output_type": "execute_result"
    },
    {
     "data": {
      "image/png": "[encoded data removed]",
      "text/plain": [
       "<Figure size 432x288 with 1 Axes>"
      ]
     },
     "metadata": {
      "needs_background": "light"
     },
     "output_type": "display_data"
    }
   ],
   "source": [
    "plt.plot(train_X,train_Y)"
   ]
  },
  {
   "cell_type": "code",
   "execution_count": 58,
   "metadata": {},
   "outputs": [
    {
     "data": {
      "image/png": "[encoded data removed]",
      "text/plain": [
       "<Figure size 432x288 with 1 Axes>"
      ]
     },
     "metadata": {
      "needs_background": "light"
     },
     "output_type": "display_data"
    }
   ],
   "source": [
    "\n",
    "\n",
    "\n",
    "plt.scatter(train_X,train_Y, c =\"blue\")\n",
    "  \n",
    "# To show the plot\n",
    "plt.show()"
   ]
  },
  {
   "cell_type": "code",
   "execution_count": 59,
   "metadata": {},
   "outputs": [
    {
     "name": "stdout",
     "output_type": "stream",
     "text": [
      "[4.614621577730783, 1.532642485662522]\n"
     ]
    }
   ],
   "source": [
    "p=1\n",
    "Theta=np.zeros((p,1)) #(p x 1)\n",
    "b=0\n",
    "theta=runner_q3(train_X,train_Y,Theta,0,epochs=100000)\n",
    "print(theta)"
   ]
  },
  {
   "cell_type": "code",
   "execution_count": 60,
   "metadata": {},
   "outputs": [
    {
     "name": "stdout",
     "output_type": "stream",
     "text": [
      "\n"
     ]
    }
   ],
   "source": [
    "x_line=[]\n",
    "y_line=[]\n",
    "for i in range(0,100):\n",
    "    x_line.append(i)\n",
    "    y_line.append(i*theta[0]+theta[1])\n",
    "print()"
   ]
  },
  {
   "cell_type": "code",
   "execution_count": 63,
   "metadata": {},
   "outputs": [
    {
     "data": {
      "image/png": "[encoded data removed]",
      "text/plain": [
       "<Figure size 432x288 with 1 Axes>"
      ]
     },
     "metadata": {
      "needs_background": "light"
     },
     "output_type": "display_data"
    }
   ],
   "source": [
    "plt.scatter(train_X,train_Y, c =\"blue\")\n",
    "plt.plot(x_line,y_line,'r')\n",
    "# To show the plot\n",
    "plt.show()"
   ]
  },
  {
   "cell_type": "code",
   "execution_count": 66,
   "metadata": {},
   "outputs": [],
   "source": [
    "def runner_q3_reg(train_x,train_y,theta,b,reg_para,regular_type,learning_rate=0.0005,epochs=50):\n",
    "    for i in range(epochs):\n",
    "        \n",
    "        \n",
    "        db,dtheta=gradients_reg(train_x,theta,b,train_y,reg_para,regular_type)\n",
    "        \n",
    "        theta=theta-learning_rate*dtheta\n",
    "        b=b-learning_rate*(db)\n",
    "        \n",
    "    return [theta[0,0],b]"
   ]
  },
  {
   "cell_type": "code",
   "execution_count": 79,
   "metadata": {},
   "outputs": [
    {
     "name": "stdout",
     "output_type": "stream",
     "text": [
      "[4.562401221597937, 3.246573092278306]\n",
      "\n"
     ]
    },
    {
     "data": {
      "image/png": "[encoded data removed]",
      "text/plain": [
       "<Figure size 432x288 with 1 Axes>"
      ]
     },
     "metadata": {
      "needs_background": "light"
     },
     "output_type": "display_data"
    }
   ],
   "source": [
    "p=1\n",
    "Theta=np.zeros((p,1)) #(p x 1)\n",
    "b=0\n",
    "theta=runner_q3_reg(train_X,train_Y,Theta,0,50,\"l2\",epochs=100000)\n",
    "print(theta)\n",
    "\n",
    "x_line=[]\n",
    "y_line=[]\n",
    "for i in range(0,100):\n",
    "    x_line.append(i)\n",
    "    y_line.append(i*theta[0]+theta[1])\n",
    "print()\n",
    "plt.scatter(train_X,train_Y, c =\"blue\")\n",
    "plt.plot(x_line,y_line,'r')\n",
    "\n",
    "# To show the plot\n",
    "plt.show()"
   ]
  },
  {
   "cell_type": "code",
   "execution_count": 73,
   "metadata": {},
   "outputs": [
    {
     "data": {
      "image/png": "[encoded data removed]",
      "text/plain": [
       "<Figure size 432x288 with 1 Axes>"
      ]
     },
     "metadata": {
      "needs_background": "light"
     },
     "output_type": "display_data"
    }
   ],
   "source": [
    "plt.scatter(train_X,train_Y, c =\"blue\")\n",
    "plt.plot(x_line,y_line,'r')\n",
    "\n",
    "# To show the plot\n",
    "plt.show()"
   ]
  },
  {
   "cell_type": "code",
   "execution_count": 77,
   "metadata": {},
   "outputs": [
    {
     "name": "stdout",
     "output_type": "stream",
     "text": [
      "[4.511095981376977, 4.928879065602582]\n",
      "\n"
     ]
    },
    {
     "data": {
      "image/png": "[encoded data removed]",
      "text/plain": [
       "<Figure size 432x288 with 1 Axes>"
      ]
     },
     "metadata": {
      "needs_background": "light"
     },
     "output_type": "display_data"
    }
   ],
   "source": [
    "p=1\n",
    "Theta=np.zeros((p,1)) #(p x 1)\n",
    "b=0\n",
    "theta=runner_q3_reg(train_X,train_Y,Theta,0,100,\"l2\",epochs=100000)\n",
    "print(theta)\n",
    "\n",
    "x_line=[]\n",
    "y_line=[]\n",
    "for i in range(0,100):\n",
    "    x_line.append(i)\n",
    "    y_line.append(i*theta[0]+theta[1])\n",
    "print()\n",
    "\n",
    "plt.scatter(train_X,train_Y, c =\"blue\")\n",
    "plt.plot(x_line,y_line,'r')\n",
    "\n",
    "# To show the plot\n",
    "plt.show()"
   ]
  },
  {
   "cell_type": "code",
   "execution_count": null,
   "metadata": {},
   "outputs": [],
   "source": []
  }
 ],
 "metadata": {
  "kernelspec": {
   "display_name": "Python 3",
   "language": "python",
   "name": "python3"
  },
  "language_info": {
   "codemirror_mode": {
    "name": "ipython",
    "version": 3
   },
   "file_extension": ".py",
   "mimetype": "text/x-python",
   "name": "python",
   "nbconvert_exporter": "python",
   "pygments_lexer": "ipython3",
   "version": "3.8.5"
  }
 },
 "nbformat": 4,
 "nbformat_minor": 2
}
