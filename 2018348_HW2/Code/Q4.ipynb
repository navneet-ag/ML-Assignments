{
  "nbformat": 4,
  "nbformat_minor": 0,
  "metadata": {
    "colab": {
      "name": "ML_hw2_4_backup.ipynb",
      "provenance": [],
      "collapsed_sections": [],
      "machine_shape": "hm"
    },
    "kernelspec": {
      "name": "python3",
      "display_name": "Python 3"
    },
    "language_info": {
      "name": "python"
    },
    "widgets": {
      "application/vnd.jupyter.widget-state+json": {
        "8f4e7398ea194073befac289b4e533ea": {
          "model_module": "@jupyter-widgets/controls",
          "model_name": "HBoxModel",
          "state": {
            "_view_name": "HBoxView",
            "_dom_classes": [],
            "_model_name": "HBoxModel",
            "_view_module": "@jupyter-widgets/controls",
            "_model_module_version": "1.5.0",
            "_view_count": null,
            "_view_module_version": "1.5.0",
            "box_style": "",
            "layout": "IPY_MODEL_9f765b1514e143638dd571438cd959e6",
            "_model_module": "@jupyter-widgets/controls",
            "children": [
              "IPY_MODEL_b94c2f1cb40846008d01c2dbeb378ed7",
              "IPY_MODEL_901c51b139b04ce1a20254f4c182a832"
            ]
          }
        },
        "9f765b1514e143638dd571438cd959e6": {
          "model_module": "@jupyter-widgets/base",
          "model_name": "LayoutModel",
          "state": {
            "_view_name": "LayoutView",
            "grid_template_rows": null,
            "right": null,
            "justify_content": null,
            "_view_module": "@jupyter-widgets/base",
            "overflow": null,
            "_model_module_version": "1.2.0",
            "_view_count": null,
            "flex_flow": null,
            "width": null,
            "min_width": null,
            "border": null,
            "align_items": null,
            "bottom": null,
            "_model_module": "@jupyter-widgets/base",
            "top": null,
            "grid_column": null,
            "overflow_y": null,
            "overflow_x": null,
            "grid_auto_flow": null,
            "grid_area": null,
            "grid_template_columns": null,
            "flex": null,
            "_model_name": "LayoutModel",
            "justify_items": null,
            "grid_row": null,
            "max_height": null,
            "align_content": null,
            "visibility": null,
            "align_self": null,
            "height": null,
            "min_height": null,
            "padding": null,
            "grid_auto_rows": null,
            "grid_gap": null,
            "max_width": null,
            "order": null,
            "_view_module_version": "1.2.0",
            "grid_template_areas": null,
            "object_position": null,
            "object_fit": null,
            "grid_auto_columns": null,
            "margin": null,
            "display": null,
            "left": null
          }
        },
        "b94c2f1cb40846008d01c2dbeb378ed7": {
          "model_module": "@jupyter-widgets/controls",
          "model_name": "FloatProgressModel",
          "state": {
            "_view_name": "ProgressView",
            "style": "IPY_MODEL_b3a9180cea15416ea6eaa9643ecf9d3d",
            "_dom_classes": [],
            "description": "100%",
            "_model_name": "FloatProgressModel",
            "bar_style": "success",
            "max": 79,
            "_view_module": "@jupyter-widgets/controls",
            "_model_module_version": "1.5.0",
            "value": 79,
            "_view_count": null,
            "_view_module_version": "1.5.0",
            "orientation": "horizontal",
            "min": 0,
            "description_tooltip": null,
            "_model_module": "@jupyter-widgets/controls",
            "layout": "IPY_MODEL_846e2468017547aaab6fba694c3bb86f"
          }
        },
        "901c51b139b04ce1a20254f4c182a832": {
          "model_module": "@jupyter-widgets/controls",
          "model_name": "HTMLModel",
          "state": {
            "_view_name": "HTMLView",
            "style": "IPY_MODEL_2d25bcd5b7994264b38cef73e8267aeb",
            "_dom_classes": [],
            "description": "",
            "_model_name": "HTMLModel",
            "placeholder": "​",
            "_view_module": "@jupyter-widgets/controls",
            "_model_module_version": "1.5.0",
            "value": " 79/79 [37:37&lt;00:00, 28.58s/it]",
            "_view_count": null,
            "_view_module_version": "1.5.0",
            "description_tooltip": null,
            "_model_module": "@jupyter-widgets/controls",
            "layout": "IPY_MODEL_450b7a18fba5407c828a9401bcc5197d"
          }
        },
        "b3a9180cea15416ea6eaa9643ecf9d3d": {
          "model_module": "@jupyter-widgets/controls",
          "model_name": "ProgressStyleModel",
          "state": {
            "_view_name": "StyleView",
            "_model_name": "ProgressStyleModel",
            "description_width": "initial",
            "_view_module": "@jupyter-widgets/base",
            "_model_module_version": "1.5.0",
            "_view_count": null,
            "_view_module_version": "1.2.0",
            "bar_color": null,
            "_model_module": "@jupyter-widgets/controls"
          }
        },
        "846e2468017547aaab6fba694c3bb86f": {
          "model_module": "@jupyter-widgets/base",
          "model_name": "LayoutModel",
          "state": {
            "_view_name": "LayoutView",
            "grid_template_rows": null,
            "right": null,
            "justify_content": null,
            "_view_module": "@jupyter-widgets/base",
            "overflow": null,
            "_model_module_version": "1.2.0",
            "_view_count": null,
            "flex_flow": null,
            "width": null,
            "min_width": null,
            "border": null,
            "align_items": null,
            "bottom": null,
            "_model_module": "@jupyter-widgets/base",
            "top": null,
            "grid_column": null,
            "overflow_y": null,
            "overflow_x": null,
            "grid_auto_flow": null,
            "grid_area": null,
            "grid_template_columns": null,
            "flex": null,
            "_model_name": "LayoutModel",
            "justify_items": null,
            "grid_row": null,
            "max_height": null,
            "align_content": null,
            "visibility": null,
            "align_self": null,
            "height": null,
            "min_height": null,
            "padding": null,
            "grid_auto_rows": null,
            "grid_gap": null,
            "max_width": null,
            "order": null,
            "_view_module_version": "1.2.0",
            "grid_template_areas": null,
            "object_position": null,
            "object_fit": null,
            "grid_auto_columns": null,
            "margin": null,
            "display": null,
            "left": null
          }
        },
        "2d25bcd5b7994264b38cef73e8267aeb": {
          "model_module": "@jupyter-widgets/controls",
          "model_name": "DescriptionStyleModel",
          "state": {
            "_view_name": "StyleView",
            "_model_name": "DescriptionStyleModel",
            "description_width": "",
            "_view_module": "@jupyter-widgets/base",
            "_model_module_version": "1.5.0",
            "_view_count": null,
            "_view_module_version": "1.2.0",
            "_model_module": "@jupyter-widgets/controls"
          }
        },
        "450b7a18fba5407c828a9401bcc5197d": {
          "model_module": "@jupyter-widgets/base",
          "model_name": "LayoutModel",
          "state": {
            "_view_name": "LayoutView",
            "grid_template_rows": null,
            "right": null,
            "justify_content": null,
            "_view_module": "@jupyter-widgets/base",
            "overflow": null,
            "_model_module_version": "1.2.0",
            "_view_count": null,
            "flex_flow": null,
            "width": null,
            "min_width": null,
            "border": null,
            "align_items": null,
            "bottom": null,
            "_model_module": "@jupyter-widgets/base",
            "top": null,
            "grid_column": null,
            "overflow_y": null,
            "overflow_x": null,
            "grid_auto_flow": null,
            "grid_area": null,
            "grid_template_columns": null,
            "flex": null,
            "_model_name": "LayoutModel",
            "justify_items": null,
            "grid_row": null,
            "max_height": null,
            "align_content": null,
            "visibility": null,
            "align_self": null,
            "height": null,
            "min_height": null,
            "padding": null,
            "grid_auto_rows": null,
            "grid_gap": null,
            "max_width": null,
            "order": null,
            "_view_module_version": "1.2.0",
            "grid_template_areas": null,
            "object_position": null,
            "object_fit": null,
            "grid_auto_columns": null,
            "margin": null,
            "display": null,
            "left": null
          }
        }
      }
    }
  },
  "cells": [
    {
      "cell_type": "code",
      "metadata": {
        "colab": {
          "base_uri": "https://localhost:8080/"
        },
        "id": "vU7MEpZmg040",
        "outputId": "0859ca3a-bfde-419a-cb6e-416e34989e88"
      },
      "source": [
        "from google.colab import drive\n",
        "drive.mount('/content/drive',force_remount=True)\n",
        "dir = \"/content/drive/MyDrive/IIITD/Winter 2021/ML/my_vgg16/\""
      ],
      "execution_count": null,
      "outputs": [
        {
          "output_type": "stream",
          "text": [
            "Mounted at /content/drive\n"
          ],
          "name": "stdout"
        }
      ]
    },
    {
      "cell_type": "code",
      "metadata": {
        "id": "vtfEJN_ezD8I"
      },
      "source": [
        "import torch\n",
        "import torchvision\n",
        "import torch.nn as NN\n",
        "import torchvision.datasets as datasets\n",
        "from torch.utils.data import (\n",
        "    DataLoader,\n",
        ")"
      ],
      "execution_count": null,
      "outputs": []
    },
    {
      "cell_type": "code",
      "metadata": {
        "id": "XxDq784iJ6_L"
      },
      "source": [
        "import pickle"
      ],
      "execution_count": null,
      "outputs": []
    },
    {
      "cell_type": "code",
      "metadata": {
        "colab": {
          "base_uri": "https://localhost:8080/"
        },
        "id": "Jg1SXeaiYFH6",
        "outputId": "7d07153c-c1ba-47e0-b021-0711c7dc28bd"
      },
      "source": [
        "from torchvision import transforms\n",
        "train_transform = transforms.Compose([\n",
        "        transforms.Resize((224,224)),\n",
        "        transforms.ColorJitter(),\n",
        "        transforms.RandomRotation(degrees=20),\n",
        "        transforms.RandomHorizontalFlip(p=0.5),\n",
        "        transforms.ToTensor(),\n",
        "        transforms.Normalize([0.491, 0.482, 0.447], [0.247, 0.243, 0.261])  # CIFAR10 standards (found online on  https://forums.fast.ai/t/calculating-our-own-image-stats-imagenet-stats-cifar-stats-etc/40355)\n",
        "    ])\n",
        "test_transform = transforms.Compose([\n",
        "        transforms.Resize(224),\n",
        "        transforms.ToTensor(),s\n",
        "        transforms.Normalize([0.491, 0.482, 0.447], [0.247, 0.243, 0.261])  # CIFAR10 standards (found online on  https://forums.fast.ai/t/calculating-our-own-image-stats-imagenet-stats-cifar-stats-etc/40355)\n",
        "    ])\n",
        "\n",
        "train_dataset = datasets.CIFAR10(root = \"CIFAR10/train\",train = True,transform=train_transform ,download = True)\n",
        "test_dataset = datasets.CIFAR10(root = \"CIFAR10/test\",train = False,transform=test_transform,download = True)\n"
      ],
      "execution_count": null,
      "outputs": [
        {
          "output_type": "stream",
          "text": [
            "Files already downloaded and verified\n",
            "Files already downloaded and verified\n"
          ],
          "name": "stdout"
        }
      ]
    },
    {
      "cell_type": "code",
      "metadata": {
        "colab": {
          "base_uri": "https://localhost:8080/"
        },
        "id": "RySJ1cMSartf",
        "outputId": "b787a714-132d-4dd7-8659-01464a1cb651"
      },
      "source": [
        "len(train_dataset)"
      ],
      "execution_count": null,
      "outputs": [
        {
          "output_type": "execute_result",
          "data": {
            "text/plain": [
              "50000"
            ]
          },
          "metadata": {
            "tags": []
          },
          "execution_count": 5
        }
      ]
    },
    {
      "cell_type": "code",
      "metadata": {
        "id": "5cwqvtf_Y8dU"
      },
      "source": [
        "train_data_len = int(0.8 * len(train_dataset))\n",
        "train_indices = list(range(len(train_dataset)))\n",
        "train_dataset_sampler = train_indices[:train_data_len]\n",
        "valid_dataset_sampler = train_indices[train_data_len:]"
      ],
      "execution_count": null,
      "outputs": []
    },
    {
      "cell_type": "code",
      "metadata": {
        "id": "2yFOCXUdZQpJ"
      },
      "source": [
        "train_loaded = DataLoader(dataset=train_dataset, batch_size=128,sampler = train_dataset_sampler)\n",
        "valid_loaded = DataLoader(dataset=train_dataset, batch_size=128,sampler = valid_dataset_sampler)\n",
        "test_loaded  = DataLoader(dataset=test_dataset, batch_size=128, shuffle=True)\n"
      ],
      "execution_count": null,
      "outputs": []
    },
    {
      "cell_type": "code",
      "metadata": {
        "id": "zxdeH-hbdWuK"
      },
      "source": [
        "#Loading pretrained model\n",
        "vgg16 = torchvision.models.vgg16(pretrained=True)"
      ],
      "execution_count": null,
      "outputs": []
    },
    {
      "cell_type": "code",
      "metadata": {
        "colab": {
          "base_uri": "https://localhost:8080/"
        },
        "id": "YCmgnjSOAZoX",
        "outputId": "2d46c4d8-7dbc-47cb-e8cf-07b477c3aa19"
      },
      "source": [
        "vgg16"
      ],
      "execution_count": null,
      "outputs": [
        {
          "output_type": "execute_result",
          "data": {
            "text/plain": [
              "VGG(\n",
              "  (features): Sequential(\n",
              "    (0): Conv2d(3, 64, kernel_size=(3, 3), stride=(1, 1), padding=(1, 1))\n",
              "    (1): ReLU(inplace=True)\n",
              "    (2): Conv2d(64, 64, kernel_size=(3, 3), stride=(1, 1), padding=(1, 1))\n",
              "    (3): ReLU(inplace=True)\n",
              "    (4): MaxPool2d(kernel_size=2, stride=2, padding=0, dilation=1, ceil_mode=False)\n",
              "    (5): Conv2d(64, 128, kernel_size=(3, 3), stride=(1, 1), padding=(1, 1))\n",
              "    (6): ReLU(inplace=True)\n",
              "    (7): Conv2d(128, 128, kernel_size=(3, 3), stride=(1, 1), padding=(1, 1))\n",
              "    (8): ReLU(inplace=True)\n",
              "    (9): MaxPool2d(kernel_size=2, stride=2, padding=0, dilation=1, ceil_mode=False)\n",
              "    (10): Conv2d(128, 256, kernel_size=(3, 3), stride=(1, 1), padding=(1, 1))\n",
              "    (11): ReLU(inplace=True)\n",
              "    (12): Conv2d(256, 256, kernel_size=(3, 3), stride=(1, 1), padding=(1, 1))\n",
              "    (13): ReLU(inplace=True)\n",
              "    (14): Conv2d(256, 256, kernel_size=(3, 3), stride=(1, 1), padding=(1, 1))\n",
              "    (15): ReLU(inplace=True)\n",
              "    (16): MaxPool2d(kernel_size=2, stride=2, padding=0, dilation=1, ceil_mode=False)\n",
              "    (17): Conv2d(256, 512, kernel_size=(3, 3), stride=(1, 1), padding=(1, 1))\n",
              "    (18): ReLU(inplace=True)\n",
              "    (19): Conv2d(512, 512, kernel_size=(3, 3), stride=(1, 1), padding=(1, 1))\n",
              "    (20): ReLU(inplace=True)\n",
              "    (21): Conv2d(512, 512, kernel_size=(3, 3), stride=(1, 1), padding=(1, 1))\n",
              "    (22): ReLU(inplace=True)\n",
              "    (23): MaxPool2d(kernel_size=2, stride=2, padding=0, dilation=1, ceil_mode=False)\n",
              "    (24): Conv2d(512, 512, kernel_size=(3, 3), stride=(1, 1), padding=(1, 1))\n",
              "    (25): ReLU(inplace=True)\n",
              "    (26): Conv2d(512, 512, kernel_size=(3, 3), stride=(1, 1), padding=(1, 1))\n",
              "    (27): ReLU(inplace=True)\n",
              "    (28): Conv2d(512, 512, kernel_size=(3, 3), stride=(1, 1), padding=(1, 1))\n",
              "    (29): ReLU(inplace=True)\n",
              "    (30): MaxPool2d(kernel_size=2, stride=2, padding=0, dilation=1, ceil_mode=False)\n",
              "  )\n",
              "  (avgpool): AdaptiveAvgPool2d(output_size=(7, 7))\n",
              "  (classifier): Sequential(\n",
              "    (0): Linear(in_features=25088, out_features=4096, bias=True)\n",
              "    (1): ReLU(inplace=True)\n",
              "    (2): Dropout(p=0.5, inplace=False)\n",
              "    (3): Linear(in_features=4096, out_features=4096, bias=True)\n",
              "    (4): ReLU(inplace=True)\n",
              "    (5): Dropout(p=0.5, inplace=False)\n",
              "    (6): Linear(in_features=4096, out_features=1000, bias=True)\n",
              "  )\n",
              ")"
            ]
          },
          "metadata": {
            "tags": []
          },
          "execution_count": 9
        }
      ]
    },
    {
      "cell_type": "code",
      "metadata": {
        "id": "ikdun9QGdiJD"
      },
      "source": [
        "for layers in vgg16.parameters():\n",
        "    layers.requires_grad = False"
      ],
      "execution_count": null,
      "outputs": []
    },
    {
      "cell_type": "code",
      "metadata": {
        "id": "JT2NfjB3d3pp"
      },
      "source": [
        "new_classifier = NN.Sequential(NN.Linear(in_features=25088, out_features=4096, bias=True),\n",
        "  NN.ReLU(inplace=True),\n",
        "  NN.Dropout(p=0.5, inplace=False),\n",
        "  NN.Linear(in_features=4096, out_features=4096, bias=True),\n",
        "  NN.ReLU(inplace=True),\n",
        "  NN.Dropout(p=0.5, inplace=False),\n",
        "  NN.Linear(in_features=4096, out_features=1024, bias=True),\n",
        "  NN.ReLU(inplace=True),\n",
        "  NN.Dropout(p=0.5, inplace=False),\n",
        "  NN.Linear(in_features=1024, out_features=10, bias=True),    \n",
        ")\n",
        "vgg16.classifier = new_classifier"
      ],
      "execution_count": null,
      "outputs": []
    },
    {
      "cell_type": "code",
      "metadata": {
        "colab": {
          "base_uri": "https://localhost:8080/"
        },
        "id": "_01OZqWoAYVj",
        "outputId": "f7cbe009-15de-49d6-a325-f9b96693c5ad"
      },
      "source": [
        "vgg16"
      ],
      "execution_count": null,
      "outputs": [
        {
          "output_type": "execute_result",
          "data": {
            "text/plain": [
              "VGG(\n",
              "  (features): Sequential(\n",
              "    (0): Conv2d(3, 64, kernel_size=(3, 3), stride=(1, 1), padding=(1, 1))\n",
              "    (1): ReLU(inplace=True)\n",
              "    (2): Conv2d(64, 64, kernel_size=(3, 3), stride=(1, 1), padding=(1, 1))\n",
              "    (3): ReLU(inplace=True)\n",
              "    (4): MaxPool2d(kernel_size=2, stride=2, padding=0, dilation=1, ceil_mode=False)\n",
              "    (5): Conv2d(64, 128, kernel_size=(3, 3), stride=(1, 1), padding=(1, 1))\n",
              "    (6): ReLU(inplace=True)\n",
              "    (7): Conv2d(128, 128, kernel_size=(3, 3), stride=(1, 1), padding=(1, 1))\n",
              "    (8): ReLU(inplace=True)\n",
              "    (9): MaxPool2d(kernel_size=2, stride=2, padding=0, dilation=1, ceil_mode=False)\n",
              "    (10): Conv2d(128, 256, kernel_size=(3, 3), stride=(1, 1), padding=(1, 1))\n",
              "    (11): ReLU(inplace=True)\n",
              "    (12): Conv2d(256, 256, kernel_size=(3, 3), stride=(1, 1), padding=(1, 1))\n",
              "    (13): ReLU(inplace=True)\n",
              "    (14): Conv2d(256, 256, kernel_size=(3, 3), stride=(1, 1), padding=(1, 1))\n",
              "    (15): ReLU(inplace=True)\n",
              "    (16): MaxPool2d(kernel_size=2, stride=2, padding=0, dilation=1, ceil_mode=False)\n",
              "    (17): Conv2d(256, 512, kernel_size=(3, 3), stride=(1, 1), padding=(1, 1))\n",
              "    (18): ReLU(inplace=True)\n",
              "    (19): Conv2d(512, 512, kernel_size=(3, 3), stride=(1, 1), padding=(1, 1))\n",
              "    (20): ReLU(inplace=True)\n",
              "    (21): Conv2d(512, 512, kernel_size=(3, 3), stride=(1, 1), padding=(1, 1))\n",
              "    (22): ReLU(inplace=True)\n",
              "    (23): MaxPool2d(kernel_size=2, stride=2, padding=0, dilation=1, ceil_mode=False)\n",
              "    (24): Conv2d(512, 512, kernel_size=(3, 3), stride=(1, 1), padding=(1, 1))\n",
              "    (25): ReLU(inplace=True)\n",
              "    (26): Conv2d(512, 512, kernel_size=(3, 3), stride=(1, 1), padding=(1, 1))\n",
              "    (27): ReLU(inplace=True)\n",
              "    (28): Conv2d(512, 512, kernel_size=(3, 3), stride=(1, 1), padding=(1, 1))\n",
              "    (29): ReLU(inplace=True)\n",
              "    (30): MaxPool2d(kernel_size=2, stride=2, padding=0, dilation=1, ceil_mode=False)\n",
              "  )\n",
              "  (avgpool): AdaptiveAvgPool2d(output_size=(7, 7))\n",
              "  (classifier): Sequential(\n",
              "    (0): Linear(in_features=25088, out_features=4096, bias=True)\n",
              "    (1): ReLU(inplace=True)\n",
              "    (2): Dropout(p=0.5, inplace=False)\n",
              "    (3): Linear(in_features=4096, out_features=4096, bias=True)\n",
              "    (4): ReLU(inplace=True)\n",
              "    (5): Dropout(p=0.5, inplace=False)\n",
              "    (6): Linear(in_features=4096, out_features=1024, bias=True)\n",
              "    (7): ReLU(inplace=True)\n",
              "    (8): Dropout(p=0.5, inplace=False)\n",
              "    (9): Linear(in_features=1024, out_features=10, bias=True)\n",
              "  )\n",
              ")"
            ]
          },
          "metadata": {
            "tags": []
          },
          "execution_count": 12
        }
      ]
    },
    {
      "cell_type": "code",
      "metadata": {
        "colab": {
          "base_uri": "https://localhost:8080/"
        },
        "id": "Rw4MyLluIkKr",
        "outputId": "701e88f9-b20a-4198-be89-9b91e5dd5aa0"
      },
      "source": [
        "# vgg16.to(torch.device(\"cuda\"))\n",
        "vgg16.load_state_dict(torch.load(f'{dir}/vgg16_my_3_cpu'))\n",
        "# vgg16.to(torch.device(\"cpu\"))\n",
        "# torch.save(vgg16.state_dict(), f'{dir}/vgg16_my_100_cpu')"
      ],
      "execution_count": null,
      "outputs": [
        {
          "output_type": "execute_result",
          "data": {
            "text/plain": [
              "<All keys matched successfully>"
            ]
          },
          "metadata": {
            "tags": []
          },
          "execution_count": 13
        }
      ]
    },
    {
      "cell_type": "code",
      "metadata": {
        "id": "_29qoVEVI0Fe"
      },
      "source": [
        "# train1 = open(f'{dir}training_loss',\"rb\")\n",
        "# valid1 = open(f'{dir}validation_loss',\"rb\")\n",
        "\n",
        "# training_loss = pickle.load(train1)\n",
        "# validation_loss = pickle.load(valid1)\n",
        "# train1.close()\n",
        "# valid1.close()"
      ],
      "execution_count": null,
      "outputs": []
    },
    {
      "cell_type": "code",
      "metadata": {
        "id": "sXmJCsPXexrQ"
      },
      "source": [
        "loss_function = NN.CrossEntropyLoss()\n",
        "solver = torch.optim.Adam(vgg16.parameters(), lr=0.0001)\n",
        "gpu_cpu = torch.device(\"cuda\" if torch.cuda.is_available() else \"cpu\")"
      ],
      "execution_count": null,
      "outputs": []
    },
    {
      "cell_type": "code",
      "metadata": {
        "id": "Oz0Zam_IfagB"
      },
      "source": [
        "import numpy as np\n",
        "from tqdm import  tqdm_notebook"
      ],
      "execution_count": null,
      "outputs": []
    },
    {
      "cell_type": "code",
      "metadata": {
        "id": "dfx33T7WbbCC"
      },
      "source": [
        "# vgg16.to(gpu_cpu)\n",
        "# training_loss = []\n",
        "# validation_loss = []\n",
        "for epoch in tqdm_notebook(range(100)):\n",
        "  loss = np.zeros(len(train_loaded))\n",
        "  valid_loss = np.zeros(len(valid_loaded))\n",
        "  \n",
        "  for count,batch in enumerate(train_loaded):\n",
        "    # print(batch[0].shape)\n",
        "    X = batch[0]\n",
        "    X = X.to(gpu_cpu)\n",
        "    y = batch[1]\n",
        "    y = y.to(gpu_cpu)\n",
        "\n",
        "    predictions = vgg16(X)\n",
        "    cur_loss = loss_function(predictions,y)\n",
        "    loss[count] = cur_loss.item()\n",
        "    solver.zero_grad()\n",
        "    cur_loss.backward()\n",
        "    solver.step()\n",
        "  vgg16.eval()\n",
        "  count=0\n",
        "  for count,val_batch in enumerate(valid_loaded):\n",
        "    X = val_batch[0]\n",
        "    X = X.to(gpu_cpu)\n",
        "    y = val_batch[1]\n",
        "    y = y.to(gpu_cpu)\n",
        "    predictions = vgg16(X)\n",
        "    cur_loss = loss_function(predictions,y)\n",
        "    valid_loss[count] = cur_loss.item()   \n",
        "  vgg16.train()\n",
        "  # print(loss)\n",
        "  # print(valid_loss)\n",
        "  print(f\"Epoch {epoch} : Loss : {loss.mean()}\")\n",
        "  print(f\"Epoch {epoch} : Loss : {valid_loss.mean()}\")\n",
        "  training_loss.append(loss.mean())\n",
        "  validation_loss.append(valid_loss.mean()) \n",
        "  if(count % 20 ==0):\n",
        "    train = open(f'{dir}training_loss{count}',\"wb\")\n",
        "    valid = open(f'{dir}validation_loss{count}',\"wb\")\n",
        "\n",
        "    pickle.dump(training_loss,train)\n",
        "    pickle.dump(validation_loss,valid)\n",
        "    train.close()\n",
        "    valid.close()\n",
        "    torch.save(vgg16.state_dict(), f'{dir}/vgg16_my_{count}')\n",
        "    plt.figure(figsize=(6,6))\n",
        "    plt.plot(range(len(training_loss)), training_loss, label = \"Training  Loss\")\n",
        "    plt.plot(range(len(validation_loss)), validation_loss, label = \"Validation  Loss\" )\n",
        "    plt.xlabel('Number of Iterations')\n",
        "    plt.ylabel('Loss')\n",
        "    plt.legend()\n",
        "    plt.savefig(f\"{dir}my_vg16_{count}.png\")\n"
      ],
      "execution_count": null,
      "outputs": []
    },
    {
      "cell_type": "code",
      "metadata": {
        "colab": {
          "base_uri": "https://localhost:8080/"
        },
        "id": "IGLaR21Uz459",
        "outputId": "44ca1e69-4c90-4441-e09e-e7e3105cf3b4"
      },
      "source": [
        "ls \"/content/drive/MyDrive/IIITD/Winter 2021/ML/my_vgg16/\""
      ],
      "execution_count": null,
      "outputs": [
        {
          "output_type": "stream",
          "text": [
            "my_vg162.png  training_loss   validation_loss   vgg16_my\n",
            "my_vg163.png  training_loss2  validation_loss2  vgg16_my2\n",
            "my_vg16.png   training_loss3  validation_loss3  vgg16_my3\n"
          ],
          "name": "stdout"
        }
      ]
    },
    {
      "cell_type": "code",
      "metadata": {
        "id": "ki9SP1pS-1CD"
      },
      "source": [
        "import pickle\n",
        "train = open(f'{dir}training_loss_100',\"wb\")\n",
        "valid = open(f'{dir}validation_loss_100',\"wb\")\n",
        "\n",
        "pickle.dump(training_loss,train)\n",
        "pickle.dump(validation_loss,valid)\n",
        "train.close()\n",
        "valid.close()"
      ],
      "execution_count": null,
      "outputs": []
    },
    {
      "cell_type": "code",
      "metadata": {
        "id": "8ykF64dQzyqY"
      },
      "source": [
        "torch.save(vgg16.state_dict(), f'{dir}/vgg16_my_100')"
      ],
      "execution_count": null,
      "outputs": []
    },
    {
      "cell_type": "code",
      "metadata": {
        "id": "5xRsscHlaoMG"
      },
      "source": [
        "def get_predictions(loaded_data, vgg16):\n",
        "    vgg16.eval()\n",
        "    predicted_labels = []\n",
        "    original_labels = []\n",
        "    with torch.no_grad():\n",
        "        for x, y in tqdm_notebook(loaded_data):\n",
        "          original_labels.extend(y)\n",
        "          x = x.to(device=gpu_cpu)\n",
        "          y = y.to(device=gpu_cpu)\n",
        "          y_pred_probab = vgg16(x)\n",
        "          y_pred = torch.max(y_pred_probab,1)[1]\n",
        "          predicted_labels.extend(y_pred)\n",
        "    vgg16.train()\n",
        "    return(original_labels,predicted_labels)\n"
      ],
      "execution_count": null,
      "outputs": []
    },
    {
      "cell_type": "code",
      "metadata": {
        "id": "Y-aNmwjVXc4I",
        "colab": {
          "base_uri": "https://localhost:8080/",
          "height": 117,
          "referenced_widgets": [
            "8f4e7398ea194073befac289b4e533ea",
            "9f765b1514e143638dd571438cd959e6",
            "b94c2f1cb40846008d01c2dbeb378ed7",
            "901c51b139b04ce1a20254f4c182a832",
            "b3a9180cea15416ea6eaa9643ecf9d3d",
            "846e2468017547aaab6fba694c3bb86f",
            "2d25bcd5b7994264b38cef73e8267aeb",
            "450b7a18fba5407c828a9401bcc5197d"
          ]
        },
        "outputId": "98250df1-b310-46b7-c0f1-b2d6a0324926"
      },
      "source": [
        "y_orig,y_pred = get_predictions(test_loaded,vgg16)"
      ],
      "execution_count": null,
      "outputs": [
        {
          "output_type": "stream",
          "text": [
            "/usr/local/lib/python3.7/dist-packages/ipykernel_launcher.py:6: TqdmDeprecationWarning: This function will be removed in tqdm==5.0.0\n",
            "Please use `tqdm.notebook.tqdm` instead of `tqdm.tqdm_notebook`\n",
            "  \n"
          ],
          "name": "stderr"
        },
        {
          "output_type": "display_data",
          "data": {
            "application/vnd.jupyter.widget-view+json": {
              "model_id": "8f4e7398ea194073befac289b4e533ea",
              "version_minor": 0,
              "version_major": 2
            },
            "text/plain": [
              "HBox(children=(FloatProgress(value=0.0, max=79.0), HTML(value='')))"
            ]
          },
          "metadata": {
            "tags": []
          }
        },
        {
          "output_type": "stream",
          "text": [
            "\n"
          ],
          "name": "stdout"
        }
      ]
    },
    {
      "cell_type": "code",
      "metadata": {
        "colab": {
          "base_uri": "https://localhost:8080/",
          "height": 404
        },
        "id": "6bF3mhPPjxnk",
        "outputId": "be76fb03-58ad-4d2c-fb2f-542e4c727027"
      },
      "source": [
        "from sklearn.metrics import confusion_matrix\n",
        "import seaborn as sns\n",
        "import matplotlib.pyplot as plt\n",
        "plt.figure(figsize=(10,6))\n",
        "sns.heatmap(confusion_matrix(y_orig, y_pred), annot=True,cmap=\"Blues\")\n",
        "plt.xlabel(\"Predicted Lables\")\n",
        "plt.ylabel(\"Actual Lables\")\n",
        "plt.title(\"Confusion Matrix\")\n",
        "plt.savefig(\"Confusion_matrix\")\n",
        "plt.show()"
      ],
      "execution_count": 53,
      "outputs": [
        {
          "output_type": "display_data",
          "data": {
            "image/png": "[encoded data removed]",
            "text/plain": [
              "<Figure size 720x432 with 2 Axes>"
            ]
          },
          "metadata": {
            "tags": [],
            "needs_background": "light"
          }
        }
      ]
    },
    {
      "cell_type": "code",
      "metadata": {
        "id": "-2AZ8OzGj4aj"
      },
      "source": [
        "from sklearn.metrics import multilabel_confusion_matrix\n",
        "class_wise_confu_matrix = multilabel_confusion_matrix(y_orig, y_pred,labels=[0,1,2,3,4,5,6,7,8,9])"
      ],
      "execution_count": 27,
      "outputs": []
    },
    {
      "cell_type": "code",
      "metadata": {
        "colab": {
          "base_uri": "https://localhost:8080/",
          "height": 1000
        },
        "id": "TOMptCGhreLW",
        "outputId": "454318c1-a289-44ae-ece5-f7898a4104bc"
      },
      "source": [
        "target_names=[\"airplane\",\"automobile\",\"bird\",\"cat\",\"deer\",\"dog\",\"frog\",\"horse\",\"ship\",\"truck\"]\n",
        "for count,i in enumerate(class_wise_confu_matrix):\n",
        "  sns.heatmap(i, annot=True,cmap=\"Blues\")\n",
        "  plt.xlabel(\"Predicted Lables\")\n",
        "  plt.ylabel(\"Actual Lables\")\n",
        "  plt.title(f\"Confusion Matrix {target_names[count]}\")\n",
        "  plt.savefig(f\"Confusion_matrix_{target_names[count]}\")\n",
        "  plt.show()"
      ],
      "execution_count": 58,
      "outputs": [
        {
          "output_type": "display_data",
          "data": {
            "image/png": "[encoded data removed]",
            "text/plain": [
              "<Figure size 432x288 with 2 Axes>"
            ]
          },
          "metadata": {
            "tags": [],
            "needs_background": "light"
          }
        },
        {
          "output_type": "display_data",
          "data": {
            "image/png": "[encoded data removed]",
            "text/plain": [
              "<Figure size 432x288 with 2 Axes>"
            ]
          },
          "metadata": {
            "tags": [],
            "needs_background": "light"
          }
        },
        {
          "output_type": "display_data",
          "data": {
            "image/png": "[encoded data removed]",
            "text/plain": [
              "<Figure size 432x288 with 2 Axes>"
            ]
          },
          "metadata": {
            "tags": [],
            "needs_background": "light"
          }
        },
        {
          "output_type": "display_data",
          "data": {
            "image/png": "[encoded data removed]",
            "text/plain": [
              "<Figure size 432x288 with 2 Axes>"
            ]
          },
          "metadata": {
            "tags": [],
            "needs_background": "light"
          }
        },
        {
          "output_type": "display_data",
          "data": {
            "image/png": "[encoded data removed]",
            "text/plain": [
              "<Figure size 432x288 with 2 Axes>"
            ]
          },
          "metadata": {
            "tags": [],
            "needs_background": "light"
          }
        },
        {
          "output_type": "display_data",
          "data": {
            "image/png": "[encoded data removed]",
            "text/plain": [
              "<Figure size 432x288 with 2 Axes>"
            ]
          },
          "metadata": {
            "tags": [],
            "needs_background": "light"
          }
        },
        {
          "output_type": "display_data",
          "data": {
            "image/png": "[encoded data removed]",
            "text/plain": [
              "<Figure size 432x288 with 2 Axes>"
            ]
          },
          "metadata": {
            "tags": [],
            "needs_background": "light"
          }
        },
        {
          "output_type": "display_data",
          "data": {
            "image/png": "[encoded data removed]",
            "text/plain": [
              "<Figure size 432x288 with 2 Axes>"
            ]
          },
          "metadata": {
            "tags": [],
            "needs_background": "light"
          }
        },
        {
          "output_type": "display_data",
          "data": {
            "image/png": "[encoded data removed]",
            "text/plain": [
              "<Figure size 432x288 with 2 Axes>"
            ]
          },
          "metadata": {
            "tags": [],
            "needs_background": "light"
          }
        },
        {
          "output_type": "display_data",
          "data": {
            "image/png": "[encoded data removed]",
            "text/plain": [
              "<Figure size 432x288 with 2 Axes>"
            ]
          },
          "metadata": {
            "tags": [],
            "needs_background": "light"
          }
        }
      ]
    },
    {
      "cell_type": "code",
      "metadata": {
        "colab": {
          "base_uri": "https://localhost:8080/"
        },
        "id": "kfrbhhTNrf-O",
        "outputId": "d0aa67fe-ed9f-425a-fee4-998d4cf4c57e"
      },
      "source": [
        "for count,i in enumerate(class_wise_confu_matrix): \n",
        "  print(\"Class\",target_names[count],\":\",(i[1][1])/1000)"
      ],
      "execution_count": 61,
      "outputs": [
        {
          "output_type": "stream",
          "text": [
            "Class airplane : 0.885\n",
            "Class automobile : 0.969\n",
            "Class bird : 0.839\n",
            "Class cat : 0.679\n",
            "Class deer : 0.849\n",
            "Class dog : 0.837\n",
            "Class frog : 0.934\n",
            "Class horse : 0.862\n",
            "Class ship : 0.913\n",
            "Class truck : 0.904\n"
          ],
          "name": "stdout"
        }
      ]
    },
    {
      "cell_type": "code",
      "metadata": {
        "colab": {
          "base_uri": "https://localhost:8080/"
        },
        "id": "MVsIhMin0zU5",
        "outputId": "ea8e8ce4-ac00-4480-8e52-34a5849e0425"
      },
      "source": [
        "for count,i in enumerate(class_wise_confu_matrix): \n",
        "  print((i[1][1])/1000,end=\",\")"
      ],
      "execution_count": 64,
      "outputs": [
        {
          "output_type": "stream",
          "text": [
            "0.885,0.969,0.839,0.679,0.849,0.837,0.934,0.862,0.913,0.904,"
          ],
          "name": "stdout"
        }
      ]
    },
    {
      "cell_type": "code",
      "metadata": {
        "colab": {
          "base_uri": "https://localhost:8080/"
        },
        "id": "VYD_la3KkkGj",
        "outputId": "b710e743-09fc-4897-fcd8-08774c610e16"
      },
      "source": [
        "from sklearn.metrics import classification_report\n",
        "print(classification_report(y_orig, y_pred, target_names=[\"airplane\",\"automobile\",\"bird\",\"cat\",\"deer\",\"dog\",\"frog\",\"horse\",\"ship\",\"truck\"]))"
      ],
      "execution_count": 26,
      "outputs": [
        {
          "output_type": "stream",
          "text": [
            "              precision    recall  f1-score   support\n",
            "\n",
            "    airplane       0.89      0.89      0.89      1000\n",
            "  automobile       0.85      0.97      0.90      1000\n",
            "        bird       0.85      0.84      0.85      1000\n",
            "         cat       0.81      0.68      0.74      1000\n",
            "        deer       0.83      0.85      0.84      1000\n",
            "         dog       0.81      0.84      0.82      1000\n",
            "        frog       0.84      0.93      0.89      1000\n",
            "       horse       0.91      0.86      0.89      1000\n",
            "        ship       0.94      0.91      0.92      1000\n",
            "       truck       0.95      0.90      0.93      1000\n",
            "\n",
            "    accuracy                           0.87     10000\n",
            "   macro avg       0.87      0.87      0.87     10000\n",
            "weighted avg       0.87      0.87      0.87     10000\n",
            "\n"
          ],
          "name": "stdout"
        }
      ]
    },
    {
      "cell_type": "code",
      "metadata": {
        "colab": {
          "base_uri": "https://localhost:8080/"
        },
        "id": "WxHvoBPSoTOs",
        "outputId": "2ccfcfc4-084e-45df-e332-4d43bbde375a"
      },
      "source": [
        "from sklearn.metrics import accuracy_score\n",
        "accuracy_score(y_orig, y_pred)"
      ],
      "execution_count": null,
      "outputs": [
        {
          "output_type": "execute_result",
          "data": {
            "text/plain": [
              "0.8671"
            ]
          },
          "metadata": {
            "tags": []
          },
          "execution_count": 24
        }
      ]
    },
    {
      "cell_type": "code",
      "metadata": {
        "id": "TVmGx6xIpQ0q"
      },
      "source": [
        "import pickle\n",
        "y_orig_ptr = open(f'{dir}y_orig_3',\"wb\")\n",
        "y_pred_ptr = open(f'{dir}y_pred_3',\"wb\")\n",
        "\n",
        "pickle.dump(y_orig,y_orig_ptr)\n",
        "pickle.dump(y_pred,y_pred_ptr)\n",
        "y_orig_ptr.close()\n",
        "y_pred_ptr.close()"
      ],
      "execution_count": null,
      "outputs": []
    },
    {
      "cell_type": "code",
      "metadata": {
        "id": "yDyQuvdkjUs3"
      },
      "source": [
        "torch.save(vgg16.state_dict(), f'{dir}/vgg16_my')"
      ],
      "execution_count": null,
      "outputs": []
    },
    {
      "cell_type": "code",
      "metadata": {
        "colab": {
          "base_uri": "https://localhost:8080/"
        },
        "id": "sChTNXVHh6G7",
        "outputId": "44f55263-b634-4f28-bfac-57ae7c3a8f57"
      },
      "source": [
        "vgg16_new = torchvision.models.vgg16(pretrained=True)\n",
        "vgg16_new.classifier[6] = NN.Linear(4096,10)\n",
        "vgg16_new.load_state_dict(torch.load(\"./saved_model\"))\n"
      ],
      "execution_count": null,
      "outputs": [
        {
          "output_type": "execute_result",
          "data": {
            "text/plain": [
              "<All keys matched successfully>"
            ]
          },
          "metadata": {
            "tags": []
          },
          "execution_count": 71
        }
      ]
    },
    {
      "cell_type": "code",
      "metadata": {
        "id": "OGrBxBOX_Wnd"
      },
      "source": [
        "train1 = open(f'{dir}training_loss',\"rb\")\n",
        "valid1 = open(f'{dir}validation_loss',\"rb\")\n",
        "\n",
        "a = pickle.load(train1)\n",
        "b= pickle.load(valid1)\n",
        "train1.close()\n",
        "valid1.close()"
      ],
      "execution_count": null,
      "outputs": []
    },
    {
      "cell_type": "code",
      "metadata": {
        "colab": {
          "base_uri": "https://localhost:8080/",
          "height": 388
        },
        "id": "slUkiElFmbmH",
        "outputId": "98e7b8b3-9ca0-4708-b087-6477c3c3f765"
      },
      "source": [
        "import matplotlib.pyplot as plt\n",
        "plt.figure(figsize=(6,6))\n",
        "plt.plot(range(len(training_loss)), training_loss, label = \"Training  Loss\")\n",
        "plt.plot(range(len(validation_loss)), validation_loss, label = \"Validation  Loss\" )\n",
        "plt.xlabel('Number of Iterations')\n",
        "plt.ylabel('Loss')\n",
        "plt.legend()\n",
        "plt.savefig(f\"{dir}my_vg16_100.png\")"
      ],
      "execution_count": null,
      "outputs": [
        {
          "output_type": "display_data",
          "data": {
            "image/png": "[encoded data removed]",
            "text/plain": [
              "<Figure size 432x432 with 1 Axes>"
            ]
          },
          "metadata": {
            "tags": [],
            "needs_background": "light"
          }
        }
      ]
    },
    {
      "cell_type": "code",
      "metadata": {
        "id": "3uS-rbuS0UR7"
      },
      "source": [
        ""
      ],
      "execution_count": null,
      "outputs": []
    }
  ]
}