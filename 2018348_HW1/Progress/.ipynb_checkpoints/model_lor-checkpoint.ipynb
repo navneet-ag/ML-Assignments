{
 "cells": [
  {
   "cell_type": "code",
   "execution_count": 1,
   "metadata": {},
   "outputs": [],
   "source": [
    "import numpy as np\n",
    "import pandas as pd"
   ]
  },
  {
   "cell_type": "code",
   "execution_count": 2,
   "metadata": {},
   "outputs": [],
   "source": [
    "class LogisticRegression:\n",
    "    \n",
    "    def __init__(self,n_iter = 1000,l_rate = 0.1):\n",
    "        self.n_iter = n_iter   # Number of iterations for gradient descent\n",
    "        self.l_rate = l_rate  # Learning rate to be used\n",
    "        self.wt     = None    # Weights for a particular class instance / Regressor\n",
    "        self.b      = None    # Bias for a particular class instance / Regressor\n",
    "    \n",
    "    def sigmoid(self, Z):\n",
    "        '''\n",
    "        Implementation of Sigmoid function , which will be used while predicting y for a particular\n",
    "        data point.\n",
    "        '''\n",
    "        return (1/ (1+ np.exp(-Z) ) )\n",
    "        \n",
    "    def fit(self,X,Y):\n",
    "\n",
    "        n_samples  = X.shape[0] # Variable to store the number of samples in the given training sample\n",
    "        n_features = X.shape[1] # Variable to store the number of features in the given training sample\n",
    "        \n",
    "        print(n_samples,n_features)\n",
    "        \n",
    "        self.wt = np.zeros(n_samples)\n",
    "        self.b  = 0\n",
    "        \n",
    "        for iter_ in range(self.n_iter):\n",
    "            \n",
    "            Z = np.dot(X,self.wt) + b\n",
    "            y_pred = self.sigmoid(Z)\n",
    "            \n",
    "            self.wt += self.l_rate *((np.dot(X.T,y-y_pred))/n_samples)\n",
    "            self.b  += self.l_rate *((np.sum(y-y_pred))/n_samples)\n",
    "        \n",
    "    def predict(self,X):\n",
    "        Z = np.dot(X,self.wt) + b\n",
    "        y_pred = self.sigmoid(Z)\n",
    "        return y_pred\n",
    "    \n",
    "        "
   ]
  },
  {
   "cell_type": "code",
   "execution_count": null,
   "metadata": {},
   "outputs": [],
   "source": []
  }
 ],
 "metadata": {
  "kernelspec": {
   "display_name": "Python 3",
   "language": "python",
   "name": "python3"
  },
  "language_info": {
   "codemirror_mode": {
    "name": "ipython",
    "version": 3
   },
   "file_extension": ".py",
   "mimetype": "text/x-python",
   "name": "python",
   "nbconvert_exporter": "python",
   "pygments_lexer": "ipython3",
   "version": "3.8.5"
  }
 },
 "nbformat": 4,
 "nbformat_minor": 4
}
